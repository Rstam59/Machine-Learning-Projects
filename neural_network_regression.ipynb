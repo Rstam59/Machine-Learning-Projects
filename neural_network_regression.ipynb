{
  "nbformat": 4,
  "nbformat_minor": 0,
  "metadata": {
    "colab": {
      "name": "01_neural_network_regression.ipynb",
      "provenance": [],
      "collapsed_sections": []
    },
    "kernelspec": {
      "name": "python3",
      "display_name": "Python 3"
    },
    "language_info": {
      "name": "python"
    },
    "accelerator": "GPU"
  },
  "cells": [
    {
      "cell_type": "code",
      "metadata": {
        "id": "wuSn49fQTPao"
      },
      "source": [
        ""
      ],
      "execution_count": null,
      "outputs": []
    },
    {
      "cell_type": "code",
      "metadata": {
        "id": "7mu-SG-J7ERD"
      },
      "source": [
        ""
      ],
      "execution_count": null,
      "outputs": []
    },
    {
      "cell_type": "code",
      "metadata": {
        "colab": {
          "base_uri": "https://localhost:8080/"
        },
        "id": "vhmk3nm_J9EH",
        "outputId": "7f499884-fcd3-448a-9b1c-92ead192b112"
      },
      "source": [
        "import tensorflow as tf\n",
        "print(tf.__version__)"
      ],
      "execution_count": null,
      "outputs": [
        {
          "output_type": "stream",
          "name": "stdout",
          "text": [
            "2.7.0\n"
          ]
        }
      ]
    },
    {
      "cell_type": "code",
      "metadata": {
        "id": "mh4lJQqXKskE"
      },
      "source": [
        "import matplotlib.pyplot as plt\n",
        "import numpy as np\n"
      ],
      "execution_count": null,
      "outputs": []
    },
    {
      "cell_type": "code",
      "metadata": {
        "colab": {
          "base_uri": "https://localhost:8080/"
        },
        "id": "6yPkVJArSMn8",
        "outputId": "c3f0eec6-cb47-4e36-83cd-13ffa214b012"
      },
      "source": [
        "X = np.array([-7, -4, -1, 2, 5, 8, 11, 14]).astype('float32')\n",
        "y = np.array([3, 6, 9, 12, 15, 18, 21, 24]).astype('float32')\n",
        "X, y"
      ],
      "execution_count": null,
      "outputs": [
        {
          "output_type": "execute_result",
          "data": {
            "text/plain": [
              "(array([-7., -4., -1.,  2.,  5.,  8., 11., 14.], dtype=float32),\n",
              " array([ 3.,  6.,  9., 12., 15., 18., 21., 24.], dtype=float32))"
            ]
          },
          "metadata": {},
          "execution_count": 87
        }
      ]
    },
    {
      "cell_type": "code",
      "metadata": {
        "colab": {
          "base_uri": "https://localhost:8080/",
          "height": 269
        },
        "id": "G-DI08RFUFGb",
        "outputId": "faaee034-f51c-431e-e669-e51a4d472214"
      },
      "source": [
        "plt.scatter(X, y);"
      ],
      "execution_count": null,
      "outputs": [
        {
          "output_type": "display_data",
          "data": {
            "image/png": "[encoded data removed]",
            "text/plain": [
              "<Figure size 432x288 with 1 Axes>"
            ]
          },
          "metadata": {
            "needs_background": "light"
          }
        }
      ]
    },
    {
      "cell_type": "code",
      "metadata": {
        "colab": {
          "base_uri": "https://localhost:8080/"
        },
        "id": "v-qWR-_MUMpL",
        "outputId": "36a84318-21fc-4b0b-abe5-d9e0f0e79bed"
      },
      "source": [
        "y == X + 10"
      ],
      "execution_count": null,
      "outputs": [
        {
          "output_type": "execute_result",
          "data": {
            "text/plain": [
              "array([ True,  True,  True,  True,  True,  True,  True,  True])"
            ]
          },
          "metadata": {},
          "execution_count": 89
        }
      ]
    },
    {
      "cell_type": "code",
      "metadata": {
        "colab": {
          "base_uri": "https://localhost:8080/",
          "height": 286
        },
        "id": "zLihC7w9Ux4J",
        "outputId": "bbfdc4f4-9856-46b1-90ce-d4bfbcd0c9e6"
      },
      "source": [
        "fig, ax = plt.subplots()\n",
        "ax.scatter(X, y)"
      ],
      "execution_count": null,
      "outputs": [
        {
          "output_type": "execute_result",
          "data": {
            "text/plain": [
              "<matplotlib.collections.PathCollection at 0x7f3c7d678650>"
            ]
          },
          "metadata": {},
          "execution_count": 90
        },
        {
          "output_type": "display_data",
          "data": {
            "image/png": "[encoded data removed]",
            "text/plain": [
              "<Figure size 432x288 with 1 Axes>"
            ]
          },
          "metadata": {
            "needs_background": "light"
          }
        }
      ]
    },
    {
      "cell_type": "code",
      "metadata": {
        "colab": {
          "base_uri": "https://localhost:8080/"
        },
        "id": "n1deH9FFU4rM",
        "outputId": "e2c2a182-4536-489f-ac9d-475ee6f9a6f9"
      },
      "source": [
        "X = tf.constant(X)\n",
        "y = tf.constant(y)\n",
        "X, y"
      ],
      "execution_count": null,
      "outputs": [
        {
          "output_type": "execute_result",
          "data": {
            "text/plain": [
              "(<tf.Tensor: shape=(8,), dtype=float32, numpy=array([-7., -4., -1.,  2.,  5.,  8., 11., 14.], dtype=float32)>,\n",
              " <tf.Tensor: shape=(8,), dtype=float32, numpy=array([ 3.,  6.,  9., 12., 15., 18., 21., 24.], dtype=float32)>)"
            ]
          },
          "metadata": {},
          "execution_count": 91
        }
      ]
    },
    {
      "cell_type": "code",
      "metadata": {
        "colab": {
          "base_uri": "https://localhost:8080/"
        },
        "id": "1v-g2d5c-oRs",
        "outputId": "5c56604f-4055-4499-c13e-d6a80cd48dc9"
      },
      "source": [
        "X.dtype"
      ],
      "execution_count": null,
      "outputs": [
        {
          "output_type": "execute_result",
          "data": {
            "text/plain": [
              "tf.float32"
            ]
          },
          "metadata": {},
          "execution_count": 92
        }
      ]
    },
    {
      "cell_type": "code",
      "metadata": {
        "id": "K600zzIZ7tnl"
      },
      "source": [
        "X = np.expand_dims(X, axis=1)"
      ],
      "execution_count": null,
      "outputs": []
    },
    {
      "cell_type": "code",
      "metadata": {
        "id": "6IN-i1fJeJWi",
        "colab": {
          "base_uri": "https://localhost:8080/"
        },
        "outputId": "c73018f7-5656-4c36-9f67-b5dca2451568"
      },
      "source": [
        "tf.random.set_seed(42)\n",
        "\n",
        "model = tf.keras.Sequential([\n",
        "      tf.keras.layers.Dense(2),\n",
        "      tf.keras.layers.Dense(2)\n",
        "])\n",
        "\n",
        "model.compile(loss = tf.keras.losses.mae,\n",
        "              optimizer = tf.keras.optimizers.SGD(),  #Or shortly optimezer = 'sgd'\n",
        "               metrics = ['mae']) \n",
        "\n",
        "model.fit(X, y, epochs = 5)"
      ],
      "execution_count": null,
      "outputs": [
        {
          "output_type": "stream",
          "name": "stdout",
          "text": [
            "Epoch 1/5\n",
            "1/1 [==============================] - 0s 367ms/step - loss: 13.2871 - mae: 13.2871\n",
            "Epoch 2/5\n",
            "1/1 [==============================] - 0s 7ms/step - loss: 13.2544 - mae: 13.2544\n",
            "Epoch 3/5\n",
            "1/1 [==============================] - 0s 13ms/step - loss: 13.2211 - mae: 13.2211\n",
            "Epoch 4/5\n",
            "1/1 [==============================] - 0s 10ms/step - loss: 13.1872 - mae: 13.1872\n",
            "Epoch 5/5\n",
            "1/1 [==============================] - 0s 10ms/step - loss: 13.1524 - mae: 13.1524\n"
          ]
        },
        {
          "output_type": "execute_result",
          "data": {
            "text/plain": [
              "<keras.callbacks.History at 0x7f3c7d66bad0>"
            ]
          },
          "metadata": {},
          "execution_count": 94
        }
      ]
    },
    {
      "cell_type": "code",
      "metadata": {
        "id": "JfJhi4SXB4s4",
        "colab": {
          "base_uri": "https://localhost:8080/"
        },
        "outputId": "804f1d8e-d010-49f5-e8cb-b030215a0109"
      },
      "source": [
        "X"
      ],
      "execution_count": null,
      "outputs": [
        {
          "output_type": "execute_result",
          "data": {
            "text/plain": [
              "array([[-7.],\n",
              "       [-4.],\n",
              "       [-1.],\n",
              "       [ 2.],\n",
              "       [ 5.],\n",
              "       [ 8.],\n",
              "       [11.],\n",
              "       [14.]], dtype=float32)"
            ]
          },
          "metadata": {},
          "execution_count": 95
        }
      ]
    },
    {
      "cell_type": "code",
      "metadata": {
        "id": "_6ZfYeZd7ip-",
        "colab": {
          "base_uri": "https://localhost:8080/"
        },
        "outputId": "39e36f41-b4dd-4f0d-b605-2a9767ca69c4"
      },
      "source": [
        "model.predict([1000000.])"
      ],
      "execution_count": null,
      "outputs": [
        {
          "output_type": "execute_result",
          "data": {
            "text/plain": [
              "array([[119828.27,  81833.23]], dtype=float32)"
            ]
          },
          "metadata": {},
          "execution_count": 96
        }
      ]
    },
    {
      "cell_type": "code",
      "metadata": {
        "id": "tR6_GRGCBfFH"
      },
      "source": [
        "model = tf.keras.Sequential([\n",
        "    tf.keras.layers.Dense(1)\n",
        "])\n",
        "\n",
        "model.compile(loss = tf.keras.losses.mae,\n",
        "              optimizer = tf.keras.optimizers.SGD(),\n",
        "              metrics = ['mae'])"
      ],
      "execution_count": null,
      "outputs": []
    },
    {
      "cell_type": "code",
      "metadata": {
        "id": "RilzGq8qnD16",
        "colab": {
          "base_uri": "https://localhost:8080/"
        },
        "outputId": "18c06a78-cb05-460c-ee5c-d4a7a2d53141"
      },
      "source": [
        "model = tf.keras.Sequential([\n",
        "      tf.keras.layers.Dense(100, activation=None),\n",
        "      tf.keras.layers.Dense(1)\n",
        "])\n",
        "\n",
        "model.compile(loss = 'mae',\n",
        "              optimizer = tf.keras.optimizers.Adam(lr = 0.01),\n",
        "              metrics = ['mae'])\n",
        "\n",
        "\n",
        "model.fit(X, y, epochs = 100)"
      ],
      "execution_count": null,
      "outputs": [
        {
          "output_type": "stream",
          "name": "stderr",
          "text": [
            "/usr/local/lib/python3.7/dist-packages/keras/optimizer_v2/adam.py:105: UserWarning: The `lr` argument is deprecated, use `learning_rate` instead.\n",
            "  super(Adam, self).__init__(name, **kwargs)\n"
          ]
        },
        {
          "output_type": "stream",
          "name": "stdout",
          "text": [
            "Epoch 1/100\n",
            "1/1 [==============================] - 0s 446ms/step - loss: 12.0109 - mae: 12.0109\n",
            "Epoch 2/100\n",
            "1/1 [==============================] - 0s 8ms/step - loss: 11.0827 - mae: 11.0827\n",
            "Epoch 3/100\n",
            "1/1 [==============================] - 0s 9ms/step - loss: 10.1377 - mae: 10.1377\n",
            "Epoch 4/100\n",
            "1/1 [==============================] - 0s 9ms/step - loss: 9.1686 - mae: 9.1686\n",
            "Epoch 5/100\n",
            "1/1 [==============================] - 0s 13ms/step - loss: 8.1666 - mae: 8.1666\n",
            "Epoch 6/100\n",
            "1/1 [==============================] - 0s 7ms/step - loss: 7.1234 - mae: 7.1234\n",
            "Epoch 7/100\n",
            "1/1 [==============================] - 0s 12ms/step - loss: 7.0478 - mae: 7.0478\n",
            "Epoch 8/100\n",
            "1/1 [==============================] - 0s 9ms/step - loss: 7.4552 - mae: 7.4552\n",
            "Epoch 9/100\n",
            "1/1 [==============================] - 0s 7ms/step - loss: 7.7956 - mae: 7.7956\n",
            "Epoch 10/100\n",
            "1/1 [==============================] - 0s 9ms/step - loss: 7.8033 - mae: 7.8033\n",
            "Epoch 11/100\n",
            "1/1 [==============================] - 0s 12ms/step - loss: 7.5200 - mae: 7.5200\n",
            "Epoch 12/100\n",
            "1/1 [==============================] - 0s 12ms/step - loss: 7.1109 - mae: 7.1109\n",
            "Epoch 13/100\n",
            "1/1 [==============================] - 0s 15ms/step - loss: 6.7677 - mae: 6.7677\n",
            "Epoch 14/100\n",
            "1/1 [==============================] - 0s 10ms/step - loss: 6.4016 - mae: 6.4016\n",
            "Epoch 15/100\n",
            "1/1 [==============================] - 0s 12ms/step - loss: 6.2357 - mae: 6.2357\n",
            "Epoch 16/100\n",
            "1/1 [==============================] - 0s 14ms/step - loss: 6.2422 - mae: 6.2422\n",
            "Epoch 17/100\n",
            "1/1 [==============================] - 0s 7ms/step - loss: 6.3557 - mae: 6.3557\n",
            "Epoch 18/100\n",
            "1/1 [==============================] - 0s 15ms/step - loss: 6.3170 - mae: 6.3170\n",
            "Epoch 19/100\n",
            "1/1 [==============================] - 0s 12ms/step - loss: 6.1484 - mae: 6.1484\n",
            "Epoch 20/100\n",
            "1/1 [==============================] - 0s 15ms/step - loss: 5.8644 - mae: 5.8644\n",
            "Epoch 21/100\n",
            "1/1 [==============================] - 0s 16ms/step - loss: 5.6409 - mae: 5.6409\n",
            "Epoch 22/100\n",
            "1/1 [==============================] - 0s 14ms/step - loss: 5.4964 - mae: 5.4964\n",
            "Epoch 23/100\n",
            "1/1 [==============================] - 0s 11ms/step - loss: 5.4790 - mae: 5.4790\n",
            "Epoch 24/100\n",
            "1/1 [==============================] - 0s 8ms/step - loss: 5.4653 - mae: 5.4653\n",
            "Epoch 25/100\n",
            "1/1 [==============================] - 0s 11ms/step - loss: 5.3918 - mae: 5.3918\n",
            "Epoch 26/100\n",
            "1/1 [==============================] - 0s 19ms/step - loss: 5.2633 - mae: 5.2633\n",
            "Epoch 27/100\n",
            "1/1 [==============================] - 0s 16ms/step - loss: 5.0846 - mae: 5.0846\n",
            "Epoch 28/100\n",
            "1/1 [==============================] - 0s 7ms/step - loss: 4.8603 - mae: 4.8603\n",
            "Epoch 29/100\n",
            "1/1 [==============================] - 0s 12ms/step - loss: 4.5949 - mae: 4.5949\n",
            "Epoch 30/100\n",
            "1/1 [==============================] - 0s 7ms/step - loss: 4.4549 - mae: 4.4549\n",
            "Epoch 31/100\n",
            "1/1 [==============================] - 0s 12ms/step - loss: 4.3418 - mae: 4.3418\n",
            "Epoch 32/100\n",
            "1/1 [==============================] - 0s 7ms/step - loss: 4.2468 - mae: 4.2468\n",
            "Epoch 33/100\n",
            "1/1 [==============================] - 0s 14ms/step - loss: 3.9891 - mae: 3.9891\n",
            "Epoch 34/100\n",
            "1/1 [==============================] - 0s 17ms/step - loss: 3.7639 - mae: 3.7639\n",
            "Epoch 35/100\n",
            "1/1 [==============================] - 0s 13ms/step - loss: 3.5839 - mae: 3.5839\n",
            "Epoch 36/100\n",
            "1/1 [==============================] - 0s 8ms/step - loss: 3.4578 - mae: 3.4578\n",
            "Epoch 37/100\n",
            "1/1 [==============================] - 0s 12ms/step - loss: 3.2638 - mae: 3.2638\n",
            "Epoch 38/100\n",
            "1/1 [==============================] - 0s 10ms/step - loss: 3.0042 - mae: 3.0042\n",
            "Epoch 39/100\n",
            "1/1 [==============================] - 0s 13ms/step - loss: 2.6811 - mae: 2.6811\n",
            "Epoch 40/100\n",
            "1/1 [==============================] - 0s 9ms/step - loss: 2.4239 - mae: 2.4239\n",
            "Epoch 41/100\n",
            "1/1 [==============================] - 0s 14ms/step - loss: 2.3192 - mae: 2.3192\n",
            "Epoch 42/100\n",
            "1/1 [==============================] - 0s 7ms/step - loss: 2.0513 - mae: 2.0513\n",
            "Epoch 43/100\n",
            "1/1 [==============================] - 0s 16ms/step - loss: 1.5789 - mae: 1.5789\n",
            "Epoch 44/100\n",
            "1/1 [==============================] - 0s 14ms/step - loss: 1.2803 - mae: 1.2803\n",
            "Epoch 45/100\n",
            "1/1 [==============================] - 0s 11ms/step - loss: 1.0004 - mae: 1.0004\n",
            "Epoch 46/100\n",
            "1/1 [==============================] - 0s 16ms/step - loss: 0.6313 - mae: 0.6313\n",
            "Epoch 47/100\n",
            "1/1 [==============================] - 0s 16ms/step - loss: 0.3518 - mae: 0.3518\n",
            "Epoch 48/100\n",
            "1/1 [==============================] - 0s 7ms/step - loss: 0.3730 - mae: 0.3730\n",
            "Epoch 49/100\n",
            "1/1 [==============================] - 0s 12ms/step - loss: 0.5499 - mae: 0.5499\n",
            "Epoch 50/100\n",
            "1/1 [==============================] - 0s 15ms/step - loss: 0.7919 - mae: 0.7919\n",
            "Epoch 51/100\n",
            "1/1 [==============================] - 0s 10ms/step - loss: 0.8574 - mae: 0.8574\n",
            "Epoch 52/100\n",
            "1/1 [==============================] - 0s 16ms/step - loss: 0.9624 - mae: 0.9624\n",
            "Epoch 53/100\n",
            "1/1 [==============================] - 0s 10ms/step - loss: 0.9383 - mae: 0.9383\n",
            "Epoch 54/100\n",
            "1/1 [==============================] - 0s 11ms/step - loss: 0.9713 - mae: 0.9713\n",
            "Epoch 55/100\n",
            "1/1 [==============================] - 0s 11ms/step - loss: 0.8291 - mae: 0.8291\n",
            "Epoch 56/100\n",
            "1/1 [==============================] - 0s 18ms/step - loss: 0.7936 - mae: 0.7936\n",
            "Epoch 57/100\n",
            "1/1 [==============================] - 0s 13ms/step - loss: 0.6821 - mae: 0.6821\n",
            "Epoch 58/100\n",
            "1/1 [==============================] - 0s 12ms/step - loss: 0.3599 - mae: 0.3599\n",
            "Epoch 59/100\n",
            "1/1 [==============================] - 0s 14ms/step - loss: 0.3561 - mae: 0.3561\n",
            "Epoch 60/100\n",
            "1/1 [==============================] - 0s 8ms/step - loss: 0.4130 - mae: 0.4130\n",
            "Epoch 61/100\n",
            "1/1 [==============================] - 0s 9ms/step - loss: 0.2622 - mae: 0.2622\n",
            "Epoch 62/100\n",
            "1/1 [==============================] - 0s 11ms/step - loss: 0.5551 - mae: 0.5551\n",
            "Epoch 63/100\n",
            "1/1 [==============================] - 0s 10ms/step - loss: 0.6129 - mae: 0.6129\n",
            "Epoch 64/100\n",
            "1/1 [==============================] - 0s 10ms/step - loss: 0.4664 - mae: 0.4664\n",
            "Epoch 65/100\n",
            "1/1 [==============================] - 0s 9ms/step - loss: 0.5550 - mae: 0.5550\n",
            "Epoch 66/100\n",
            "1/1 [==============================] - 0s 12ms/step - loss: 0.5041 - mae: 0.5041\n",
            "Epoch 67/100\n",
            "1/1 [==============================] - 0s 11ms/step - loss: 0.3059 - mae: 0.3059\n",
            "Epoch 68/100\n",
            "1/1 [==============================] - 0s 11ms/step - loss: 0.3179 - mae: 0.3179\n",
            "Epoch 69/100\n",
            "1/1 [==============================] - 0s 9ms/step - loss: 0.1288 - mae: 0.1288\n",
            "Epoch 70/100\n",
            "1/1 [==============================] - 0s 11ms/step - loss: 0.3194 - mae: 0.3194\n",
            "Epoch 71/100\n",
            "1/1 [==============================] - 0s 13ms/step - loss: 0.4344 - mae: 0.4344\n",
            "Epoch 72/100\n",
            "1/1 [==============================] - 0s 12ms/step - loss: 0.3294 - mae: 0.3294\n",
            "Epoch 73/100\n",
            "1/1 [==============================] - 0s 12ms/step - loss: 0.5475 - mae: 0.5475\n",
            "Epoch 74/100\n",
            "1/1 [==============================] - 0s 10ms/step - loss: 0.6087 - mae: 0.6087\n",
            "Epoch 75/100\n",
            "1/1 [==============================] - 0s 10ms/step - loss: 0.3410 - mae: 0.3410\n",
            "Epoch 76/100\n",
            "1/1 [==============================] - 0s 18ms/step - loss: 0.3422 - mae: 0.3422\n",
            "Epoch 77/100\n",
            "1/1 [==============================] - 0s 16ms/step - loss: 0.4650 - mae: 0.4650\n",
            "Epoch 78/100\n",
            "1/1 [==============================] - 0s 9ms/step - loss: 0.2707 - mae: 0.2707\n",
            "Epoch 79/100\n",
            "1/1 [==============================] - 0s 19ms/step - loss: 0.3086 - mae: 0.3086\n",
            "Epoch 80/100\n",
            "1/1 [==============================] - 0s 10ms/step - loss: 0.4796 - mae: 0.4796\n",
            "Epoch 81/100\n",
            "1/1 [==============================] - 0s 11ms/step - loss: 0.3886 - mae: 0.3886\n",
            "Epoch 82/100\n",
            "1/1 [==============================] - 0s 13ms/step - loss: 0.1964 - mae: 0.1964\n",
            "Epoch 83/100\n",
            "1/1 [==============================] - 0s 15ms/step - loss: 0.2402 - mae: 0.2402\n",
            "Epoch 84/100\n",
            "1/1 [==============================] - 0s 17ms/step - loss: 0.0870 - mae: 0.0870\n",
            "Epoch 85/100\n",
            "1/1 [==============================] - 0s 11ms/step - loss: 0.0371 - mae: 0.0371\n",
            "Epoch 86/100\n",
            "1/1 [==============================] - 0s 9ms/step - loss: 0.2129 - mae: 0.2129\n",
            "Epoch 87/100\n",
            "1/1 [==============================] - 0s 14ms/step - loss: 0.1182 - mae: 0.1182\n",
            "Epoch 88/100\n",
            "1/1 [==============================] - 0s 12ms/step - loss: 0.2935 - mae: 0.2935\n",
            "Epoch 89/100\n",
            "1/1 [==============================] - 0s 17ms/step - loss: 0.2886 - mae: 0.2886\n",
            "Epoch 90/100\n",
            "1/1 [==============================] - 0s 13ms/step - loss: 0.0524 - mae: 0.0524\n",
            "Epoch 91/100\n",
            "1/1 [==============================] - 0s 10ms/step - loss: 0.0397 - mae: 0.0397\n",
            "Epoch 92/100\n",
            "1/1 [==============================] - 0s 10ms/step - loss: 0.2393 - mae: 0.2393\n",
            "Epoch 93/100\n",
            "1/1 [==============================] - 0s 8ms/step - loss: 0.1324 - mae: 0.1324\n",
            "Epoch 94/100\n",
            "1/1 [==============================] - 0s 14ms/step - loss: 0.2853 - mae: 0.2853\n",
            "Epoch 95/100\n",
            "1/1 [==============================] - 0s 15ms/step - loss: 0.3392 - mae: 0.3392\n",
            "Epoch 96/100\n",
            "1/1 [==============================] - 0s 13ms/step - loss: 0.0724 - mae: 0.0724\n",
            "Epoch 97/100\n",
            "1/1 [==============================] - 0s 18ms/step - loss: 0.4812 - mae: 0.4812\n",
            "Epoch 98/100\n",
            "1/1 [==============================] - 0s 21ms/step - loss: 0.6642 - mae: 0.6642\n",
            "Epoch 99/100\n",
            "1/1 [==============================] - 0s 22ms/step - loss: 0.5157 - mae: 0.5157\n",
            "Epoch 100/100\n",
            "1/1 [==============================] - 0s 15ms/step - loss: 0.0767 - mae: 0.0767\n"
          ]
        },
        {
          "output_type": "execute_result",
          "data": {
            "text/plain": [
              "<keras.callbacks.History at 0x7f3c7d6656d0>"
            ]
          },
          "metadata": {},
          "execution_count": 98
        }
      ]
    },
    {
      "cell_type": "code",
      "metadata": {
        "id": "_3siTURaRSVR",
        "colab": {
          "base_uri": "https://localhost:8080/"
        },
        "outputId": "071916ae-0d78-4a7d-d0d5-b6392a0e4c45"
      },
      "source": [
        "model.predict([75.])"
      ],
      "execution_count": null,
      "outputs": [
        {
          "output_type": "execute_result",
          "data": {
            "text/plain": [
              "array([[78.15399]], dtype=float32)"
            ]
          },
          "metadata": {},
          "execution_count": 99
        }
      ]
    },
    {
      "cell_type": "code",
      "metadata": {
        "id": "xQeIjmtYSVWW",
        "colab": {
          "base_uri": "https://localhost:8080/"
        },
        "outputId": "2d9323a5-2f51-4d01-a45a-46ac178572b4"
      },
      "source": [
        "X = tf.range(-100, 100, 4)\n",
        "X"
      ],
      "execution_count": null,
      "outputs": [
        {
          "output_type": "execute_result",
          "data": {
            "text/plain": [
              "<tf.Tensor: shape=(50,), dtype=int32, numpy=\n",
              "array([-100,  -96,  -92,  -88,  -84,  -80,  -76,  -72,  -68,  -64,  -60,\n",
              "        -56,  -52,  -48,  -44,  -40,  -36,  -32,  -28,  -24,  -20,  -16,\n",
              "        -12,   -8,   -4,    0,    4,    8,   12,   16,   20,   24,   28,\n",
              "         32,   36,   40,   44,   48,   52,   56,   60,   64,   68,   72,\n",
              "         76,   80,   84,   88,   92,   96], dtype=int32)>"
            ]
          },
          "metadata": {},
          "execution_count": 100
        }
      ]
    },
    {
      "cell_type": "code",
      "metadata": {
        "id": "EQF11okvcE3h",
        "colab": {
          "base_uri": "https://localhost:8080/"
        },
        "outputId": "22739e6d-3739-47aa-fb2b-3374df90189e"
      },
      "source": [
        "y = X + 10\n",
        "y"
      ],
      "execution_count": null,
      "outputs": [
        {
          "output_type": "execute_result",
          "data": {
            "text/plain": [
              "<tf.Tensor: shape=(50,), dtype=int32, numpy=\n",
              "array([-90, -86, -82, -78, -74, -70, -66, -62, -58, -54, -50, -46, -42,\n",
              "       -38, -34, -30, -26, -22, -18, -14, -10,  -6,  -2,   2,   6,  10,\n",
              "        14,  18,  22,  26,  30,  34,  38,  42,  46,  50,  54,  58,  62,\n",
              "        66,  70,  74,  78,  82,  86,  90,  94,  98, 102, 106], dtype=int32)>"
            ]
          },
          "metadata": {},
          "execution_count": 101
        }
      ]
    },
    {
      "cell_type": "code",
      "source": [
        "X"
      ],
      "metadata": {
        "colab": {
          "base_uri": "https://localhost:8080/"
        },
        "id": "y6t9tWHrDwQS",
        "outputId": "05664f0d-68a8-469a-8538-57a0314827fb"
      },
      "execution_count": null,
      "outputs": [
        {
          "output_type": "execute_result",
          "data": {
            "text/plain": [
              "<tf.Tensor: shape=(50,), dtype=int32, numpy=\n",
              "array([-100,  -96,  -92,  -88,  -84,  -80,  -76,  -72,  -68,  -64,  -60,\n",
              "        -56,  -52,  -48,  -44,  -40,  -36,  -32,  -28,  -24,  -20,  -16,\n",
              "        -12,   -8,   -4,    0,    4,    8,   12,   16,   20,   24,   28,\n",
              "         32,   36,   40,   44,   48,   52,   56,   60,   64,   68,   72,\n",
              "         76,   80,   84,   88,   92,   96], dtype=int32)>"
            ]
          },
          "metadata": {},
          "execution_count": 102
        }
      ]
    },
    {
      "cell_type": "code",
      "metadata": {
        "id": "5uZsGFQMNBsR"
      },
      "source": [
        "X = np.expand_dims(X, axis=1)"
      ],
      "execution_count": null,
      "outputs": []
    },
    {
      "cell_type": "code",
      "source": [
        "X"
      ],
      "metadata": {
        "colab": {
          "base_uri": "https://localhost:8080/"
        },
        "id": "hADb_-Y0DxqB",
        "outputId": "cc8921c9-1afd-4773-8701-3963499c03d9"
      },
      "execution_count": null,
      "outputs": [
        {
          "output_type": "execute_result",
          "data": {
            "text/plain": [
              "array([[-100],\n",
              "       [ -96],\n",
              "       [ -92],\n",
              "       [ -88],\n",
              "       [ -84],\n",
              "       [ -80],\n",
              "       [ -76],\n",
              "       [ -72],\n",
              "       [ -68],\n",
              "       [ -64],\n",
              "       [ -60],\n",
              "       [ -56],\n",
              "       [ -52],\n",
              "       [ -48],\n",
              "       [ -44],\n",
              "       [ -40],\n",
              "       [ -36],\n",
              "       [ -32],\n",
              "       [ -28],\n",
              "       [ -24],\n",
              "       [ -20],\n",
              "       [ -16],\n",
              "       [ -12],\n",
              "       [  -8],\n",
              "       [  -4],\n",
              "       [   0],\n",
              "       [   4],\n",
              "       [   8],\n",
              "       [  12],\n",
              "       [  16],\n",
              "       [  20],\n",
              "       [  24],\n",
              "       [  28],\n",
              "       [  32],\n",
              "       [  36],\n",
              "       [  40],\n",
              "       [  44],\n",
              "       [  48],\n",
              "       [  52],\n",
              "       [  56],\n",
              "       [  60],\n",
              "       [  64],\n",
              "       [  68],\n",
              "       [  72],\n",
              "       [  76],\n",
              "       [  80],\n",
              "       [  84],\n",
              "       [  88],\n",
              "       [  92],\n",
              "       [  96]], dtype=int32)"
            ]
          },
          "metadata": {},
          "execution_count": 104
        }
      ]
    },
    {
      "cell_type": "code",
      "metadata": {
        "id": "GzfbrWzScHvH",
        "colab": {
          "base_uri": "https://localhost:8080/"
        },
        "outputId": "9e9d1e64-d5fa-4c2e-aaf2-71f20508dc48"
      },
      "source": [
        "model = tf.keras.Sequential([\n",
        "      tf.keras.layers.Dense(100, activation=None),\n",
        "      tf.keras.layers.Dense(1)\n",
        "])\n",
        "\n",
        "model.compile(loss = 'mae',\n",
        "              optimizer = tf.keras.optimizers.Adam(learning_rate = 0.01),\n",
        "              metrics = ['mae'])\n",
        "\n",
        "\n",
        "model.fit(X, y, epochs = 100)"
      ],
      "execution_count": null,
      "outputs": [
        {
          "output_type": "stream",
          "name": "stdout",
          "text": [
            "Epoch 1/100\n",
            "2/2 [==============================] - 0s 12ms/step - loss: 39.2797 - mae: 39.2797\n",
            "Epoch 2/100\n",
            "2/2 [==============================] - 0s 9ms/step - loss: 15.4059 - mae: 15.4059\n",
            "Epoch 3/100\n",
            "2/2 [==============================] - 0s 9ms/step - loss: 11.3970 - mae: 11.3970\n",
            "Epoch 4/100\n",
            "2/2 [==============================] - 0s 8ms/step - loss: 19.4220 - mae: 19.4220\n",
            "Epoch 5/100\n",
            "2/2 [==============================] - 0s 8ms/step - loss: 14.9348 - mae: 14.9348\n",
            "Epoch 6/100\n",
            "2/2 [==============================] - 0s 8ms/step - loss: 9.2143 - mae: 9.2143\n",
            "Epoch 7/100\n",
            "2/2 [==============================] - 0s 8ms/step - loss: 9.4915 - mae: 9.4915\n",
            "Epoch 8/100\n",
            "2/2 [==============================] - 0s 8ms/step - loss: 11.4511 - mae: 11.4511\n",
            "Epoch 9/100\n",
            "2/2 [==============================] - 0s 9ms/step - loss: 9.5439 - mae: 9.5439\n",
            "Epoch 10/100\n",
            "2/2 [==============================] - 0s 8ms/step - loss: 7.7731 - mae: 7.7731\n",
            "Epoch 11/100\n",
            "2/2 [==============================] - 0s 11ms/step - loss: 7.7515 - mae: 7.7515\n",
            "Epoch 12/100\n",
            "2/2 [==============================] - 0s 10ms/step - loss: 8.5921 - mae: 8.5921\n",
            "Epoch 13/100\n",
            "2/2 [==============================] - 0s 9ms/step - loss: 7.7153 - mae: 7.7153\n",
            "Epoch 14/100\n",
            "2/2 [==============================] - 0s 9ms/step - loss: 6.8281 - mae: 6.8281\n",
            "Epoch 15/100\n",
            "2/2 [==============================] - 0s 9ms/step - loss: 6.5215 - mae: 6.5215\n",
            "Epoch 16/100\n",
            "2/2 [==============================] - 0s 9ms/step - loss: 7.2110 - mae: 7.2110\n",
            "Epoch 17/100\n",
            "2/2 [==============================] - 0s 9ms/step - loss: 6.9155 - mae: 6.9155\n",
            "Epoch 18/100\n",
            "2/2 [==============================] - 0s 9ms/step - loss: 5.9542 - mae: 5.9542\n",
            "Epoch 19/100\n",
            "2/2 [==============================] - 0s 10ms/step - loss: 5.7713 - mae: 5.7713\n",
            "Epoch 20/100\n",
            "2/2 [==============================] - 0s 10ms/step - loss: 5.5813 - mae: 5.5813\n",
            "Epoch 21/100\n",
            "2/2 [==============================] - 0s 8ms/step - loss: 5.1907 - mae: 5.1907\n",
            "Epoch 22/100\n",
            "2/2 [==============================] - 0s 10ms/step - loss: 4.6535 - mae: 4.6535\n",
            "Epoch 23/100\n",
            "2/2 [==============================] - 0s 9ms/step - loss: 4.3045 - mae: 4.3045\n",
            "Epoch 24/100\n",
            "2/2 [==============================] - 0s 9ms/step - loss: 3.8313 - mae: 3.8313\n",
            "Epoch 25/100\n",
            "2/2 [==============================] - 0s 9ms/step - loss: 3.3594 - mae: 3.3594\n",
            "Epoch 26/100\n",
            "2/2 [==============================] - 0s 9ms/step - loss: 2.9075 - mae: 2.9075\n",
            "Epoch 27/100\n",
            "2/2 [==============================] - 0s 8ms/step - loss: 2.3476 - mae: 2.3476\n",
            "Epoch 28/100\n",
            "2/2 [==============================] - 0s 9ms/step - loss: 1.8058 - mae: 1.8058\n",
            "Epoch 29/100\n",
            "2/2 [==============================] - 0s 12ms/step - loss: 1.2419 - mae: 1.2419\n",
            "Epoch 30/100\n",
            "2/2 [==============================] - 0s 11ms/step - loss: 1.0634 - mae: 1.0634\n",
            "Epoch 31/100\n",
            "2/2 [==============================] - 0s 11ms/step - loss: 0.6397 - mae: 0.6397\n",
            "Epoch 32/100\n",
            "2/2 [==============================] - 0s 11ms/step - loss: 1.7709 - mae: 1.7709\n",
            "Epoch 33/100\n",
            "2/2 [==============================] - 0s 9ms/step - loss: 1.8028 - mae: 1.8028\n",
            "Epoch 34/100\n",
            "2/2 [==============================] - 0s 12ms/step - loss: 1.9626 - mae: 1.9626\n",
            "Epoch 35/100\n",
            "2/2 [==============================] - 0s 8ms/step - loss: 1.9213 - mae: 1.9213\n",
            "Epoch 36/100\n",
            "2/2 [==============================] - 0s 13ms/step - loss: 1.4029 - mae: 1.4029\n",
            "Epoch 37/100\n",
            "2/2 [==============================] - 0s 9ms/step - loss: 1.8339 - mae: 1.8339\n",
            "Epoch 38/100\n",
            "2/2 [==============================] - 0s 9ms/step - loss: 1.1478 - mae: 1.1478\n",
            "Epoch 39/100\n",
            "2/2 [==============================] - 0s 8ms/step - loss: 0.8093 - mae: 0.8093\n",
            "Epoch 40/100\n",
            "2/2 [==============================] - 0s 9ms/step - loss: 0.5685 - mae: 0.5685\n",
            "Epoch 41/100\n",
            "2/2 [==============================] - 0s 8ms/step - loss: 2.6449 - mae: 2.6449\n",
            "Epoch 42/100\n",
            "2/2 [==============================] - 0s 9ms/step - loss: 1.5949 - mae: 1.5949\n",
            "Epoch 43/100\n",
            "2/2 [==============================] - 0s 8ms/step - loss: 3.5894 - mae: 3.5894\n",
            "Epoch 44/100\n",
            "2/2 [==============================] - 0s 9ms/step - loss: 1.4682 - mae: 1.4682\n",
            "Epoch 45/100\n",
            "2/2 [==============================] - 0s 9ms/step - loss: 2.3305 - mae: 2.3305\n",
            "Epoch 46/100\n",
            "2/2 [==============================] - 0s 10ms/step - loss: 2.0462 - mae: 2.0462\n",
            "Epoch 47/100\n",
            "2/2 [==============================] - 0s 8ms/step - loss: 1.4887 - mae: 1.4887\n",
            "Epoch 48/100\n",
            "2/2 [==============================] - 0s 8ms/step - loss: 1.6272 - mae: 1.6272\n",
            "Epoch 49/100\n",
            "2/2 [==============================] - 0s 7ms/step - loss: 1.8564 - mae: 1.8564\n",
            "Epoch 50/100\n",
            "2/2 [==============================] - 0s 8ms/step - loss: 1.1949 - mae: 1.1949\n",
            "Epoch 51/100\n",
            "2/2 [==============================] - 0s 15ms/step - loss: 2.3753 - mae: 2.3753\n",
            "Epoch 52/100\n",
            "2/2 [==============================] - 0s 8ms/step - loss: 1.1386 - mae: 1.1386\n",
            "Epoch 53/100\n",
            "2/2 [==============================] - 0s 7ms/step - loss: 1.1337 - mae: 1.1337\n",
            "Epoch 54/100\n",
            "2/2 [==============================] - 0s 8ms/step - loss: 0.9989 - mae: 0.9989\n",
            "Epoch 55/100\n",
            "2/2 [==============================] - 0s 8ms/step - loss: 0.6662 - mae: 0.6662\n",
            "Epoch 56/100\n",
            "2/2 [==============================] - 0s 9ms/step - loss: 0.8203 - mae: 0.8203\n",
            "Epoch 57/100\n",
            "2/2 [==============================] - 0s 11ms/step - loss: 1.4087 - mae: 1.4087\n",
            "Epoch 58/100\n",
            "2/2 [==============================] - 0s 7ms/step - loss: 3.0945 - mae: 3.0945\n",
            "Epoch 59/100\n",
            "2/2 [==============================] - 0s 8ms/step - loss: 2.4003 - mae: 2.4003\n",
            "Epoch 60/100\n",
            "2/2 [==============================] - 0s 8ms/step - loss: 3.2478 - mae: 3.2478\n",
            "Epoch 61/100\n",
            "2/2 [==============================] - 0s 8ms/step - loss: 3.2959 - mae: 3.2959\n",
            "Epoch 62/100\n",
            "2/2 [==============================] - 0s 7ms/step - loss: 1.6308 - mae: 1.6308\n",
            "Epoch 63/100\n",
            "2/2 [==============================] - 0s 9ms/step - loss: 1.5184 - mae: 1.5184\n",
            "Epoch 64/100\n",
            "2/2 [==============================] - 0s 8ms/step - loss: 3.3014 - mae: 3.3014\n",
            "Epoch 65/100\n",
            "2/2 [==============================] - 0s 8ms/step - loss: 2.9543 - mae: 2.9543\n",
            "Epoch 66/100\n",
            "2/2 [==============================] - 0s 7ms/step - loss: 1.9703 - mae: 1.9703\n",
            "Epoch 67/100\n",
            "2/2 [==============================] - 0s 9ms/step - loss: 2.1132 - mae: 2.1132\n",
            "Epoch 68/100\n",
            "2/2 [==============================] - 0s 8ms/step - loss: 2.2008 - mae: 2.2008\n",
            "Epoch 69/100\n",
            "2/2 [==============================] - 0s 9ms/step - loss: 1.5731 - mae: 1.5731\n",
            "Epoch 70/100\n",
            "2/2 [==============================] - 0s 7ms/step - loss: 2.6907 - mae: 2.6907\n",
            "Epoch 71/100\n",
            "2/2 [==============================] - 0s 9ms/step - loss: 2.4552 - mae: 2.4552\n",
            "Epoch 72/100\n",
            "2/2 [==============================] - 0s 8ms/step - loss: 1.8587 - mae: 1.8587\n",
            "Epoch 73/100\n",
            "2/2 [==============================] - 0s 10ms/step - loss: 1.6638 - mae: 1.6638\n",
            "Epoch 74/100\n",
            "2/2 [==============================] - 0s 8ms/step - loss: 2.7160 - mae: 2.7160\n",
            "Epoch 75/100\n",
            "2/2 [==============================] - 0s 9ms/step - loss: 2.2732 - mae: 2.2732\n",
            "Epoch 76/100\n",
            "2/2 [==============================] - 0s 9ms/step - loss: 2.0971 - mae: 2.0971\n",
            "Epoch 77/100\n",
            "2/2 [==============================] - 0s 8ms/step - loss: 2.3111 - mae: 2.3111\n",
            "Epoch 78/100\n",
            "2/2 [==============================] - 0s 8ms/step - loss: 1.4321 - mae: 1.4321\n",
            "Epoch 79/100\n",
            "2/2 [==============================] - 0s 9ms/step - loss: 1.2282 - mae: 1.2282\n",
            "Epoch 80/100\n",
            "2/2 [==============================] - 0s 7ms/step - loss: 2.6989 - mae: 2.6989\n",
            "Epoch 81/100\n",
            "2/2 [==============================] - 0s 9ms/step - loss: 2.4713 - mae: 2.4713\n",
            "Epoch 82/100\n",
            "2/2 [==============================] - 0s 8ms/step - loss: 1.4711 - mae: 1.4711\n",
            "Epoch 83/100\n",
            "2/2 [==============================] - 0s 8ms/step - loss: 1.6531 - mae: 1.6531\n",
            "Epoch 84/100\n",
            "2/2 [==============================] - 0s 8ms/step - loss: 1.8984 - mae: 1.8984\n",
            "Epoch 85/100\n",
            "2/2 [==============================] - 0s 8ms/step - loss: 1.4738 - mae: 1.4738\n",
            "Epoch 86/100\n",
            "2/2 [==============================] - 0s 15ms/step - loss: 2.5412 - mae: 2.5412\n",
            "Epoch 87/100\n",
            "2/2 [==============================] - 0s 8ms/step - loss: 2.6980 - mae: 2.6980\n",
            "Epoch 88/100\n",
            "2/2 [==============================] - 0s 8ms/step - loss: 0.8640 - mae: 0.8640\n",
            "Epoch 89/100\n",
            "2/2 [==============================] - 0s 7ms/step - loss: 0.7867 - mae: 0.7867\n",
            "Epoch 90/100\n",
            "2/2 [==============================] - 0s 8ms/step - loss: 0.5314 - mae: 0.5314\n",
            "Epoch 91/100\n",
            "2/2 [==============================] - 0s 9ms/step - loss: 0.8873 - mae: 0.8873\n",
            "Epoch 92/100\n",
            "2/2 [==============================] - 0s 7ms/step - loss: 2.0886 - mae: 2.0886\n",
            "Epoch 93/100\n",
            "2/2 [==============================] - 0s 8ms/step - loss: 1.3756 - mae: 1.3756\n",
            "Epoch 94/100\n",
            "2/2 [==============================] - 0s 8ms/step - loss: 2.7551 - mae: 2.7551\n",
            "Epoch 95/100\n",
            "2/2 [==============================] - 0s 8ms/step - loss: 3.0090 - mae: 3.0090\n",
            "Epoch 96/100\n",
            "2/2 [==============================] - 0s 10ms/step - loss: 0.4357 - mae: 0.4357\n",
            "Epoch 97/100\n",
            "2/2 [==============================] - 0s 8ms/step - loss: 0.7004 - mae: 0.7004\n",
            "Epoch 98/100\n",
            "2/2 [==============================] - 0s 14ms/step - loss: 0.6477 - mae: 0.6477\n",
            "Epoch 99/100\n",
            "2/2 [==============================] - 0s 9ms/step - loss: 0.4015 - mae: 0.4015\n",
            "Epoch 100/100\n",
            "2/2 [==============================] - 0s 8ms/step - loss: 0.5059 - mae: 0.5059\n"
          ]
        },
        {
          "output_type": "execute_result",
          "data": {
            "text/plain": [
              "<keras.callbacks.History at 0x7f3c7dfc2110>"
            ]
          },
          "metadata": {},
          "execution_count": 105
        }
      ]
    },
    {
      "cell_type": "code",
      "metadata": {
        "colab": {
          "base_uri": "https://localhost:8080/"
        },
        "id": "MiP7Ka958kj0",
        "outputId": "c6ce1f8f-5973-435f-b18a-514552a9d901"
      },
      "source": [
        "model.predict([55])"
      ],
      "execution_count": null,
      "outputs": [
        {
          "output_type": "execute_result",
          "data": {
            "text/plain": [
              "array([[63.062897]], dtype=float32)"
            ]
          },
          "metadata": {},
          "execution_count": 106
        }
      ]
    },
    {
      "cell_type": "code",
      "metadata": {
        "colab": {
          "base_uri": "https://localhost:8080/"
        },
        "id": "uzOwpADMNR-7",
        "outputId": "e86c86c3-a742-4d71-8a96-2eee49c844cc"
      },
      "source": [
        "X = tf.range(-100, 100, 4)\n",
        "X"
      ],
      "execution_count": null,
      "outputs": [
        {
          "output_type": "execute_result",
          "data": {
            "text/plain": [
              "<tf.Tensor: shape=(50,), dtype=int32, numpy=\n",
              "array([-100,  -96,  -92,  -88,  -84,  -80,  -76,  -72,  -68,  -64,  -60,\n",
              "        -56,  -52,  -48,  -44,  -40,  -36,  -32,  -28,  -24,  -20,  -16,\n",
              "        -12,   -8,   -4,    0,    4,    8,   12,   16,   20,   24,   28,\n",
              "         32,   36,   40,   44,   48,   52,   56,   60,   64,   68,   72,\n",
              "         76,   80,   84,   88,   92,   96], dtype=int32)>"
            ]
          },
          "metadata": {},
          "execution_count": 107
        }
      ]
    },
    {
      "cell_type": "code",
      "metadata": {
        "colab": {
          "base_uri": "https://localhost:8080/"
        },
        "id": "OUNPG0qrT3k1",
        "outputId": "c1653d25-3c6c-4e5b-8bd6-67a8a18abebb"
      },
      "source": [
        "y = X + 10\n",
        "y"
      ],
      "execution_count": null,
      "outputs": [
        {
          "output_type": "execute_result",
          "data": {
            "text/plain": [
              "<tf.Tensor: shape=(50,), dtype=int32, numpy=\n",
              "array([-90, -86, -82, -78, -74, -70, -66, -62, -58, -54, -50, -46, -42,\n",
              "       -38, -34, -30, -26, -22, -18, -14, -10,  -6,  -2,   2,   6,  10,\n",
              "        14,  18,  22,  26,  30,  34,  38,  42,  46,  50,  54,  58,  62,\n",
              "        66,  70,  74,  78,  82,  86,  90,  94,  98, 102, 106], dtype=int32)>"
            ]
          },
          "metadata": {},
          "execution_count": 108
        }
      ]
    },
    {
      "cell_type": "code",
      "metadata": {
        "colab": {
          "base_uri": "https://localhost:8080/",
          "height": 282
        },
        "id": "PbfeCaUkT55p",
        "outputId": "78ccd43d-f4ea-4b8f-976d-7cfb9c541565"
      },
      "source": [
        "plt.scatter(X, y)"
      ],
      "execution_count": null,
      "outputs": [
        {
          "output_type": "execute_result",
          "data": {
            "text/plain": [
              "<matplotlib.collections.PathCollection at 0x7f3c7dfb49d0>"
            ]
          },
          "metadata": {},
          "execution_count": 109
        },
        {
          "output_type": "display_data",
          "data": {
            "image/png": "[encoded data removed]",
            "text/plain": [
              "<Figure size 432x288 with 1 Axes>"
            ]
          },
          "metadata": {
            "needs_background": "light"
          }
        }
      ]
    },
    {
      "cell_type": "code",
      "metadata": {
        "id": "OsXaA400UULe"
      },
      "source": [
        "# from sklearn.model_selection import train_test_split\n",
        "\n",
        "# X_train, X_test, y_train, y_test = train_test_split(X, y, test_size = 0.2)"
      ],
      "execution_count": null,
      "outputs": []
    },
    {
      "cell_type": "code",
      "metadata": {
        "id": "hwxtKdCmVyhg"
      },
      "source": [
        "X_train = X[:40]\n",
        "X_test = X[40:]\n",
        "y_train = y[:40]\n",
        "y_test = y[40:]"
      ],
      "execution_count": null,
      "outputs": []
    },
    {
      "cell_type": "code",
      "metadata": {
        "colab": {
          "base_uri": "https://localhost:8080/",
          "height": 428
        },
        "id": "K53ZxGex-AFt",
        "outputId": "d84b7097-4046-4143-81f1-1b7cb9f32cca"
      },
      "source": [
        "plt.figure(figsize=(10, 7))\n",
        "plt.scatter(X_train, y_train, c = 'b', label = 'Training data')\n",
        "plt.scatter(X_test, y_test, c = 'g', label = 'Test data')\n",
        "plt.legend();"
      ],
      "execution_count": null,
      "outputs": [
        {
          "output_type": "display_data",
          "data": {
            "image/png": "[encoded data removed]",
            "text/plain": [
              "<Figure size 720x504 with 1 Axes>"
            ]
          },
          "metadata": {
            "needs_background": "light"
          }
        }
      ]
    },
    {
      "cell_type": "code",
      "metadata": {
        "id": "KSky-0vb-Chu"
      },
      "source": [
        "model = tf.keras.Sequential([\n",
        "  tf.keras.layers.Dense(1)\n",
        "])\n",
        "\n",
        "\n",
        "model.compile(loss = tf.keras.losses.mae,\n",
        "              optimizer = tf.keras.optimizers.Adam(learning_rate=0.01),\n",
        "              metrics = ['mae'])\n",
        "\n",
        "\n",
        "# model.fit(X_train, y_train, epochs=100)"
      ],
      "execution_count": null,
      "outputs": []
    },
    {
      "cell_type": "code",
      "metadata": {
        "id": "VGLVn7YpByL6"
      },
      "source": [
        "tf.random.set_seed(42)\n",
        "\n",
        "model1 = tf.keras.Sequential([\n",
        "  tf.keras.layers.Dense(2, input_shape = [1]),\n",
        "  tf.keras.layers.Dense(1)\n",
        "  \n",
        "])\n",
        "\n",
        "\n",
        "model1.compile(loss = tf.keras.losses.mae,\n",
        "               optimizer = tf.keras.optimizers.Adam(learning_rate=0.1),\n",
        "               metrics = ['mae']\n",
        "              )"
      ],
      "execution_count": null,
      "outputs": []
    },
    {
      "cell_type": "code",
      "metadata": {
        "colab": {
          "base_uri": "https://localhost:8080/"
        },
        "id": "bFspSYVwJCIS",
        "outputId": "7129f4a7-f40f-486f-ce8d-7f88aa456d9c"
      },
      "source": [
        "model1.summary()"
      ],
      "execution_count": null,
      "outputs": [
        {
          "output_type": "stream",
          "name": "stdout",
          "text": [
            "Model: \"sequential_15\"\n",
            "_________________________________________________________________\n",
            " Layer (type)                Output Shape              Param #   \n",
            "=================================================================\n",
            " dense_26 (Dense)            (None, 2)                 4         \n",
            "                                                                 \n",
            " dense_27 (Dense)            (None, 1)                 3         \n",
            "                                                                 \n",
            "=================================================================\n",
            "Total params: 7\n",
            "Trainable params: 7\n",
            "Non-trainable params: 0\n",
            "_________________________________________________________________\n"
          ]
        }
      ]
    },
    {
      "cell_type": "code",
      "metadata": {
        "id": "W4ctxtyXJaIQ",
        "colab": {
          "base_uri": "https://localhost:8080/"
        },
        "outputId": "65d945cc-0350-43dc-f68b-7285333b740f"
      },
      "source": [
        "model1.fit(X_train, y_train, epochs=200, verbose=0)"
      ],
      "execution_count": null,
      "outputs": [
        {
          "output_type": "execute_result",
          "data": {
            "text/plain": [
              "<keras.callbacks.History at 0x7f3c7dd6d810>"
            ]
          },
          "metadata": {},
          "execution_count": 116
        }
      ]
    },
    {
      "cell_type": "code",
      "metadata": {
        "colab": {
          "base_uri": "https://localhost:8080/"
        },
        "id": "7QjPhCnU7Hnx",
        "outputId": "403c0dab-e8a6-4ce1-9b46-cc6abe0ff21c"
      },
      "source": [
        "model1.predict([1000])"
      ],
      "execution_count": null,
      "outputs": [
        {
          "output_type": "execute_result",
          "data": {
            "text/plain": [
              "array([[1032.2173]], dtype=float32)"
            ]
          },
          "metadata": {},
          "execution_count": 117
        }
      ]
    },
    {
      "cell_type": "code",
      "metadata": {
        "colab": {
          "base_uri": "https://localhost:8080/",
          "height": 312
        },
        "id": "p72OtHE78ZCL",
        "outputId": "dd285e5d-161f-4ada-a5b4-faa38747004b"
      },
      "source": [
        "from tensorflow.keras.utils import plot_model\n",
        "\n",
        "plot_model(model = model1, show_shapes = True)"
      ],
      "execution_count": null,
      "outputs": [
        {
          "output_type": "execute_result",
          "data": {
            "image/png": "[encoded data removed]",
            "text/plain": [
              "<IPython.core.display.Image object>"
            ]
          },
          "metadata": {},
          "execution_count": 118
        }
      ]
    },
    {
      "cell_type": "code",
      "metadata": {
        "id": "YU_Xvj8i9xBQ",
        "colab": {
          "base_uri": "https://localhost:8080/"
        },
        "outputId": "8b74b649-da3c-4cab-b665-b2053fb3cd45"
      },
      "source": [
        "y_pred = model1.predict(X_test)\n",
        "y_pred"
      ],
      "execution_count": null,
      "outputs": [
        {
          "output_type": "execute_result",
          "data": {
            "text/plain": [
              "array([[ 71.57417 ],\n",
              "       [ 75.662   ],\n",
              "       [ 79.74985 ],\n",
              "       [ 83.83769 ],\n",
              "       [ 87.92554 ],\n",
              "       [ 92.013374],\n",
              "       [ 96.10123 ],\n",
              "       [100.189064],\n",
              "       [104.27691 ],\n",
              "       [108.364746]], dtype=float32)"
            ]
          },
          "metadata": {},
          "execution_count": 119
        }
      ]
    },
    {
      "cell_type": "code",
      "source": [
        "y_test"
      ],
      "metadata": {
        "colab": {
          "base_uri": "https://localhost:8080/"
        },
        "id": "CWzL3dewGJPB",
        "outputId": "38b2db14-fb80-4013-9e0e-dd32cc518df4"
      },
      "execution_count": null,
      "outputs": [
        {
          "output_type": "execute_result",
          "data": {
            "text/plain": [
              "<tf.Tensor: shape=(10,), dtype=int32, numpy=array([ 70,  74,  78,  82,  86,  90,  94,  98, 102, 106], dtype=int32)>"
            ]
          },
          "metadata": {},
          "execution_count": 120
        }
      ]
    },
    {
      "cell_type": "code",
      "source": [
        "def plot_predictions(train_data = X_train, \n",
        "                     train_labels = y_train,\n",
        "                     test_data = X_test,\n",
        "                     test_labels = y_test,\n",
        "                     predictions = y_pred):\n",
        "  plt.figure(figsize = (10, 7))\n",
        "  plt.scatter(train_data, train_labels, c = 'b', label = 'Training data')\n",
        "  plt.scatter(test_data, test_labels,c = 'g', label = 'Testing data')\n",
        "  plt.scatter(test_data, predictions, c = 'r', label = 'Predictions')\n",
        "  plt.legend()\n",
        "\n",
        "plot_predictions()"
      ],
      "metadata": {
        "colab": {
          "base_uri": "https://localhost:8080/",
          "height": 428
        },
        "id": "pmcFAxA2GUrj",
        "outputId": "6305e6e3-7184-4fb0-d930-4e30738c2f9f"
      },
      "execution_count": null,
      "outputs": [
        {
          "output_type": "display_data",
          "data": {
            "image/png": "[encoded data removed]",
            "text/plain": [
              "<Figure size 720x504 with 1 Axes>"
            ]
          },
          "metadata": {
            "needs_background": "light"
          }
        }
      ]
    },
    {
      "cell_type": "code",
      "source": [
        "model1.evaluate(X_test, y_test)"
      ],
      "metadata": {
        "colab": {
          "base_uri": "https://localhost:8080/"
        },
        "id": "ccdGlnnXIo7x",
        "outputId": "31b58d25-c00e-4636-ff19-e6defb8f3d9c"
      },
      "execution_count": null,
      "outputs": [
        {
          "output_type": "stream",
          "name": "stdout",
          "text": [
            "1/1 [==============================] - 0s 125ms/step - loss: 1.9695 - mae: 1.9695\n"
          ]
        },
        {
          "output_type": "execute_result",
          "data": {
            "text/plain": [
              "[1.9694572687149048, 1.9694572687149048]"
            ]
          },
          "metadata": {},
          "execution_count": 122
        }
      ]
    },
    {
      "cell_type": "code",
      "source": [
        "tf.constant(y_pred)"
      ],
      "metadata": {
        "colab": {
          "base_uri": "https://localhost:8080/"
        },
        "id": "aIUJ20-7ZtWh",
        "outputId": "b4883b44-0882-49f2-d7bb-03d1fbb7ed8b"
      },
      "execution_count": null,
      "outputs": [
        {
          "output_type": "execute_result",
          "data": {
            "text/plain": [
              "<tf.Tensor: shape=(10, 1), dtype=float32, numpy=\n",
              "array([[ 71.57417 ],\n",
              "       [ 75.662   ],\n",
              "       [ 79.74985 ],\n",
              "       [ 83.83769 ],\n",
              "       [ 87.92554 ],\n",
              "       [ 92.013374],\n",
              "       [ 96.10123 ],\n",
              "       [100.189064],\n",
              "       [104.27691 ],\n",
              "       [108.364746]], dtype=float32)>"
            ]
          },
          "metadata": {},
          "execution_count": 123
        }
      ]
    },
    {
      "cell_type": "code",
      "source": [
        "y_test"
      ],
      "metadata": {
        "colab": {
          "base_uri": "https://localhost:8080/"
        },
        "id": "nZGbcC9Rab_b",
        "outputId": "66d1ead5-35b2-4fbd-9960-690a2adaa85d"
      },
      "execution_count": null,
      "outputs": [
        {
          "output_type": "execute_result",
          "data": {
            "text/plain": [
              "<tf.Tensor: shape=(10,), dtype=int32, numpy=array([ 70,  74,  78,  82,  86,  90,  94,  98, 102, 106], dtype=int32)>"
            ]
          },
          "metadata": {},
          "execution_count": 124
        }
      ]
    },
    {
      "cell_type": "code",
      "source": [
        "mae = tf.keras.metrics.mean_absolute_error(y_test, tf.squeeze(y_pred))\n",
        "mae"
      ],
      "metadata": {
        "colab": {
          "base_uri": "https://localhost:8080/"
        },
        "id": "TS2kqZtvcfpj",
        "outputId": "319217c7-742d-408d-bc3f-90379fc68896"
      },
      "execution_count": null,
      "outputs": [
        {
          "output_type": "execute_result",
          "data": {
            "text/plain": [
              "<tf.Tensor: shape=(), dtype=float32, numpy=1.9694573>"
            ]
          },
          "metadata": {},
          "execution_count": 125
        }
      ]
    },
    {
      "cell_type": "code",
      "source": [
        "mse = tf.metrics.mean_squared_error(y_test, tf.squeeze(y_pred))\n",
        "mse"
      ],
      "metadata": {
        "colab": {
          "base_uri": "https://localhost:8080/"
        },
        "id": "MrTFt04hc2hn",
        "outputId": "aa4595f8-cbe9-40e1-ec14-e7cb0980b5d7"
      },
      "execution_count": null,
      "outputs": [
        {
          "output_type": "execute_result",
          "data": {
            "text/plain": [
              "<tf.Tensor: shape=(), dtype=float32, numpy=3.9424217>"
            ]
          },
          "metadata": {},
          "execution_count": 126
        }
      ]
    },
    {
      "cell_type": "code",
      "source": [
        "def mae(y_true, y_test):\n",
        "  return tf.metrics.mean_absolute_error(y_true, tf.squeeze(y_test))\n",
        "\n",
        "\n",
        "def mse(y_true, y_test):\n",
        "  return tf.metrics.mean_squared_error(y_true, tf.squeeze(y_test))"
      ],
      "metadata": {
        "id": "WkjMPyEedjTd"
      },
      "execution_count": null,
      "outputs": []
    },
    {
      "cell_type": "code",
      "source": [
        "X_train, y_train"
      ],
      "metadata": {
        "id": "LQqFlFNvfMFV",
        "colab": {
          "base_uri": "https://localhost:8080/"
        },
        "outputId": "61805120-754a-45c6-978e-5e6d476d22c2"
      },
      "execution_count": null,
      "outputs": [
        {
          "output_type": "execute_result",
          "data": {
            "text/plain": [
              "(<tf.Tensor: shape=(40,), dtype=int32, numpy=\n",
              " array([-100,  -96,  -92,  -88,  -84,  -80,  -76,  -72,  -68,  -64,  -60,\n",
              "         -56,  -52,  -48,  -44,  -40,  -36,  -32,  -28,  -24,  -20,  -16,\n",
              "         -12,   -8,   -4,    0,    4,    8,   12,   16,   20,   24,   28,\n",
              "          32,   36,   40,   44,   48,   52,   56], dtype=int32)>,\n",
              " <tf.Tensor: shape=(40,), dtype=int32, numpy=\n",
              " array([-90, -86, -82, -78, -74, -70, -66, -62, -58, -54, -50, -46, -42,\n",
              "        -38, -34, -30, -26, -22, -18, -14, -10,  -6,  -2,   2,   6,  10,\n",
              "         14,  18,  22,  26,  30,  34,  38,  42,  46,  50,  54,  58,  62,\n",
              "         66], dtype=int32)>)"
            ]
          },
          "metadata": {},
          "execution_count": 128
        }
      ]
    },
    {
      "cell_type": "code",
      "source": [
        "X_train, y_train"
      ],
      "metadata": {
        "colab": {
          "base_uri": "https://localhost:8080/"
        },
        "id": "bhCFQNchP2Ti",
        "outputId": "13c7fbc7-742b-4a69-e545-8c44430fc4ac"
      },
      "execution_count": null,
      "outputs": [
        {
          "output_type": "execute_result",
          "data": {
            "text/plain": [
              "(<tf.Tensor: shape=(40,), dtype=int32, numpy=\n",
              " array([-100,  -96,  -92,  -88,  -84,  -80,  -76,  -72,  -68,  -64,  -60,\n",
              "         -56,  -52,  -48,  -44,  -40,  -36,  -32,  -28,  -24,  -20,  -16,\n",
              "         -12,   -8,   -4,    0,    4,    8,   12,   16,   20,   24,   28,\n",
              "          32,   36,   40,   44,   48,   52,   56], dtype=int32)>,\n",
              " <tf.Tensor: shape=(40,), dtype=int32, numpy=\n",
              " array([-90, -86, -82, -78, -74, -70, -66, -62, -58, -54, -50, -46, -42,\n",
              "        -38, -34, -30, -26, -22, -18, -14, -10,  -6,  -2,   2,   6,  10,\n",
              "         14,  18,  22,  26,  30,  34,  38,  42,  46,  50,  54,  58,  62,\n",
              "         66], dtype=int32)>)"
            ]
          },
          "metadata": {},
          "execution_count": 129
        }
      ]
    },
    {
      "cell_type": "code",
      "source": [
        "X_train = tf.expand_dims(X_train, axis = 1)"
      ],
      "metadata": {
        "id": "QJSnDMHuQfxb"
      },
      "execution_count": null,
      "outputs": []
    },
    {
      "cell_type": "code",
      "source": [
        "tf.random.set_seed(42)\n",
        "\n",
        "model_1 = tf.keras.Sequential([\n",
        "    tf.keras.layers.Dense(1)\n",
        "])\n",
        "\n",
        "model_1.compile(loss = tf.keras.losses.mae,\n",
        "                optimizer = tf.keras.optimizers.SGD(),\n",
        "                metrics = ['mae'])\n",
        "\n",
        "model_1.fit(X_train, y_train, epochs=100)"
      ],
      "metadata": {
        "colab": {
          "base_uri": "https://localhost:8080/"
        },
        "id": "Yt772JkONrjG",
        "outputId": "ea928984-61f9-45db-ef78-82244bf2742c"
      },
      "execution_count": null,
      "outputs": [
        {
          "output_type": "stream",
          "name": "stdout",
          "text": [
            "Epoch 1/100\n",
            "2/2 [==============================] - 0s 10ms/step - loss: 15.9024 - mae: 15.9024\n",
            "Epoch 2/100\n",
            "2/2 [==============================] - 0s 12ms/step - loss: 11.2837 - mae: 11.2837\n",
            "Epoch 3/100\n",
            "2/2 [==============================] - 0s 8ms/step - loss: 11.1074 - mae: 11.1074\n",
            "Epoch 4/100\n",
            "2/2 [==============================] - 0s 8ms/step - loss: 9.2990 - mae: 9.2990\n",
            "Epoch 5/100\n",
            "2/2 [==============================] - 0s 9ms/step - loss: 10.1677 - mae: 10.1677\n",
            "Epoch 6/100\n",
            "2/2 [==============================] - 0s 8ms/step - loss: 9.4303 - mae: 9.4303\n",
            "Epoch 7/100\n",
            "2/2 [==============================] - 0s 8ms/step - loss: 8.5704 - mae: 8.5704\n",
            "Epoch 8/100\n",
            "2/2 [==============================] - 0s 9ms/step - loss: 9.0442 - mae: 9.0442\n",
            "Epoch 9/100\n",
            "2/2 [==============================] - 0s 9ms/step - loss: 18.7517 - mae: 18.7517\n",
            "Epoch 10/100\n",
            "2/2 [==============================] - 0s 9ms/step - loss: 10.1142 - mae: 10.1142\n",
            "Epoch 11/100\n",
            "2/2 [==============================] - 0s 9ms/step - loss: 8.3980 - mae: 8.3980\n",
            "Epoch 12/100\n",
            "2/2 [==============================] - 0s 8ms/step - loss: 10.6639 - mae: 10.6639\n",
            "Epoch 13/100\n",
            "2/2 [==============================] - 0s 8ms/step - loss: 9.7977 - mae: 9.7977\n",
            "Epoch 14/100\n",
            "2/2 [==============================] - 0s 9ms/step - loss: 16.0103 - mae: 16.0103\n",
            "Epoch 15/100\n",
            "2/2 [==============================] - 0s 9ms/step - loss: 11.4068 - mae: 11.4068\n",
            "Epoch 16/100\n",
            "2/2 [==============================] - 0s 9ms/step - loss: 8.5393 - mae: 8.5393\n",
            "Epoch 17/100\n",
            "2/2 [==============================] - 0s 8ms/step - loss: 13.6348 - mae: 13.6348\n",
            "Epoch 18/100\n",
            "2/2 [==============================] - 0s 9ms/step - loss: 11.4629 - mae: 11.4629\n",
            "Epoch 19/100\n",
            "2/2 [==============================] - 0s 8ms/step - loss: 17.9148 - mae: 17.9148\n",
            "Epoch 20/100\n",
            "2/2 [==============================] - 0s 8ms/step - loss: 15.0494 - mae: 15.0494\n",
            "Epoch 21/100\n",
            "2/2 [==============================] - 0s 9ms/step - loss: 11.0216 - mae: 11.0216\n",
            "Epoch 22/100\n",
            "2/2 [==============================] - 0s 12ms/step - loss: 8.1558 - mae: 8.1558\n",
            "Epoch 23/100\n",
            "2/2 [==============================] - 0s 9ms/step - loss: 9.5138 - mae: 9.5138\n",
            "Epoch 24/100\n",
            "2/2 [==============================] - 0s 9ms/step - loss: 7.6617 - mae: 7.6617\n",
            "Epoch 25/100\n",
            "2/2 [==============================] - 0s 8ms/step - loss: 13.1859 - mae: 13.1859\n",
            "Epoch 26/100\n",
            "2/2 [==============================] - 0s 10ms/step - loss: 16.4211 - mae: 16.4211\n",
            "Epoch 27/100\n",
            "2/2 [==============================] - 0s 9ms/step - loss: 13.1659 - mae: 13.1659\n",
            "Epoch 28/100\n",
            "2/2 [==============================] - 0s 9ms/step - loss: 14.2559 - mae: 14.2559\n",
            "Epoch 29/100\n",
            "2/2 [==============================] - 0s 11ms/step - loss: 10.0670 - mae: 10.0670\n",
            "Epoch 30/100\n",
            "2/2 [==============================] - 0s 8ms/step - loss: 16.3409 - mae: 16.3409\n",
            "Epoch 31/100\n",
            "2/2 [==============================] - 0s 12ms/step - loss: 23.6444 - mae: 23.6444\n",
            "Epoch 32/100\n",
            "2/2 [==============================] - 0s 11ms/step - loss: 7.6215 - mae: 7.6215\n",
            "Epoch 33/100\n",
            "2/2 [==============================] - 0s 11ms/step - loss: 9.3221 - mae: 9.3221\n",
            "Epoch 34/100\n",
            "2/2 [==============================] - 0s 9ms/step - loss: 13.7313 - mae: 13.7313\n",
            "Epoch 35/100\n",
            "2/2 [==============================] - 0s 16ms/step - loss: 11.1276 - mae: 11.1276\n",
            "Epoch 36/100\n",
            "2/2 [==============================] - 0s 9ms/step - loss: 13.3222 - mae: 13.3222\n",
            "Epoch 37/100\n",
            "2/2 [==============================] - 0s 10ms/step - loss: 9.4763 - mae: 9.4763\n",
            "Epoch 38/100\n",
            "2/2 [==============================] - 0s 12ms/step - loss: 10.1381 - mae: 10.1381\n",
            "Epoch 39/100\n",
            "2/2 [==============================] - 0s 9ms/step - loss: 10.1793 - mae: 10.1793\n",
            "Epoch 40/100\n",
            "2/2 [==============================] - 0s 9ms/step - loss: 10.9137 - mae: 10.9137\n",
            "Epoch 41/100\n",
            "2/2 [==============================] - 0s 9ms/step - loss: 7.9063 - mae: 7.9063\n",
            "Epoch 42/100\n",
            "2/2 [==============================] - 0s 8ms/step - loss: 10.0914 - mae: 10.0914\n",
            "Epoch 43/100\n",
            "2/2 [==============================] - 0s 9ms/step - loss: 8.7006 - mae: 8.7006\n",
            "Epoch 44/100\n",
            "2/2 [==============================] - 0s 8ms/step - loss: 12.2047 - mae: 12.2047\n",
            "Epoch 45/100\n",
            "2/2 [==============================] - 0s 9ms/step - loss: 13.7970 - mae: 13.7970\n",
            "Epoch 46/100\n",
            "2/2 [==============================] - 0s 10ms/step - loss: 8.4687 - mae: 8.4687\n",
            "Epoch 47/100\n",
            "2/2 [==============================] - 0s 9ms/step - loss: 9.1330 - mae: 9.1330\n",
            "Epoch 48/100\n",
            "2/2 [==============================] - 0s 10ms/step - loss: 10.6190 - mae: 10.6190\n",
            "Epoch 49/100\n",
            "2/2 [==============================] - 0s 12ms/step - loss: 7.7503 - mae: 7.7503\n",
            "Epoch 50/100\n",
            "2/2 [==============================] - 0s 9ms/step - loss: 9.5407 - mae: 9.5407\n",
            "Epoch 51/100\n",
            "2/2 [==============================] - 0s 8ms/step - loss: 9.1584 - mae: 9.1584\n",
            "Epoch 52/100\n",
            "2/2 [==============================] - 0s 9ms/step - loss: 16.3630 - mae: 16.3630\n",
            "Epoch 53/100\n",
            "2/2 [==============================] - 0s 10ms/step - loss: 14.1299 - mae: 14.1299\n",
            "Epoch 54/100\n",
            "2/2 [==============================] - 0s 11ms/step - loss: 21.1247 - mae: 21.1247\n",
            "Epoch 55/100\n",
            "2/2 [==============================] - 0s 10ms/step - loss: 16.3961 - mae: 16.3961\n",
            "Epoch 56/100\n",
            "2/2 [==============================] - 0s 9ms/step - loss: 9.9806 - mae: 9.9806\n",
            "Epoch 57/100\n",
            "2/2 [==============================] - 0s 9ms/step - loss: 9.9606 - mae: 9.9606\n",
            "Epoch 58/100\n",
            "2/2 [==============================] - 0s 9ms/step - loss: 9.2209 - mae: 9.2209\n",
            "Epoch 59/100\n",
            "2/2 [==============================] - 0s 12ms/step - loss: 8.4239 - mae: 8.4239\n",
            "Epoch 60/100\n",
            "2/2 [==============================] - 0s 8ms/step - loss: 9.4869 - mae: 9.4869\n",
            "Epoch 61/100\n",
            "2/2 [==============================] - 0s 13ms/step - loss: 11.4355 - mae: 11.4355\n",
            "Epoch 62/100\n",
            "2/2 [==============================] - 0s 9ms/step - loss: 11.6887 - mae: 11.6887\n",
            "Epoch 63/100\n",
            "2/2 [==============================] - 0s 8ms/step - loss: 7.0838 - mae: 7.0838\n",
            "Epoch 64/100\n",
            "2/2 [==============================] - 0s 8ms/step - loss: 16.9675 - mae: 16.9675\n",
            "Epoch 65/100\n",
            "2/2 [==============================] - 0s 8ms/step - loss: 12.4599 - mae: 12.4599\n",
            "Epoch 66/100\n",
            "2/2 [==============================] - 0s 9ms/step - loss: 13.0184 - mae: 13.0184\n",
            "Epoch 67/100\n",
            "2/2 [==============================] - 0s 9ms/step - loss: 8.0600 - mae: 8.0600\n",
            "Epoch 68/100\n",
            "2/2 [==============================] - 0s 9ms/step - loss: 10.1888 - mae: 10.1888\n",
            "Epoch 69/100\n",
            "2/2 [==============================] - 0s 11ms/step - loss: 12.3633 - mae: 12.3633\n",
            "Epoch 70/100\n",
            "2/2 [==============================] - 0s 9ms/step - loss: 9.0516 - mae: 9.0516\n",
            "Epoch 71/100\n",
            "2/2 [==============================] - 0s 10ms/step - loss: 10.0378 - mae: 10.0378\n",
            "Epoch 72/100\n",
            "2/2 [==============================] - 0s 10ms/step - loss: 10.0516 - mae: 10.0516\n",
            "Epoch 73/100\n",
            "2/2 [==============================] - 0s 11ms/step - loss: 12.6151 - mae: 12.6151\n",
            "Epoch 74/100\n",
            "2/2 [==============================] - 0s 9ms/step - loss: 10.3819 - mae: 10.3819\n",
            "Epoch 75/100\n",
            "2/2 [==============================] - 0s 10ms/step - loss: 9.7229 - mae: 9.7229\n",
            "Epoch 76/100\n",
            "2/2 [==============================] - 0s 14ms/step - loss: 11.2252 - mae: 11.2252\n",
            "Epoch 77/100\n",
            "2/2 [==============================] - 0s 12ms/step - loss: 8.3642 - mae: 8.3642\n",
            "Epoch 78/100\n",
            "2/2 [==============================] - 0s 8ms/step - loss: 9.1274 - mae: 9.1274\n",
            "Epoch 79/100\n",
            "2/2 [==============================] - 0s 9ms/step - loss: 19.5039 - mae: 19.5039\n",
            "Epoch 80/100\n",
            "2/2 [==============================] - 0s 13ms/step - loss: 14.8945 - mae: 14.8945\n",
            "Epoch 81/100\n",
            "2/2 [==============================] - 0s 11ms/step - loss: 9.0034 - mae: 9.0034\n",
            "Epoch 82/100\n",
            "2/2 [==============================] - 0s 9ms/step - loss: 13.0206 - mae: 13.0206\n",
            "Epoch 83/100\n",
            "2/2 [==============================] - 0s 12ms/step - loss: 7.9299 - mae: 7.9299\n",
            "Epoch 84/100\n",
            "2/2 [==============================] - 0s 11ms/step - loss: 7.6872 - mae: 7.6872\n",
            "Epoch 85/100\n",
            "2/2 [==============================] - 0s 9ms/step - loss: 10.0328 - mae: 10.0328\n",
            "Epoch 86/100\n",
            "2/2 [==============================] - 0s 13ms/step - loss: 9.2433 - mae: 9.2433\n",
            "Epoch 87/100\n",
            "2/2 [==============================] - 0s 10ms/step - loss: 12.0209 - mae: 12.0209\n",
            "Epoch 88/100\n",
            "2/2 [==============================] - 0s 8ms/step - loss: 10.6389 - mae: 10.6389\n",
            "Epoch 89/100\n",
            "2/2 [==============================] - 0s 9ms/step - loss: 7.2667 - mae: 7.2667\n",
            "Epoch 90/100\n",
            "2/2 [==============================] - 0s 7ms/step - loss: 12.7786 - mae: 12.7786\n",
            "Epoch 91/100\n",
            "2/2 [==============================] - 0s 8ms/step - loss: 7.3481 - mae: 7.3481\n",
            "Epoch 92/100\n",
            "2/2 [==============================] - 0s 7ms/step - loss: 7.7175 - mae: 7.7175\n",
            "Epoch 93/100\n",
            "2/2 [==============================] - 0s 10ms/step - loss: 7.1263 - mae: 7.1263\n",
            "Epoch 94/100\n",
            "2/2 [==============================] - 0s 8ms/step - loss: 12.6190 - mae: 12.6190\n",
            "Epoch 95/100\n",
            "2/2 [==============================] - 0s 8ms/step - loss: 10.0912 - mae: 10.0912\n",
            "Epoch 96/100\n",
            "2/2 [==============================] - 0s 8ms/step - loss: 9.3558 - mae: 9.3558\n",
            "Epoch 97/100\n",
            "2/2 [==============================] - 0s 7ms/step - loss: 12.6834 - mae: 12.6834\n",
            "Epoch 98/100\n",
            "2/2 [==============================] - 0s 8ms/step - loss: 8.6762 - mae: 8.6762\n",
            "Epoch 99/100\n",
            "2/2 [==============================] - 0s 7ms/step - loss: 9.4693 - mae: 9.4693\n",
            "Epoch 100/100\n",
            "2/2 [==============================] - 0s 7ms/step - loss: 8.7067 - mae: 8.7067\n"
          ]
        },
        {
          "output_type": "execute_result",
          "data": {
            "text/plain": [
              "<keras.callbacks.History at 0x7f3c7dd1e310>"
            ]
          },
          "metadata": {},
          "execution_count": 131
        }
      ]
    },
    {
      "cell_type": "code",
      "source": [
        "y_preds_1 = model_1.predict(X_test)\n",
        "plot_predictions(predictions= y_preds_1)"
      ],
      "metadata": {
        "colab": {
          "base_uri": "https://localhost:8080/",
          "height": 428
        },
        "id": "0be998UzPm9w",
        "outputId": "610e3eb2-bb91-4217-fb52-c803c2a00d95"
      },
      "execution_count": null,
      "outputs": [
        {
          "output_type": "display_data",
          "data": {
            "image/png": "[encoded data removed]",
            "text/plain": [
              "<Figure size 720x504 with 1 Axes>"
            ]
          },
          "metadata": {
            "needs_background": "light"
          }
        }
      ]
    },
    {
      "cell_type": "code",
      "source": [
        "mae_1 = mae(y_test, y_preds_1)\n",
        "mse_1 = mse(y_test, y_preds_1)\n",
        "mae_1, mse_1"
      ],
      "metadata": {
        "colab": {
          "base_uri": "https://localhost:8080/"
        },
        "id": "GoG2o-C2SpEK",
        "outputId": "8554ab74-6070-4ea8-bd9d-7b5b0fc860b8"
      },
      "execution_count": null,
      "outputs": [
        {
          "output_type": "execute_result",
          "data": {
            "text/plain": [
              "(<tf.Tensor: shape=(), dtype=float32, numpy=18.745327>,\n",
              " <tf.Tensor: shape=(), dtype=float32, numpy=353.5734>)"
            ]
          },
          "metadata": {},
          "execution_count": 133
        }
      ]
    },
    {
      "cell_type": "code",
      "source": [
        "tf.random.set_seed(42)\n",
        "\n",
        "model_2 = tf.keras.Sequential([\n",
        "    tf.keras.layers.Dense(10),\n",
        "    tf.keras.layers.Dense(1)\n",
        "])\n",
        "\n",
        "model_2.compile(\n",
        "    loss = tf.keras.losses.mae,\n",
        "    optimizer = tf.keras.optimizers.SGD(),\n",
        "    metrics = ['mse']\n",
        ")\n",
        "\n",
        "model_2.fit(X_train, y_train, epochs = 100)"
      ],
      "metadata": {
        "colab": {
          "base_uri": "https://localhost:8080/"
        },
        "id": "lCHd4D5NTt_2",
        "outputId": "bfe9e2c4-a56d-411e-bc76-11725a53c181"
      },
      "execution_count": null,
      "outputs": [
        {
          "output_type": "stream",
          "name": "stdout",
          "text": [
            "Epoch 1/100\n",
            "2/2 [==============================] - 0s 10ms/step - loss: 27.4058 - mse: 1084.1482\n",
            "Epoch 2/100\n",
            "2/2 [==============================] - 0s 9ms/step - loss: 24.6339 - mse: 777.9203\n",
            "Epoch 3/100\n",
            "2/2 [==============================] - 0s 8ms/step - loss: 29.8935 - mse: 1334.8951\n",
            "Epoch 4/100\n",
            "2/2 [==============================] - 0s 9ms/step - loss: 27.4055 - mse: 1106.8038\n",
            "Epoch 5/100\n",
            "2/2 [==============================] - 0s 8ms/step - loss: 14.9463 - mse: 281.1077\n",
            "Epoch 6/100\n",
            "2/2 [==============================] - 0s 8ms/step - loss: 11.8819 - mse: 168.6622\n",
            "Epoch 7/100\n",
            "2/2 [==============================] - 0s 8ms/step - loss: 11.1988 - mse: 151.3509\n",
            "Epoch 8/100\n",
            "2/2 [==============================] - 0s 8ms/step - loss: 11.0910 - mse: 160.3746\n",
            "Epoch 9/100\n",
            "2/2 [==============================] - 0s 8ms/step - loss: 40.4763 - mse: 2586.0093\n",
            "Epoch 10/100\n",
            "2/2 [==============================] - 0s 9ms/step - loss: 27.8688 - mse: 1094.4385\n",
            "Epoch 11/100\n",
            "2/2 [==============================] - 0s 9ms/step - loss: 10.2473 - mse: 147.9359\n",
            "Epoch 12/100\n",
            "2/2 [==============================] - 0s 13ms/step - loss: 25.2803 - mse: 890.3866\n",
            "Epoch 13/100\n",
            "2/2 [==============================] - 0s 9ms/step - loss: 16.9897 - mse: 399.9678\n",
            "Epoch 14/100\n",
            "2/2 [==============================] - 0s 9ms/step - loss: 25.9217 - mse: 1049.5519\n",
            "Epoch 15/100\n",
            "2/2 [==============================] - 0s 11ms/step - loss: 17.9948 - mse: 450.2584\n",
            "Epoch 16/100\n",
            "2/2 [==============================] - 0s 10ms/step - loss: 7.3510 - mse: 80.6206\n",
            "Epoch 17/100\n",
            "2/2 [==============================] - 0s 9ms/step - loss: 10.8636 - mse: 174.7868\n",
            "Epoch 18/100\n",
            "2/2 [==============================] - 0s 8ms/step - loss: 19.5304 - mse: 565.8051\n",
            "Epoch 19/100\n",
            "2/2 [==============================] - 0s 8ms/step - loss: 10.3469 - mse: 167.7749\n",
            "Epoch 20/100\n",
            "2/2 [==============================] - 0s 10ms/step - loss: 17.6985 - mse: 455.7094\n",
            "Epoch 21/100\n",
            "2/2 [==============================] - 0s 9ms/step - loss: 15.8984 - mse: 347.1928\n",
            "Epoch 22/100\n",
            "2/2 [==============================] - 0s 11ms/step - loss: 14.1991 - mse: 285.1766\n",
            "Epoch 23/100\n",
            "2/2 [==============================] - 0s 9ms/step - loss: 8.7720 - mse: 91.7852\n",
            "Epoch 24/100\n",
            "2/2 [==============================] - 0s 8ms/step - loss: 11.0570 - mse: 153.7430\n",
            "Epoch 25/100\n",
            "2/2 [==============================] - 0s 15ms/step - loss: 12.6838 - mse: 233.2951\n",
            "Epoch 26/100\n",
            "2/2 [==============================] - 0s 9ms/step - loss: 26.1877 - mse: 1024.6094\n",
            "Epoch 27/100\n",
            "2/2 [==============================] - 0s 14ms/step - loss: 11.7432 - mse: 194.8453\n",
            "Epoch 28/100\n",
            "2/2 [==============================] - 0s 14ms/step - loss: 22.8730 - mse: 835.6071\n",
            "Epoch 29/100\n",
            "2/2 [==============================] - 0s 9ms/step - loss: 9.2459 - mse: 96.7787\n",
            "Epoch 30/100\n",
            "2/2 [==============================] - 0s 11ms/step - loss: 29.2641 - mse: 1535.1339\n",
            "Epoch 31/100\n",
            "2/2 [==============================] - 0s 9ms/step - loss: 53.0224 - mse: 5030.2949\n",
            "Epoch 32/100\n",
            "2/2 [==============================] - 0s 8ms/step - loss: 11.9951 - mse: 211.7024\n",
            "Epoch 33/100\n",
            "2/2 [==============================] - 0s 9ms/step - loss: 15.6357 - mse: 337.3665\n",
            "Epoch 34/100\n",
            "2/2 [==============================] - 0s 8ms/step - loss: 12.6925 - mse: 214.4822\n",
            "Epoch 35/100\n",
            "2/2 [==============================] - 0s 9ms/step - loss: 9.2398 - mse: 92.9126\n",
            "Epoch 36/100\n",
            "2/2 [==============================] - 0s 9ms/step - loss: 16.6497 - mse: 403.6569\n",
            "Epoch 37/100\n",
            "2/2 [==============================] - 0s 9ms/step - loss: 11.0382 - mse: 192.3919\n",
            "Epoch 38/100\n",
            "2/2 [==============================] - 0s 9ms/step - loss: 18.1634 - mse: 433.6719\n",
            "Epoch 39/100\n",
            "2/2 [==============================] - 0s 9ms/step - loss: 19.1013 - mse: 529.6442\n",
            "Epoch 40/100\n",
            "2/2 [==============================] - 0s 9ms/step - loss: 20.4324 - mse: 610.1327\n",
            "Epoch 41/100\n",
            "2/2 [==============================] - 0s 9ms/step - loss: 14.9102 - mse: 279.6181\n",
            "Epoch 42/100\n",
            "2/2 [==============================] - 0s 9ms/step - loss: 12.2809 - mse: 186.6178\n",
            "Epoch 43/100\n",
            "2/2 [==============================] - 0s 8ms/step - loss: 10.7333 - mse: 167.0951\n",
            "Epoch 44/100\n",
            "2/2 [==============================] - 0s 10ms/step - loss: 23.0260 - mse: 830.4241\n",
            "Epoch 45/100\n",
            "2/2 [==============================] - 0s 9ms/step - loss: 10.3897 - mse: 128.9549\n",
            "Epoch 46/100\n",
            "2/2 [==============================] - 0s 9ms/step - loss: 11.7904 - mse: 181.9211\n",
            "Epoch 47/100\n",
            "2/2 [==============================] - 0s 10ms/step - loss: 9.6438 - mse: 153.8708\n",
            "Epoch 48/100\n",
            "2/2 [==============================] - 0s 9ms/step - loss: 17.2335 - mse: 402.8495\n",
            "Epoch 49/100\n",
            "2/2 [==============================] - 0s 8ms/step - loss: 9.5729 - mse: 99.8336\n",
            "Epoch 50/100\n",
            "2/2 [==============================] - 0s 9ms/step - loss: 13.8185 - mse: 260.3670\n",
            "Epoch 51/100\n",
            "2/2 [==============================] - 0s 9ms/step - loss: 11.5958 - mse: 154.7956\n",
            "Epoch 52/100\n",
            "2/2 [==============================] - 0s 9ms/step - loss: 30.5538 - mse: 1613.0885\n",
            "Epoch 53/100\n",
            "2/2 [==============================] - 0s 9ms/step - loss: 14.3541 - mse: 302.5292\n",
            "Epoch 54/100\n",
            "2/2 [==============================] - 0s 9ms/step - loss: 23.9713 - mse: 859.3986\n",
            "Epoch 55/100\n",
            "2/2 [==============================] - 0s 11ms/step - loss: 23.1938 - mse: 805.5451\n",
            "Epoch 56/100\n",
            "2/2 [==============================] - 0s 13ms/step - loss: 10.8837 - mse: 170.9834\n",
            "Epoch 57/100\n",
            "2/2 [==============================] - 0s 8ms/step - loss: 12.7445 - mse: 198.7016\n",
            "Epoch 58/100\n",
            "2/2 [==============================] - 0s 9ms/step - loss: 9.5995 - mse: 102.5891\n",
            "Epoch 59/100\n",
            "2/2 [==============================] - 0s 10ms/step - loss: 12.5172 - mse: 216.3369\n",
            "Epoch 60/100\n",
            "2/2 [==============================] - 0s 10ms/step - loss: 12.3200 - mse: 208.6372\n",
            "Epoch 61/100\n",
            "2/2 [==============================] - 0s 10ms/step - loss: 17.4604 - mse: 428.6396\n",
            "Epoch 62/100\n",
            "2/2 [==============================] - 0s 11ms/step - loss: 10.6052 - mse: 136.9777\n",
            "Epoch 63/100\n",
            "2/2 [==============================] - 0s 10ms/step - loss: 10.4893 - mse: 152.4555\n",
            "Epoch 64/100\n",
            "2/2 [==============================] - 0s 11ms/step - loss: 24.8450 - mse: 911.7516\n",
            "Epoch 65/100\n",
            "2/2 [==============================] - 0s 9ms/step - loss: 10.6761 - mse: 142.7375\n",
            "Epoch 66/100\n",
            "2/2 [==============================] - 0s 12ms/step - loss: 21.7810 - mse: 704.4494\n",
            "Epoch 67/100\n",
            "2/2 [==============================] - 0s 8ms/step - loss: 10.7136 - mse: 136.0195\n",
            "Epoch 68/100\n",
            "2/2 [==============================] - 0s 14ms/step - loss: 10.6397 - mse: 149.2301\n",
            "Epoch 69/100\n",
            "2/2 [==============================] - 0s 9ms/step - loss: 22.6914 - mse: 742.1768\n",
            "Epoch 70/100\n",
            "2/2 [==============================] - 0s 7ms/step - loss: 9.3316 - mse: 166.1629\n",
            "Epoch 71/100\n",
            "2/2 [==============================] - 0s 10ms/step - loss: 15.4355 - mse: 323.0841\n",
            "Epoch 72/100\n",
            "2/2 [==============================] - 0s 11ms/step - loss: 6.7437 - mse: 67.0209\n",
            "Epoch 73/100\n",
            "2/2 [==============================] - 0s 10ms/step - loss: 11.6891 - mse: 183.7296\n",
            "Epoch 74/100\n",
            "2/2 [==============================] - 0s 9ms/step - loss: 24.0400 - mse: 908.9005\n",
            "Epoch 75/100\n",
            "2/2 [==============================] - 0s 11ms/step - loss: 9.5897 - mse: 149.3947\n",
            "Epoch 76/100\n",
            "2/2 [==============================] - 0s 9ms/step - loss: 12.4371 - mse: 188.3311\n",
            "Epoch 77/100\n",
            "2/2 [==============================] - 0s 12ms/step - loss: 16.6489 - mse: 429.2711\n",
            "Epoch 78/100\n",
            "2/2 [==============================] - 0s 8ms/step - loss: 9.0615 - mse: 95.4870\n",
            "Epoch 79/100\n",
            "2/2 [==============================] - 0s 10ms/step - loss: 23.9675 - mse: 864.0870\n",
            "Epoch 80/100\n",
            "2/2 [==============================] - 0s 8ms/step - loss: 26.7463 - mse: 1104.4041\n",
            "Epoch 81/100\n",
            "2/2 [==============================] - 0s 10ms/step - loss: 11.6715 - mse: 170.7057\n",
            "Epoch 82/100\n",
            "2/2 [==============================] - 0s 9ms/step - loss: 12.0228 - mse: 211.9191\n",
            "Epoch 83/100\n",
            "2/2 [==============================] - 0s 8ms/step - loss: 17.4218 - mse: 395.5587\n",
            "Epoch 84/100\n",
            "2/2 [==============================] - 0s 8ms/step - loss: 7.2629 - mse: 73.0935\n",
            "Epoch 85/100\n",
            "2/2 [==============================] - 0s 9ms/step - loss: 14.9650 - mse: 312.8359\n",
            "Epoch 86/100\n",
            "2/2 [==============================] - 0s 10ms/step - loss: 15.2862 - mse: 315.3604\n",
            "Epoch 87/100\n",
            "2/2 [==============================] - 0s 9ms/step - loss: 19.1086 - mse: 521.2531\n",
            "Epoch 88/100\n",
            "2/2 [==============================] - 0s 9ms/step - loss: 29.8229 - mse: 1287.1926\n",
            "Epoch 89/100\n",
            "2/2 [==============================] - 0s 9ms/step - loss: 10.1742 - mse: 124.1342\n",
            "Epoch 90/100\n",
            "2/2 [==============================] - 0s 12ms/step - loss: 21.5240 - mse: 663.8622\n",
            "Epoch 91/100\n",
            "2/2 [==============================] - 0s 9ms/step - loss: 10.5716 - mse: 161.7467\n",
            "Epoch 92/100\n",
            "2/2 [==============================] - 0s 9ms/step - loss: 18.3977 - mse: 464.1332\n",
            "Epoch 93/100\n",
            "2/2 [==============================] - 0s 9ms/step - loss: 7.4138 - mse: 81.9819\n",
            "Epoch 94/100\n",
            "2/2 [==============================] - 0s 11ms/step - loss: 17.7380 - mse: 445.7385\n",
            "Epoch 95/100\n",
            "2/2 [==============================] - 0s 9ms/step - loss: 11.1144 - mse: 164.0824\n",
            "Epoch 96/100\n",
            "2/2 [==============================] - 0s 9ms/step - loss: 19.4346 - mse: 510.5849\n",
            "Epoch 97/100\n",
            "2/2 [==============================] - 0s 13ms/step - loss: 12.1593 - mse: 209.9759\n",
            "Epoch 98/100\n",
            "2/2 [==============================] - 0s 9ms/step - loss: 11.5653 - mse: 169.4053\n",
            "Epoch 99/100\n",
            "2/2 [==============================] - 0s 12ms/step - loss: 13.8827 - mse: 265.4633\n",
            "Epoch 100/100\n",
            "2/2 [==============================] - 0s 9ms/step - loss: 20.2277 - mse: 608.8226\n"
          ]
        },
        {
          "output_type": "execute_result",
          "data": {
            "text/plain": [
              "<keras.callbacks.History at 0x7f3c7dcfdf90>"
            ]
          },
          "metadata": {},
          "execution_count": 134
        }
      ]
    },
    {
      "cell_type": "code",
      "source": [
        "y_preds_2 = model_2.predict(X_test)\n",
        "y_preds_2"
      ],
      "metadata": {
        "colab": {
          "base_uri": "https://localhost:8080/"
        },
        "id": "zK2uBy9OYpGI",
        "outputId": "1a16f6af-0f1a-486d-f17f-e4a1bfbcd73f"
      },
      "execution_count": null,
      "outputs": [
        {
          "output_type": "execute_result",
          "data": {
            "text/plain": [
              "array([[ 70.552216],\n",
              "       [ 75.13993 ],\n",
              "       [ 79.72766 ],\n",
              "       [ 84.315384],\n",
              "       [ 88.90311 ],\n",
              "       [ 93.49084 ],\n",
              "       [ 98.07856 ],\n",
              "       [102.66629 ],\n",
              "       [107.25402 ],\n",
              "       [111.84173 ]], dtype=float32)"
            ]
          },
          "metadata": {},
          "execution_count": 135
        }
      ]
    },
    {
      "cell_type": "code",
      "source": [
        "plot_predictions(predictions= y_preds_2)"
      ],
      "metadata": {
        "colab": {
          "base_uri": "https://localhost:8080/",
          "height": 428
        },
        "id": "YwX7oIk6Zi_c",
        "outputId": "4eb77f4c-f4dc-4785-97b9-bbfb38a72bbb"
      },
      "execution_count": null,
      "outputs": [
        {
          "output_type": "display_data",
          "data": {
            "image/png": "[encoded data removed]",
            "text/plain": [
              "<Figure size 720x504 with 1 Axes>"
            ]
          },
          "metadata": {
            "needs_background": "light"
          }
        }
      ]
    },
    {
      "cell_type": "code",
      "source": [
        "mae_2 = mae(y_test, y_preds_2)\n",
        "mse_2 = mse(y_test, y_preds_2)\n",
        "mae_2, mse_2"
      ],
      "metadata": {
        "colab": {
          "base_uri": "https://localhost:8080/"
        },
        "id": "gNdrtMZ0ZtmZ",
        "outputId": "2bc4a1bd-d907-4154-ed52-a21fe9e65043"
      },
      "execution_count": null,
      "outputs": [
        {
          "output_type": "execute_result",
          "data": {
            "text/plain": [
              "(<tf.Tensor: shape=(), dtype=float32, numpy=3.1969733>,\n",
              " <tf.Tensor: shape=(), dtype=float32, numpy=13.070361>)"
            ]
          },
          "metadata": {},
          "execution_count": 137
        }
      ]
    },
    {
      "cell_type": "code",
      "source": [
        "tf.random.set_seed(42)\n",
        "\n",
        "model_3 = tf.keras.Sequential([\n",
        "    tf.keras.layers.Dense(10),\n",
        "    tf.keras.layers.Dense(1)\n",
        "])\n",
        "\n",
        "model_3.compile(loss = tf.keras.losses.mae,\n",
        "                optimizer = tf.keras.optimizers.SGD(),\n",
        "                metrics = ['mse'])\n",
        "\n",
        "model_3.fit(X_train, y_train, epochs = 500)"
      ],
      "metadata": {
        "colab": {
          "base_uri": "https://localhost:8080/"
        },
        "id": "3HIg6o3WZ6s5",
        "outputId": "41858375-f7a8-47f7-cf33-837840a676a2"
      },
      "execution_count": null,
      "outputs": [
        {
          "output_type": "stream",
          "name": "stdout",
          "text": [
            "Epoch 1/500\n",
            "2/2 [==============================] - 0s 10ms/step - loss: 27.4058 - mse: 1084.1482\n",
            "Epoch 2/500\n",
            "2/2 [==============================] - 0s 8ms/step - loss: 24.6339 - mse: 777.9203\n",
            "Epoch 3/500\n",
            "2/2 [==============================] - 0s 11ms/step - loss: 29.8935 - mse: 1334.8951\n",
            "Epoch 4/500\n",
            "2/2 [==============================] - 0s 9ms/step - loss: 27.4055 - mse: 1106.8038\n",
            "Epoch 5/500\n",
            "2/2 [==============================] - 0s 8ms/step - loss: 14.9463 - mse: 281.1077\n",
            "Epoch 6/500\n",
            "2/2 [==============================] - 0s 7ms/step - loss: 11.8819 - mse: 168.6622\n",
            "Epoch 7/500\n",
            "2/2 [==============================] - 0s 9ms/step - loss: 11.1988 - mse: 151.3509\n",
            "Epoch 8/500\n",
            "2/2 [==============================] - 0s 9ms/step - loss: 11.0910 - mse: 160.3746\n",
            "Epoch 9/500\n",
            "2/2 [==============================] - 0s 9ms/step - loss: 40.4763 - mse: 2586.0093\n",
            "Epoch 10/500\n",
            "2/2 [==============================] - 0s 9ms/step - loss: 27.8688 - mse: 1094.4385\n",
            "Epoch 11/500\n",
            "2/2 [==============================] - 0s 10ms/step - loss: 10.2473 - mse: 147.9359\n",
            "Epoch 12/500\n",
            "2/2 [==============================] - 0s 9ms/step - loss: 25.2803 - mse: 890.3866\n",
            "Epoch 13/500\n",
            "2/2 [==============================] - 0s 9ms/step - loss: 16.9897 - mse: 399.9678\n",
            "Epoch 14/500\n",
            "2/2 [==============================] - 0s 11ms/step - loss: 25.9217 - mse: 1049.5519\n",
            "Epoch 15/500\n",
            "2/2 [==============================] - 0s 8ms/step - loss: 17.9948 - mse: 450.2584\n",
            "Epoch 16/500\n",
            "2/2 [==============================] - 0s 8ms/step - loss: 7.3510 - mse: 80.6206\n",
            "Epoch 17/500\n",
            "2/2 [==============================] - 0s 9ms/step - loss: 10.8636 - mse: 174.7868\n",
            "Epoch 18/500\n",
            "2/2 [==============================] - 0s 8ms/step - loss: 19.5304 - mse: 565.8051\n",
            "Epoch 19/500\n",
            "2/2 [==============================] - 0s 8ms/step - loss: 10.3469 - mse: 167.7749\n",
            "Epoch 20/500\n",
            "2/2 [==============================] - 0s 8ms/step - loss: 17.6985 - mse: 455.7094\n",
            "Epoch 21/500\n",
            "2/2 [==============================] - 0s 8ms/step - loss: 15.8984 - mse: 347.1928\n",
            "Epoch 22/500\n",
            "2/2 [==============================] - 0s 9ms/step - loss: 14.1991 - mse: 285.1766\n",
            "Epoch 23/500\n",
            "2/2 [==============================] - 0s 8ms/step - loss: 8.7720 - mse: 91.7852\n",
            "Epoch 24/500\n",
            "2/2 [==============================] - 0s 8ms/step - loss: 11.0570 - mse: 153.7430\n",
            "Epoch 25/500\n",
            "2/2 [==============================] - 0s 8ms/step - loss: 12.6838 - mse: 233.2951\n",
            "Epoch 26/500\n",
            "2/2 [==============================] - 0s 8ms/step - loss: 26.1877 - mse: 1024.6094\n",
            "Epoch 27/500\n",
            "2/2 [==============================] - 0s 11ms/step - loss: 11.7432 - mse: 194.8453\n",
            "Epoch 28/500\n",
            "2/2 [==============================] - 0s 7ms/step - loss: 22.8730 - mse: 835.6071\n",
            "Epoch 29/500\n",
            "2/2 [==============================] - 0s 9ms/step - loss: 9.2459 - mse: 96.7787\n",
            "Epoch 30/500\n",
            "2/2 [==============================] - 0s 9ms/step - loss: 29.2641 - mse: 1535.1339\n",
            "Epoch 31/500\n",
            "2/2 [==============================] - 0s 7ms/step - loss: 53.0224 - mse: 5030.2949\n",
            "Epoch 32/500\n",
            "2/2 [==============================] - 0s 9ms/step - loss: 11.9951 - mse: 211.7024\n",
            "Epoch 33/500\n",
            "2/2 [==============================] - 0s 10ms/step - loss: 15.6357 - mse: 337.3665\n",
            "Epoch 34/500\n",
            "2/2 [==============================] - 0s 10ms/step - loss: 12.6925 - mse: 214.4822\n",
            "Epoch 35/500\n",
            "2/2 [==============================] - 0s 8ms/step - loss: 9.2398 - mse: 92.9126\n",
            "Epoch 36/500\n",
            "2/2 [==============================] - 0s 9ms/step - loss: 16.6497 - mse: 403.6569\n",
            "Epoch 37/500\n",
            "2/2 [==============================] - 0s 10ms/step - loss: 11.0382 - mse: 192.3919\n",
            "Epoch 38/500\n",
            "2/2 [==============================] - 0s 8ms/step - loss: 18.1634 - mse: 433.6719\n",
            "Epoch 39/500\n",
            "2/2 [==============================] - 0s 8ms/step - loss: 19.1013 - mse: 529.6442\n",
            "Epoch 40/500\n",
            "2/2 [==============================] - 0s 9ms/step - loss: 20.4324 - mse: 610.1327\n",
            "Epoch 41/500\n",
            "2/2 [==============================] - 0s 12ms/step - loss: 14.9102 - mse: 279.6181\n",
            "Epoch 42/500\n",
            "2/2 [==============================] - 0s 8ms/step - loss: 12.2809 - mse: 186.6178\n",
            "Epoch 43/500\n",
            "2/2 [==============================] - 0s 12ms/step - loss: 10.7333 - mse: 167.0951\n",
            "Epoch 44/500\n",
            "2/2 [==============================] - 0s 11ms/step - loss: 23.0260 - mse: 830.4241\n",
            "Epoch 45/500\n",
            "2/2 [==============================] - 0s 8ms/step - loss: 10.3897 - mse: 128.9549\n",
            "Epoch 46/500\n",
            "2/2 [==============================] - 0s 8ms/step - loss: 11.7904 - mse: 181.9211\n",
            "Epoch 47/500\n",
            "2/2 [==============================] - 0s 8ms/step - loss: 9.6438 - mse: 153.8708\n",
            "Epoch 48/500\n",
            "2/2 [==============================] - 0s 9ms/step - loss: 17.2335 - mse: 402.8495\n",
            "Epoch 49/500\n",
            "2/2 [==============================] - 0s 8ms/step - loss: 9.5729 - mse: 99.8336\n",
            "Epoch 50/500\n",
            "2/2 [==============================] - 0s 9ms/step - loss: 13.8185 - mse: 260.3670\n",
            "Epoch 51/500\n",
            "2/2 [==============================] - 0s 8ms/step - loss: 11.5958 - mse: 154.7956\n",
            "Epoch 52/500\n",
            "2/2 [==============================] - 0s 8ms/step - loss: 30.5538 - mse: 1613.0885\n",
            "Epoch 53/500\n",
            "2/2 [==============================] - 0s 8ms/step - loss: 14.3541 - mse: 302.5292\n",
            "Epoch 54/500\n",
            "2/2 [==============================] - 0s 9ms/step - loss: 23.9713 - mse: 859.3986\n",
            "Epoch 55/500\n",
            "2/2 [==============================] - 0s 10ms/step - loss: 23.1938 - mse: 805.5451\n",
            "Epoch 56/500\n",
            "2/2 [==============================] - 0s 11ms/step - loss: 10.8837 - mse: 170.9834\n",
            "Epoch 57/500\n",
            "2/2 [==============================] - 0s 8ms/step - loss: 12.7445 - mse: 198.7016\n",
            "Epoch 58/500\n",
            "2/2 [==============================] - 0s 8ms/step - loss: 9.5995 - mse: 102.5891\n",
            "Epoch 59/500\n",
            "2/2 [==============================] - 0s 12ms/step - loss: 12.5172 - mse: 216.3369\n",
            "Epoch 60/500\n",
            "2/2 [==============================] - 0s 8ms/step - loss: 12.3200 - mse: 208.6372\n",
            "Epoch 61/500\n",
            "2/2 [==============================] - 0s 8ms/step - loss: 17.4604 - mse: 428.6396\n",
            "Epoch 62/500\n",
            "2/2 [==============================] - 0s 9ms/step - loss: 10.6052 - mse: 136.9777\n",
            "Epoch 63/500\n",
            "2/2 [==============================] - 0s 8ms/step - loss: 10.4893 - mse: 152.4555\n",
            "Epoch 64/500\n",
            "2/2 [==============================] - 0s 8ms/step - loss: 24.8450 - mse: 911.7516\n",
            "Epoch 65/500\n",
            "2/2 [==============================] - 0s 11ms/step - loss: 10.6761 - mse: 142.7375\n",
            "Epoch 66/500\n",
            "2/2 [==============================] - 0s 9ms/step - loss: 21.7810 - mse: 704.4494\n",
            "Epoch 67/500\n",
            "2/2 [==============================] - 0s 11ms/step - loss: 10.7136 - mse: 136.0195\n",
            "Epoch 68/500\n",
            "2/2 [==============================] - 0s 10ms/step - loss: 10.6397 - mse: 149.2301\n",
            "Epoch 69/500\n",
            "2/2 [==============================] - 0s 10ms/step - loss: 22.6914 - mse: 742.1768\n",
            "Epoch 70/500\n",
            "2/2 [==============================] - 0s 10ms/step - loss: 9.3316 - mse: 166.1629\n",
            "Epoch 71/500\n",
            "2/2 [==============================] - 0s 8ms/step - loss: 15.4355 - mse: 323.0841\n",
            "Epoch 72/500\n",
            "2/2 [==============================] - 0s 9ms/step - loss: 6.7437 - mse: 67.0209\n",
            "Epoch 73/500\n",
            "2/2 [==============================] - 0s 9ms/step - loss: 11.6891 - mse: 183.7296\n",
            "Epoch 74/500\n",
            "2/2 [==============================] - 0s 12ms/step - loss: 24.0400 - mse: 908.9005\n",
            "Epoch 75/500\n",
            "2/2 [==============================] - 0s 11ms/step - loss: 9.5897 - mse: 149.3947\n",
            "Epoch 76/500\n",
            "2/2 [==============================] - 0s 8ms/step - loss: 12.4371 - mse: 188.3311\n",
            "Epoch 77/500\n",
            "2/2 [==============================] - 0s 8ms/step - loss: 16.6489 - mse: 429.2711\n",
            "Epoch 78/500\n",
            "2/2 [==============================] - 0s 8ms/step - loss: 9.0615 - mse: 95.4870\n",
            "Epoch 79/500\n",
            "2/2 [==============================] - 0s 9ms/step - loss: 23.9675 - mse: 864.0871\n",
            "Epoch 80/500\n",
            "2/2 [==============================] - 0s 8ms/step - loss: 26.7463 - mse: 1104.4041\n",
            "Epoch 81/500\n",
            "2/2 [==============================] - 0s 9ms/step - loss: 11.6715 - mse: 170.7057\n",
            "Epoch 82/500\n",
            "2/2 [==============================] - 0s 8ms/step - loss: 12.0228 - mse: 211.9191\n",
            "Epoch 83/500\n",
            "2/2 [==============================] - 0s 8ms/step - loss: 17.4218 - mse: 395.5587\n",
            "Epoch 84/500\n",
            "2/2 [==============================] - 0s 7ms/step - loss: 7.2629 - mse: 73.0935\n",
            "Epoch 85/500\n",
            "2/2 [==============================] - 0s 10ms/step - loss: 14.9650 - mse: 312.8359\n",
            "Epoch 86/500\n",
            "2/2 [==============================] - 0s 8ms/step - loss: 15.2862 - mse: 315.3604\n",
            "Epoch 87/500\n",
            "2/2 [==============================] - 0s 9ms/step - loss: 19.1086 - mse: 521.2531\n",
            "Epoch 88/500\n",
            "2/2 [==============================] - 0s 8ms/step - loss: 29.8229 - mse: 1287.1926\n",
            "Epoch 89/500\n",
            "2/2 [==============================] - 0s 8ms/step - loss: 10.1742 - mse: 124.1342\n",
            "Epoch 90/500\n",
            "2/2 [==============================] - 0s 8ms/step - loss: 21.5240 - mse: 663.8622\n",
            "Epoch 91/500\n",
            "2/2 [==============================] - 0s 8ms/step - loss: 10.5716 - mse: 161.7467\n",
            "Epoch 92/500\n",
            "2/2 [==============================] - 0s 9ms/step - loss: 18.3977 - mse: 464.1332\n",
            "Epoch 93/500\n",
            "2/2 [==============================] - 0s 13ms/step - loss: 7.4138 - mse: 81.9819\n",
            "Epoch 94/500\n",
            "2/2 [==============================] - 0s 8ms/step - loss: 17.7380 - mse: 445.7385\n",
            "Epoch 95/500\n",
            "2/2 [==============================] - 0s 11ms/step - loss: 11.1144 - mse: 164.0824\n",
            "Epoch 96/500\n",
            "2/2 [==============================] - 0s 15ms/step - loss: 19.4346 - mse: 510.5849\n",
            "Epoch 97/500\n",
            "2/2 [==============================] - 0s 8ms/step - loss: 12.1593 - mse: 209.9759\n",
            "Epoch 98/500\n",
            "2/2 [==============================] - 0s 7ms/step - loss: 11.5653 - mse: 169.4053\n",
            "Epoch 99/500\n",
            "2/2 [==============================] - 0s 8ms/step - loss: 13.8827 - mse: 265.4633\n",
            "Epoch 100/500\n",
            "2/2 [==============================] - 0s 7ms/step - loss: 20.2277 - mse: 608.8226\n",
            "Epoch 101/500\n",
            "2/2 [==============================] - 0s 8ms/step - loss: 11.4479 - mse: 177.1449\n",
            "Epoch 102/500\n",
            "2/2 [==============================] - 0s 10ms/step - loss: 17.4842 - mse: 426.5334\n",
            "Epoch 103/500\n",
            "2/2 [==============================] - 0s 8ms/step - loss: 7.0217 - mse: 65.2649\n",
            "Epoch 104/500\n",
            "2/2 [==============================] - 0s 7ms/step - loss: 23.5789 - mse: 757.4906\n",
            "Epoch 105/500\n",
            "2/2 [==============================] - 0s 8ms/step - loss: 16.8932 - mse: 443.0959\n",
            "Epoch 106/500\n",
            "2/2 [==============================] - 0s 8ms/step - loss: 9.2954 - mse: 144.6571\n",
            "Epoch 107/500\n",
            "2/2 [==============================] - 0s 9ms/step - loss: 25.3749 - mse: 934.2094\n",
            "Epoch 108/500\n",
            "2/2 [==============================] - 0s 10ms/step - loss: 13.4621 - mse: 269.8603\n",
            "Epoch 109/500\n",
            "2/2 [==============================] - 0s 9ms/step - loss: 9.5238 - mse: 108.7909\n",
            "Epoch 110/500\n",
            "2/2 [==============================] - 0s 11ms/step - loss: 9.6722 - mse: 128.8767\n",
            "Epoch 111/500\n",
            "2/2 [==============================] - 0s 8ms/step - loss: 14.5987 - mse: 295.9868\n",
            "Epoch 112/500\n",
            "2/2 [==============================] - 0s 12ms/step - loss: 9.5670 - mse: 123.4117\n",
            "Epoch 113/500\n",
            "2/2 [==============================] - 0s 8ms/step - loss: 17.8093 - mse: 460.3876\n",
            "Epoch 114/500\n",
            "2/2 [==============================] - 0s 8ms/step - loss: 17.1782 - mse: 441.2217\n",
            "Epoch 115/500\n",
            "2/2 [==============================] - 0s 8ms/step - loss: 11.1182 - mse: 155.0965\n",
            "Epoch 116/500\n",
            "2/2 [==============================] - 0s 8ms/step - loss: 23.3071 - mse: 791.7674\n",
            "Epoch 117/500\n",
            "2/2 [==============================] - 0s 9ms/step - loss: 9.6144 - mse: 126.1895\n",
            "Epoch 118/500\n",
            "2/2 [==============================] - 0s 9ms/step - loss: 10.6899 - mse: 140.2948\n",
            "Epoch 119/500\n",
            "2/2 [==============================] - 0s 7ms/step - loss: 8.0355 - mse: 78.3509\n",
            "Epoch 120/500\n",
            "2/2 [==============================] - 0s 8ms/step - loss: 29.6860 - mse: 1315.8669\n",
            "Epoch 121/500\n",
            "2/2 [==============================] - 0s 11ms/step - loss: 8.0714 - mse: 70.6648\n",
            "Epoch 122/500\n",
            "2/2 [==============================] - 0s 8ms/step - loss: 28.3087 - mse: 1233.3867\n",
            "Epoch 123/500\n",
            "2/2 [==============================] - 0s 16ms/step - loss: 32.9014 - mse: 1591.9531\n",
            "Epoch 124/500\n",
            "2/2 [==============================] - 0s 12ms/step - loss: 19.6291 - mse: 571.6970\n",
            "Epoch 125/500\n",
            "2/2 [==============================] - 0s 14ms/step - loss: 7.0095 - mse: 72.1090\n",
            "Epoch 126/500\n",
            "2/2 [==============================] - 0s 14ms/step - loss: 21.8056 - mse: 666.4352\n",
            "Epoch 127/500\n",
            "2/2 [==============================] - 0s 12ms/step - loss: 7.9812 - mse: 69.5628\n",
            "Epoch 128/500\n",
            "2/2 [==============================] - 0s 15ms/step - loss: 21.0585 - mse: 653.6498\n",
            "Epoch 129/500\n",
            "2/2 [==============================] - 0s 12ms/step - loss: 9.0107 - mse: 120.8766\n",
            "Epoch 130/500\n",
            "2/2 [==============================] - 0s 8ms/step - loss: 24.0502 - mse: 815.7756\n",
            "Epoch 131/500\n",
            "2/2 [==============================] - 0s 10ms/step - loss: 9.7537 - mse: 133.0197\n",
            "Epoch 132/500\n",
            "2/2 [==============================] - 0s 9ms/step - loss: 18.3052 - mse: 500.9222\n",
            "Epoch 133/500\n",
            "2/2 [==============================] - 0s 9ms/step - loss: 7.5833 - mse: 80.1912\n",
            "Epoch 134/500\n",
            "2/2 [==============================] - 0s 8ms/step - loss: 18.5755 - mse: 506.3351\n",
            "Epoch 135/500\n",
            "2/2 [==============================] - 0s 11ms/step - loss: 10.5360 - mse: 148.5977\n",
            "Epoch 136/500\n",
            "2/2 [==============================] - 0s 10ms/step - loss: 18.2694 - mse: 472.4470\n",
            "Epoch 137/500\n",
            "2/2 [==============================] - 0s 9ms/step - loss: 23.1658 - mse: 724.0396\n",
            "Epoch 138/500\n",
            "2/2 [==============================] - 0s 8ms/step - loss: 9.1362 - mse: 139.5299\n",
            "Epoch 139/500\n",
            "2/2 [==============================] - 0s 8ms/step - loss: 8.9181 - mse: 144.6078\n",
            "Epoch 140/500\n",
            "2/2 [==============================] - 0s 8ms/step - loss: 16.4732 - mse: 389.2476\n",
            "Epoch 141/500\n",
            "2/2 [==============================] - 0s 8ms/step - loss: 8.4208 - mse: 91.7415\n",
            "Epoch 142/500\n",
            "2/2 [==============================] - 0s 8ms/step - loss: 36.9540 - mse: 2404.8679\n",
            "Epoch 143/500\n",
            "2/2 [==============================] - 0s 8ms/step - loss: 25.5821 - mse: 927.2355\n",
            "Epoch 144/500\n",
            "2/2 [==============================] - 0s 9ms/step - loss: 9.5392 - mse: 144.3267\n",
            "Epoch 145/500\n",
            "2/2 [==============================] - 0s 8ms/step - loss: 26.6058 - mse: 957.1336\n",
            "Epoch 146/500\n",
            "2/2 [==============================] - 0s 8ms/step - loss: 8.7248 - mse: 109.2955\n",
            "Epoch 147/500\n",
            "2/2 [==============================] - 0s 9ms/step - loss: 15.6172 - mse: 311.2310\n",
            "Epoch 148/500\n",
            "2/2 [==============================] - 0s 8ms/step - loss: 18.3065 - mse: 464.7852\n",
            "Epoch 149/500\n",
            "2/2 [==============================] - 0s 8ms/step - loss: 8.1994 - mse: 106.4583\n",
            "Epoch 150/500\n",
            "2/2 [==============================] - 0s 9ms/step - loss: 7.4964 - mse: 66.4455\n",
            "Epoch 151/500\n",
            "2/2 [==============================] - 0s 8ms/step - loss: 18.3374 - mse: 485.9986\n",
            "Epoch 152/500\n",
            "2/2 [==============================] - 0s 8ms/step - loss: 10.2895 - mse: 130.5616\n",
            "Epoch 153/500\n",
            "2/2 [==============================] - 0s 9ms/step - loss: 29.6425 - mse: 1268.4644\n",
            "Epoch 154/500\n",
            "2/2 [==============================] - 0s 9ms/step - loss: 10.5555 - mse: 201.2335\n",
            "Epoch 155/500\n",
            "2/2 [==============================] - 0s 9ms/step - loss: 15.4537 - mse: 347.2169\n",
            "Epoch 156/500\n",
            "2/2 [==============================] - 0s 8ms/step - loss: 17.0174 - mse: 438.8494\n",
            "Epoch 157/500\n",
            "2/2 [==============================] - 0s 9ms/step - loss: 32.8218 - mse: 1744.8148\n",
            "Epoch 158/500\n",
            "2/2 [==============================] - 0s 16ms/step - loss: 10.7038 - mse: 151.0814\n",
            "Epoch 159/500\n",
            "2/2 [==============================] - 0s 9ms/step - loss: 8.9054 - mse: 97.7705\n",
            "Epoch 160/500\n",
            "2/2 [==============================] - 0s 9ms/step - loss: 22.1321 - mse: 709.4397\n",
            "Epoch 161/500\n",
            "2/2 [==============================] - 0s 9ms/step - loss: 11.7113 - mse: 202.9612\n",
            "Epoch 162/500\n",
            "2/2 [==============================] - 0s 10ms/step - loss: 21.5734 - mse: 670.2863\n",
            "Epoch 163/500\n",
            "2/2 [==============================] - 0s 8ms/step - loss: 19.2485 - mse: 533.4077\n",
            "Epoch 164/500\n",
            "2/2 [==============================] - 0s 8ms/step - loss: 11.0156 - mse: 177.6828\n",
            "Epoch 165/500\n",
            "2/2 [==============================] - 0s 9ms/step - loss: 9.6187 - mse: 179.8633\n",
            "Epoch 166/500\n",
            "2/2 [==============================] - 0s 9ms/step - loss: 21.5908 - mse: 681.9665\n",
            "Epoch 167/500\n",
            "2/2 [==============================] - 0s 9ms/step - loss: 26.2851 - mse: 1048.8451\n",
            "Epoch 168/500\n",
            "2/2 [==============================] - 0s 8ms/step - loss: 9.8525 - mse: 118.2892\n",
            "Epoch 169/500\n",
            "2/2 [==============================] - 0s 8ms/step - loss: 22.5631 - mse: 787.0594\n",
            "Epoch 170/500\n",
            "2/2 [==============================] - 0s 8ms/step - loss: 10.1499 - mse: 195.9051\n",
            "Epoch 171/500\n",
            "2/2 [==============================] - 0s 9ms/step - loss: 18.0464 - mse: 503.4531\n",
            "Epoch 172/500\n",
            "2/2 [==============================] - 0s 9ms/step - loss: 28.8377 - mse: 1305.7997\n",
            "Epoch 173/500\n",
            "2/2 [==============================] - 0s 11ms/step - loss: 16.5280 - mse: 432.1447\n",
            "Epoch 174/500\n",
            "2/2 [==============================] - 0s 7ms/step - loss: 11.2115 - mse: 199.9692\n",
            "Epoch 175/500\n",
            "2/2 [==============================] - 0s 15ms/step - loss: 27.5839 - mse: 1097.8185\n",
            "Epoch 176/500\n",
            "2/2 [==============================] - 0s 12ms/step - loss: 8.2680 - mse: 77.5373\n",
            "Epoch 177/500\n",
            "2/2 [==============================] - 0s 10ms/step - loss: 9.2580 - mse: 108.9075\n",
            "Epoch 178/500\n",
            "2/2 [==============================] - 0s 7ms/step - loss: 18.1440 - mse: 466.0516\n",
            "Epoch 179/500\n",
            "2/2 [==============================] - 0s 15ms/step - loss: 10.5995 - mse: 147.8543\n",
            "Epoch 180/500\n",
            "2/2 [==============================] - 0s 11ms/step - loss: 7.8992 - mse: 100.6932\n",
            "Epoch 181/500\n",
            "2/2 [==============================] - 0s 11ms/step - loss: 17.4015 - mse: 438.6037\n",
            "Epoch 182/500\n",
            "2/2 [==============================] - 0s 11ms/step - loss: 11.0089 - mse: 157.1596\n",
            "Epoch 183/500\n",
            "2/2 [==============================] - 0s 10ms/step - loss: 11.7027 - mse: 203.9956\n",
            "Epoch 184/500\n",
            "2/2 [==============================] - 0s 10ms/step - loss: 30.4062 - mse: 1387.3857\n",
            "Epoch 185/500\n",
            "2/2 [==============================] - 0s 8ms/step - loss: 7.5557 - mse: 98.6848\n",
            "Epoch 186/500\n",
            "2/2 [==============================] - 0s 9ms/step - loss: 15.9905 - mse: 369.3697\n",
            "Epoch 187/500\n",
            "2/2 [==============================] - 0s 12ms/step - loss: 8.5579 - mse: 85.4846\n",
            "Epoch 188/500\n",
            "2/2 [==============================] - 0s 10ms/step - loss: 28.7339 - mse: 1175.7076\n",
            "Epoch 189/500\n",
            "2/2 [==============================] - 0s 11ms/step - loss: 13.1689 - mse: 271.3448\n",
            "Epoch 190/500\n",
            "2/2 [==============================] - 0s 14ms/step - loss: 18.3101 - mse: 512.5543\n",
            "Epoch 191/500\n",
            "2/2 [==============================] - 0s 10ms/step - loss: 13.7376 - mse: 264.9673\n",
            "Epoch 192/500\n",
            "2/2 [==============================] - 0s 11ms/step - loss: 13.7104 - mse: 261.0631\n",
            "Epoch 193/500\n",
            "2/2 [==============================] - 0s 10ms/step - loss: 28.5842 - mse: 1135.1300\n",
            "Epoch 194/500\n",
            "2/2 [==============================] - 0s 10ms/step - loss: 7.0707 - mse: 78.6824\n",
            "Epoch 195/500\n",
            "2/2 [==============================] - 0s 16ms/step - loss: 7.0550 - mse: 74.9455\n",
            "Epoch 196/500\n",
            "2/2 [==============================] - 0s 10ms/step - loss: 22.0066 - mse: 709.4532\n",
            "Epoch 197/500\n",
            "2/2 [==============================] - 0s 14ms/step - loss: 20.8443 - mse: 643.6134\n",
            "Epoch 198/500\n",
            "2/2 [==============================] - 0s 10ms/step - loss: 12.4713 - mse: 236.5514\n",
            "Epoch 199/500\n",
            "2/2 [==============================] - 0s 11ms/step - loss: 17.9099 - mse: 460.3538\n",
            "Epoch 200/500\n",
            "2/2 [==============================] - 0s 11ms/step - loss: 13.7494 - mse: 282.2673\n",
            "Epoch 201/500\n",
            "2/2 [==============================] - 0s 11ms/step - loss: 5.4687 - mse: 41.0882\n",
            "Epoch 202/500\n",
            "2/2 [==============================] - 0s 11ms/step - loss: 13.7006 - mse: 293.8450\n",
            "Epoch 203/500\n",
            "2/2 [==============================] - 0s 11ms/step - loss: 9.4142 - mse: 139.9065\n",
            "Epoch 204/500\n",
            "2/2 [==============================] - 0s 13ms/step - loss: 20.9796 - mse: 656.2640\n",
            "Epoch 205/500\n",
            "2/2 [==============================] - 0s 10ms/step - loss: 9.5470 - mse: 127.9146\n",
            "Epoch 206/500\n",
            "2/2 [==============================] - 0s 11ms/step - loss: 11.7256 - mse: 195.6243\n",
            "Epoch 207/500\n",
            "2/2 [==============================] - 0s 10ms/step - loss: 14.3772 - mse: 317.1684\n",
            "Epoch 208/500\n",
            "2/2 [==============================] - 0s 12ms/step - loss: 14.8579 - mse: 323.1459\n",
            "Epoch 209/500\n",
            "2/2 [==============================] - 0s 11ms/step - loss: 14.9706 - mse: 345.7383\n",
            "Epoch 210/500\n",
            "2/2 [==============================] - 0s 11ms/step - loss: 17.8998 - mse: 467.4655\n",
            "Epoch 211/500\n",
            "2/2 [==============================] - 0s 11ms/step - loss: 9.8327 - mse: 145.8636\n",
            "Epoch 212/500\n",
            "2/2 [==============================] - 0s 12ms/step - loss: 18.3352 - mse: 507.7780\n",
            "Epoch 213/500\n",
            "2/2 [==============================] - 0s 13ms/step - loss: 15.0383 - mse: 307.6405\n",
            "Epoch 214/500\n",
            "2/2 [==============================] - 0s 10ms/step - loss: 14.5874 - mse: 293.5640\n",
            "Epoch 215/500\n",
            "2/2 [==============================] - 0s 11ms/step - loss: 23.3015 - mse: 799.4144\n",
            "Epoch 216/500\n",
            "2/2 [==============================] - 0s 7ms/step - loss: 13.3613 - mse: 278.0953\n",
            "Epoch 217/500\n",
            "2/2 [==============================] - 0s 11ms/step - loss: 9.8517 - mse: 136.3095\n",
            "Epoch 218/500\n",
            "2/2 [==============================] - 0s 10ms/step - loss: 12.5451 - mse: 206.5807\n",
            "Epoch 219/500\n",
            "2/2 [==============================] - 0s 15ms/step - loss: 4.9472 - mse: 37.4063\n",
            "Epoch 220/500\n",
            "2/2 [==============================] - 0s 10ms/step - loss: 7.1129 - mse: 57.5578\n",
            "Epoch 221/500\n",
            "2/2 [==============================] - 0s 10ms/step - loss: 35.4567 - mse: 2108.1057\n",
            "Epoch 222/500\n",
            "2/2 [==============================] - 0s 10ms/step - loss: 34.8634 - mse: 1966.9648\n",
            "Epoch 223/500\n",
            "2/2 [==============================] - 0s 10ms/step - loss: 7.9846 - mse: 119.7549\n",
            "Epoch 224/500\n",
            "2/2 [==============================] - 0s 9ms/step - loss: 14.7003 - mse: 318.5022\n",
            "Epoch 225/500\n",
            "2/2 [==============================] - 0s 10ms/step - loss: 16.7196 - mse: 360.6414\n",
            "Epoch 226/500\n",
            "2/2 [==============================] - 0s 13ms/step - loss: 15.9329 - mse: 369.8887\n",
            "Epoch 227/500\n",
            "2/2 [==============================] - 0s 11ms/step - loss: 16.1644 - mse: 369.5814\n",
            "Epoch 228/500\n",
            "2/2 [==============================] - 0s 10ms/step - loss: 13.9324 - mse: 282.1418\n",
            "Epoch 229/500\n",
            "2/2 [==============================] - 0s 6ms/step - loss: 18.0504 - mse: 457.4224\n",
            "Epoch 230/500\n",
            "2/2 [==============================] - 0s 13ms/step - loss: 15.6120 - mse: 314.6216\n",
            "Epoch 231/500\n",
            "2/2 [==============================] - 0s 10ms/step - loss: 21.2041 - mse: 670.7582\n",
            "Epoch 232/500\n",
            "2/2 [==============================] - 0s 9ms/step - loss: 25.2732 - mse: 913.5824\n",
            "Epoch 233/500\n",
            "2/2 [==============================] - 0s 6ms/step - loss: 16.3176 - mse: 387.7167\n",
            "Epoch 234/500\n",
            "2/2 [==============================] - 0s 11ms/step - loss: 7.2729 - mse: 66.5098\n",
            "Epoch 235/500\n",
            "2/2 [==============================] - 0s 13ms/step - loss: 16.9688 - mse: 403.1306\n",
            "Epoch 236/500\n",
            "2/2 [==============================] - 0s 10ms/step - loss: 7.1225 - mse: 69.7516\n",
            "Epoch 237/500\n",
            "2/2 [==============================] - 0s 15ms/step - loss: 9.2058 - mse: 118.9102\n",
            "Epoch 238/500\n",
            "2/2 [==============================] - 0s 10ms/step - loss: 8.0961 - mse: 86.7115\n",
            "Epoch 239/500\n",
            "2/2 [==============================] - 0s 12ms/step - loss: 17.0539 - mse: 438.0277\n",
            "Epoch 240/500\n",
            "2/2 [==============================] - 0s 11ms/step - loss: 8.8627 - mse: 107.8192\n",
            "Epoch 241/500\n",
            "2/2 [==============================] - 0s 13ms/step - loss: 13.1711 - mse: 273.2425\n",
            "Epoch 242/500\n",
            "2/2 [==============================] - 0s 18ms/step - loss: 8.7886 - mse: 104.8368\n",
            "Epoch 243/500\n",
            "2/2 [==============================] - 0s 11ms/step - loss: 18.8161 - mse: 541.4730\n",
            "Epoch 244/500\n",
            "2/2 [==============================] - 0s 11ms/step - loss: 14.0531 - mse: 275.3814\n",
            "Epoch 245/500\n",
            "2/2 [==============================] - 0s 12ms/step - loss: 14.6831 - mse: 290.1825\n",
            "Epoch 246/500\n",
            "2/2 [==============================] - 0s 11ms/step - loss: 15.8045 - mse: 370.7151\n",
            "Epoch 247/500\n",
            "2/2 [==============================] - 0s 11ms/step - loss: 17.6810 - mse: 421.4941\n",
            "Epoch 248/500\n",
            "2/2 [==============================] - 0s 11ms/step - loss: 13.2367 - mse: 251.7196\n",
            "Epoch 249/500\n",
            "2/2 [==============================] - 0s 13ms/step - loss: 14.5070 - mse: 288.7690\n",
            "Epoch 250/500\n",
            "2/2 [==============================] - 0s 12ms/step - loss: 23.2322 - mse: 793.2496\n",
            "Epoch 251/500\n",
            "2/2 [==============================] - 0s 13ms/step - loss: 9.3009 - mse: 119.0358\n",
            "Epoch 252/500\n",
            "2/2 [==============================] - 0s 11ms/step - loss: 36.6569 - mse: 2195.6230\n",
            "Epoch 253/500\n",
            "2/2 [==============================] - 0s 7ms/step - loss: 21.8206 - mse: 667.9647\n",
            "Epoch 254/500\n",
            "2/2 [==============================] - 0s 11ms/step - loss: 7.2792 - mse: 77.8092\n",
            "Epoch 255/500\n",
            "2/2 [==============================] - 0s 9ms/step - loss: 24.7127 - mse: 882.9681\n",
            "Epoch 256/500\n",
            "2/2 [==============================] - 0s 11ms/step - loss: 12.4220 - mse: 220.3520\n",
            "Epoch 257/500\n",
            "2/2 [==============================] - 0s 11ms/step - loss: 10.5824 - mse: 164.0443\n",
            "Epoch 258/500\n",
            "2/2 [==============================] - 0s 8ms/step - loss: 14.4883 - mse: 322.3517\n",
            "Epoch 259/500\n",
            "2/2 [==============================] - 0s 11ms/step - loss: 8.6132 - mse: 98.6935\n",
            "Epoch 260/500\n",
            "2/2 [==============================] - 0s 14ms/step - loss: 43.0581 - mse: 2975.2383\n",
            "Epoch 261/500\n",
            "2/2 [==============================] - 0s 9ms/step - loss: 18.4611 - mse: 493.6676\n",
            "Epoch 262/500\n",
            "2/2 [==============================] - 0s 13ms/step - loss: 6.8820 - mse: 94.3408\n",
            "Epoch 263/500\n",
            "2/2 [==============================] - 0s 10ms/step - loss: 13.7211 - mse: 268.5677\n",
            "Epoch 264/500\n",
            "2/2 [==============================] - 0s 13ms/step - loss: 21.0154 - mse: 653.9611\n",
            "Epoch 265/500\n",
            "2/2 [==============================] - 0s 13ms/step - loss: 19.3731 - mse: 545.6261\n",
            "Epoch 266/500\n",
            "2/2 [==============================] - 0s 11ms/step - loss: 11.4735 - mse: 234.7202\n",
            "Epoch 267/500\n",
            "2/2 [==============================] - 0s 14ms/step - loss: 7.5302 - mse: 112.0909\n",
            "Epoch 268/500\n",
            "2/2 [==============================] - 0s 6ms/step - loss: 21.6453 - mse: 670.2247\n",
            "Epoch 269/500\n",
            "2/2 [==============================] - 0s 7ms/step - loss: 33.1785 - mse: 1653.7402\n",
            "Epoch 270/500\n",
            "2/2 [==============================] - 0s 7ms/step - loss: 10.0833 - mse: 148.7355\n",
            "Epoch 271/500\n",
            "2/2 [==============================] - 0s 10ms/step - loss: 12.1012 - mse: 303.1729\n",
            "Epoch 272/500\n",
            "2/2 [==============================] - 0s 12ms/step - loss: 26.1372 - mse: 944.6774\n",
            "Epoch 273/500\n",
            "2/2 [==============================] - 0s 11ms/step - loss: 12.1752 - mse: 228.8037\n",
            "Epoch 274/500\n",
            "2/2 [==============================] - 0s 12ms/step - loss: 13.3272 - mse: 282.3036\n",
            "Epoch 275/500\n",
            "2/2 [==============================] - 0s 11ms/step - loss: 29.3775 - mse: 1229.1161\n",
            "Epoch 276/500\n",
            "2/2 [==============================] - 0s 11ms/step - loss: 7.3329 - mse: 104.3418\n",
            "Epoch 277/500\n",
            "2/2 [==============================] - 0s 14ms/step - loss: 31.1362 - mse: 1360.7678\n",
            "Epoch 278/500\n",
            "2/2 [==============================] - 0s 10ms/step - loss: 12.3015 - mse: 234.6619\n",
            "Epoch 279/500\n",
            "2/2 [==============================] - 0s 9ms/step - loss: 16.4103 - mse: 416.9111\n",
            "Epoch 280/500\n",
            "2/2 [==============================] - 0s 9ms/step - loss: 21.9118 - mse: 716.7839\n",
            "Epoch 281/500\n",
            "2/2 [==============================] - 0s 9ms/step - loss: 22.1501 - mse: 745.2078\n",
            "Epoch 282/500\n",
            "2/2 [==============================] - 0s 6ms/step - loss: 7.7429 - mse: 90.5224\n",
            "Epoch 283/500\n",
            "2/2 [==============================] - 0s 12ms/step - loss: 8.1429 - mse: 87.9051\n",
            "Epoch 284/500\n",
            "2/2 [==============================] - 0s 12ms/step - loss: 24.9435 - mse: 936.1615\n",
            "Epoch 285/500\n",
            "2/2 [==============================] - 0s 10ms/step - loss: 13.6958 - mse: 299.3618\n",
            "Epoch 286/500\n",
            "2/2 [==============================] - 0s 7ms/step - loss: 6.8926 - mse: 81.2999\n",
            "Epoch 287/500\n",
            "2/2 [==============================] - 0s 8ms/step - loss: 24.5352 - mse: 862.2876\n",
            "Epoch 288/500\n",
            "2/2 [==============================] - 0s 6ms/step - loss: 20.1721 - mse: 605.2884\n",
            "Epoch 289/500\n",
            "2/2 [==============================] - 0s 7ms/step - loss: 11.9658 - mse: 244.8307\n",
            "Epoch 290/500\n",
            "2/2 [==============================] - 0s 7ms/step - loss: 16.5391 - mse: 366.5716\n",
            "Epoch 291/500\n",
            "2/2 [==============================] - 0s 8ms/step - loss: 16.8017 - mse: 414.8172\n",
            "Epoch 292/500\n",
            "2/2 [==============================] - 0s 13ms/step - loss: 9.4642 - mse: 213.4547\n",
            "Epoch 293/500\n",
            "2/2 [==============================] - 0s 18ms/step - loss: 15.2710 - mse: 318.1682\n",
            "Epoch 294/500\n",
            "2/2 [==============================] - 0s 10ms/step - loss: 22.7179 - mse: 780.8705\n",
            "Epoch 295/500\n",
            "2/2 [==============================] - 0s 14ms/step - loss: 17.9234 - mse: 458.5744\n",
            "Epoch 296/500\n",
            "2/2 [==============================] - 0s 9ms/step - loss: 6.1743 - mse: 59.0634\n",
            "Epoch 297/500\n",
            "2/2 [==============================] - 0s 9ms/step - loss: 10.9440 - mse: 254.2864\n",
            "Epoch 298/500\n",
            "2/2 [==============================] - 0s 9ms/step - loss: 23.1530 - mse: 785.9862\n",
            "Epoch 299/500\n",
            "2/2 [==============================] - 0s 7ms/step - loss: 17.7331 - mse: 469.9279\n",
            "Epoch 300/500\n",
            "2/2 [==============================] - 0s 8ms/step - loss: 6.9824 - mse: 65.0505\n",
            "Epoch 301/500\n",
            "2/2 [==============================] - 0s 10ms/step - loss: 25.1857 - mse: 898.2811\n",
            "Epoch 302/500\n",
            "2/2 [==============================] - 0s 11ms/step - loss: 8.9025 - mse: 116.0081\n",
            "Epoch 303/500\n",
            "2/2 [==============================] - 0s 9ms/step - loss: 17.7668 - mse: 461.9385\n",
            "Epoch 304/500\n",
            "2/2 [==============================] - 0s 6ms/step - loss: 11.0002 - mse: 173.9252\n",
            "Epoch 305/500\n",
            "2/2 [==============================] - 0s 7ms/step - loss: 12.9191 - mse: 271.8387\n",
            "Epoch 306/500\n",
            "2/2 [==============================] - 0s 9ms/step - loss: 8.4033 - mse: 94.4447\n",
            "Epoch 307/500\n",
            "2/2 [==============================] - 0s 10ms/step - loss: 13.6094 - mse: 279.1180\n",
            "Epoch 308/500\n",
            "2/2 [==============================] - 0s 11ms/step - loss: 7.4404 - mse: 78.3840\n",
            "Epoch 309/500\n",
            "2/2 [==============================] - 0s 11ms/step - loss: 9.4642 - mse: 138.8862\n",
            "Epoch 310/500\n",
            "2/2 [==============================] - 0s 9ms/step - loss: 10.7099 - mse: 198.2193\n",
            "Epoch 311/500\n",
            "2/2 [==============================] - 0s 9ms/step - loss: 13.2814 - mse: 254.2448\n",
            "Epoch 312/500\n",
            "2/2 [==============================] - 0s 10ms/step - loss: 29.9763 - mse: 1241.6267\n",
            "Epoch 313/500\n",
            "2/2 [==============================] - 0s 10ms/step - loss: 7.6304 - mse: 104.4100\n",
            "Epoch 314/500\n",
            "2/2 [==============================] - 0s 11ms/step - loss: 9.9106 - mse: 239.5562\n",
            "Epoch 315/500\n",
            "2/2 [==============================] - 0s 9ms/step - loss: 23.7669 - mse: 820.7430\n",
            "Epoch 316/500\n",
            "2/2 [==============================] - 0s 13ms/step - loss: 16.3937 - mse: 404.4806\n",
            "Epoch 317/500\n",
            "2/2 [==============================] - 0s 10ms/step - loss: 21.0758 - mse: 606.4620\n",
            "Epoch 318/500\n",
            "2/2 [==============================] - 0s 8ms/step - loss: 7.9367 - mse: 81.3768\n",
            "Epoch 319/500\n",
            "2/2 [==============================] - 0s 11ms/step - loss: 17.9731 - mse: 479.6104\n",
            "Epoch 320/500\n",
            "2/2 [==============================] - 0s 12ms/step - loss: 10.2376 - mse: 174.0458\n",
            "Epoch 321/500\n",
            "2/2 [==============================] - 0s 10ms/step - loss: 8.3338 - mse: 110.8495\n",
            "Epoch 322/500\n",
            "2/2 [==============================] - 0s 10ms/step - loss: 5.0621 - mse: 39.6194\n",
            "Epoch 323/500\n",
            "2/2 [==============================] - 0s 12ms/step - loss: 23.5110 - mse: 802.4911\n",
            "Epoch 324/500\n",
            "2/2 [==============================] - 0s 9ms/step - loss: 6.8309 - mse: 57.6747\n",
            "Epoch 325/500\n",
            "2/2 [==============================] - 0s 11ms/step - loss: 16.3863 - mse: 384.4413\n",
            "Epoch 326/500\n",
            "2/2 [==============================] - 0s 8ms/step - loss: 7.5019 - mse: 78.7652\n",
            "Epoch 327/500\n",
            "2/2 [==============================] - 0s 10ms/step - loss: 20.0573 - mse: 568.8258\n",
            "Epoch 328/500\n",
            "2/2 [==============================] - 0s 11ms/step - loss: 13.7661 - mse: 265.8643\n",
            "Epoch 329/500\n",
            "2/2 [==============================] - 0s 13ms/step - loss: 16.8282 - mse: 430.9915\n",
            "Epoch 330/500\n",
            "2/2 [==============================] - 0s 9ms/step - loss: 7.0514 - mse: 81.9921\n",
            "Epoch 331/500\n",
            "2/2 [==============================] - 0s 14ms/step - loss: 21.4846 - mse: 704.3936\n",
            "Epoch 332/500\n",
            "2/2 [==============================] - 0s 8ms/step - loss: 12.2880 - mse: 236.5704\n",
            "Epoch 333/500\n",
            "2/2 [==============================] - 0s 13ms/step - loss: 11.8117 - mse: 222.0925\n",
            "Epoch 334/500\n",
            "2/2 [==============================] - 0s 10ms/step - loss: 8.3600 - mse: 169.8895\n",
            "Epoch 335/500\n",
            "2/2 [==============================] - 0s 10ms/step - loss: 12.4833 - mse: 276.8592\n",
            "Epoch 336/500\n",
            "2/2 [==============================] - 0s 10ms/step - loss: 32.2171 - mse: 1416.1721\n",
            "Epoch 337/500\n",
            "2/2 [==============================] - 0s 12ms/step - loss: 10.4477 - mse: 180.3261\n",
            "Epoch 338/500\n",
            "2/2 [==============================] - 0s 14ms/step - loss: 19.6832 - mse: 573.4703\n",
            "Epoch 339/500\n",
            "2/2 [==============================] - 0s 12ms/step - loss: 35.0762 - mse: 1849.1586\n",
            "Epoch 340/500\n",
            "2/2 [==============================] - 0s 7ms/step - loss: 10.4193 - mse: 181.4146\n",
            "Epoch 341/500\n",
            "2/2 [==============================] - 0s 9ms/step - loss: 9.7625 - mse: 156.3233\n",
            "Epoch 342/500\n",
            "2/2 [==============================] - 0s 12ms/step - loss: 11.9500 - mse: 188.5576\n",
            "Epoch 343/500\n",
            "2/2 [==============================] - 0s 11ms/step - loss: 9.3943 - mse: 145.3949\n",
            "Epoch 344/500\n",
            "2/2 [==============================] - 0s 9ms/step - loss: 5.6071 - mse: 44.6759\n",
            "Epoch 345/500\n",
            "2/2 [==============================] - 0s 9ms/step - loss: 37.4876 - mse: 2291.7842\n",
            "Epoch 346/500\n",
            "2/2 [==============================] - 0s 12ms/step - loss: 16.8830 - mse: 411.1361\n",
            "Epoch 347/500\n",
            "2/2 [==============================] - 0s 9ms/step - loss: 12.8748 - mse: 281.5988\n",
            "Epoch 348/500\n",
            "2/2 [==============================] - 0s 11ms/step - loss: 8.1960 - mse: 162.6966\n",
            "Epoch 349/500\n",
            "2/2 [==============================] - 0s 11ms/step - loss: 13.5568 - mse: 261.1367\n",
            "Epoch 350/500\n",
            "2/2 [==============================] - 0s 10ms/step - loss: 15.4354 - mse: 333.2077\n",
            "Epoch 351/500\n",
            "2/2 [==============================] - 0s 12ms/step - loss: 32.9626 - mse: 1524.7926\n",
            "Epoch 352/500\n",
            "2/2 [==============================] - 0s 14ms/step - loss: 14.2040 - mse: 282.7503\n",
            "Epoch 353/500\n",
            "2/2 [==============================] - 0s 14ms/step - loss: 15.9196 - mse: 374.1909\n",
            "Epoch 354/500\n",
            "2/2 [==============================] - 0s 10ms/step - loss: 19.0878 - mse: 534.9762\n",
            "Epoch 355/500\n",
            "2/2 [==============================] - 0s 9ms/step - loss: 34.1178 - mse: 1782.7083\n",
            "Epoch 356/500\n",
            "2/2 [==============================] - 0s 10ms/step - loss: 7.6798 - mse: 90.9120\n",
            "Epoch 357/500\n",
            "2/2 [==============================] - 0s 10ms/step - loss: 25.2287 - mse: 974.0978\n",
            "Epoch 358/500\n",
            "2/2 [==============================] - 0s 8ms/step - loss: 22.6759 - mse: 742.0966\n",
            "Epoch 359/500\n",
            "2/2 [==============================] - 0s 10ms/step - loss: 8.8765 - mse: 198.2597\n",
            "Epoch 360/500\n",
            "2/2 [==============================] - 0s 10ms/step - loss: 21.4709 - mse: 687.3268\n",
            "Epoch 361/500\n",
            "2/2 [==============================] - 0s 11ms/step - loss: 20.6073 - mse: 616.7966\n",
            "Epoch 362/500\n",
            "2/2 [==============================] - 0s 11ms/step - loss: 7.0611 - mse: 69.3816\n",
            "Epoch 363/500\n",
            "2/2 [==============================] - 0s 12ms/step - loss: 25.8117 - mse: 994.8220\n",
            "Epoch 364/500\n",
            "2/2 [==============================] - 0s 11ms/step - loss: 32.2248 - mse: 1527.6107\n",
            "Epoch 365/500\n",
            "2/2 [==============================] - 0s 10ms/step - loss: 10.0205 - mse: 161.6853\n",
            "Epoch 366/500\n",
            "2/2 [==============================] - 0s 10ms/step - loss: 9.6722 - mse: 227.5731\n",
            "Epoch 367/500\n",
            "2/2 [==============================] - 0s 8ms/step - loss: 30.4171 - mse: 1294.6038\n",
            "Epoch 368/500\n",
            "2/2 [==============================] - 0s 9ms/step - loss: 10.5020 - mse: 236.3139\n",
            "Epoch 369/500\n",
            "2/2 [==============================] - 0s 8ms/step - loss: 14.9909 - mse: 330.8538\n",
            "Epoch 370/500\n",
            "2/2 [==============================] - 0s 12ms/step - loss: 14.6580 - mse: 308.0731\n",
            "Epoch 371/500\n",
            "2/2 [==============================] - 0s 13ms/step - loss: 23.3672 - mse: 789.0348\n",
            "Epoch 372/500\n",
            "2/2 [==============================] - 0s 8ms/step - loss: 13.1025 - mse: 290.2275\n",
            "Epoch 373/500\n",
            "2/2 [==============================] - 0s 11ms/step - loss: 9.2587 - mse: 140.7057\n",
            "Epoch 374/500\n",
            "2/2 [==============================] - 0s 8ms/step - loss: 9.6648 - mse: 194.1149\n",
            "Epoch 375/500\n",
            "2/2 [==============================] - 0s 8ms/step - loss: 13.0041 - mse: 237.9865\n",
            "Epoch 376/500\n",
            "2/2 [==============================] - 0s 13ms/step - loss: 14.8863 - mse: 324.7530\n",
            "Epoch 377/500\n",
            "2/2 [==============================] - 0s 13ms/step - loss: 14.7932 - mse: 297.2055\n",
            "Epoch 378/500\n",
            "2/2 [==============================] - 0s 9ms/step - loss: 16.2751 - mse: 418.5627\n",
            "Epoch 379/500\n",
            "2/2 [==============================] - 0s 9ms/step - loss: 20.8307 - mse: 596.8126\n",
            "Epoch 380/500\n",
            "2/2 [==============================] - 0s 14ms/step - loss: 33.5318 - mse: 1684.8992\n",
            "Epoch 381/500\n",
            "2/2 [==============================] - 0s 13ms/step - loss: 8.2166 - mse: 100.6388\n",
            "Epoch 382/500\n",
            "2/2 [==============================] - 0s 15ms/step - loss: 13.0960 - mse: 282.0393\n",
            "Epoch 383/500\n",
            "2/2 [==============================] - 0s 9ms/step - loss: 8.3999 - mse: 126.0927\n",
            "Epoch 384/500\n",
            "2/2 [==============================] - 0s 9ms/step - loss: 7.1283 - mse: 72.4401\n",
            "Epoch 385/500\n",
            "2/2 [==============================] - 0s 7ms/step - loss: 10.9390 - mse: 249.4381\n",
            "Epoch 386/500\n",
            "2/2 [==============================] - 0s 7ms/step - loss: 19.7654 - mse: 601.5787\n",
            "Epoch 387/500\n",
            "2/2 [==============================] - 0s 7ms/step - loss: 24.8626 - mse: 896.3726\n",
            "Epoch 388/500\n",
            "2/2 [==============================] - 0s 7ms/step - loss: 8.7422 - mse: 128.0921\n",
            "Epoch 389/500\n",
            "2/2 [==============================] - 0s 11ms/step - loss: 5.9488 - mse: 48.1571\n",
            "Epoch 390/500\n",
            "2/2 [==============================] - 0s 13ms/step - loss: 24.4401 - mse: 881.1072\n",
            "Epoch 391/500\n",
            "2/2 [==============================] - 0s 7ms/step - loss: 5.9771 - mse: 73.2797\n",
            "Epoch 392/500\n",
            "2/2 [==============================] - 0s 7ms/step - loss: 16.3250 - mse: 379.2604\n",
            "Epoch 393/500\n",
            "2/2 [==============================] - 0s 7ms/step - loss: 6.0917 - mse: 76.7831\n",
            "Epoch 394/500\n",
            "2/2 [==============================] - 0s 9ms/step - loss: 11.0964 - mse: 204.7654\n",
            "Epoch 395/500\n",
            "2/2 [==============================] - 0s 6ms/step - loss: 14.9601 - mse: 336.1574\n",
            "Epoch 396/500\n",
            "2/2 [==============================] - 0s 9ms/step - loss: 7.6462 - mse: 103.3248\n",
            "Epoch 397/500\n",
            "2/2 [==============================] - 0s 7ms/step - loss: 8.7654 - mse: 136.5436\n",
            "Epoch 398/500\n",
            "2/2 [==============================] - 0s 7ms/step - loss: 14.5992 - mse: 320.4547\n",
            "Epoch 399/500\n",
            "2/2 [==============================] - 0s 10ms/step - loss: 11.3166 - mse: 280.6895\n",
            "Epoch 400/500\n",
            "2/2 [==============================] - 0s 8ms/step - loss: 21.9080 - mse: 741.3453\n",
            "Epoch 401/500\n",
            "2/2 [==============================] - 0s 6ms/step - loss: 14.8654 - mse: 348.6732\n",
            "Epoch 402/500\n",
            "2/2 [==============================] - 0s 9ms/step - loss: 8.4970 - mse: 115.5855\n",
            "Epoch 403/500\n",
            "2/2 [==============================] - 0s 13ms/step - loss: 10.3957 - mse: 191.0406\n",
            "Epoch 404/500\n",
            "2/2 [==============================] - 0s 7ms/step - loss: 10.2556 - mse: 207.5721\n",
            "Epoch 405/500\n",
            "2/2 [==============================] - 0s 10ms/step - loss: 6.3392 - mse: 68.2857\n",
            "Epoch 406/500\n",
            "2/2 [==============================] - 0s 20ms/step - loss: 17.4602 - mse: 460.2067\n",
            "Epoch 407/500\n",
            "2/2 [==============================] - 0s 13ms/step - loss: 11.4627 - mse: 284.7283\n",
            "Epoch 408/500\n",
            "2/2 [==============================] - 0s 12ms/step - loss: 20.7294 - mse: 662.1492\n",
            "Epoch 409/500\n",
            "2/2 [==============================] - 0s 13ms/step - loss: 31.3339 - mse: 1522.7734\n",
            "Epoch 410/500\n",
            "2/2 [==============================] - 0s 13ms/step - loss: 9.2542 - mse: 221.9492\n",
            "Epoch 411/500\n",
            "2/2 [==============================] - 0s 10ms/step - loss: 14.8621 - mse: 285.8412\n",
            "Epoch 412/500\n",
            "2/2 [==============================] - 0s 8ms/step - loss: 21.7182 - mse: 721.0381\n",
            "Epoch 413/500\n",
            "2/2 [==============================] - 0s 9ms/step - loss: 12.6615 - mse: 248.9701\n",
            "Epoch 414/500\n",
            "2/2 [==============================] - 0s 12ms/step - loss: 6.0687 - mse: 88.3710\n",
            "Epoch 415/500\n",
            "2/2 [==============================] - 0s 9ms/step - loss: 13.2201 - mse: 239.8952\n",
            "Epoch 416/500\n",
            "2/2 [==============================] - 0s 13ms/step - loss: 27.4244 - mse: 1037.9572\n",
            "Epoch 417/500\n",
            "2/2 [==============================] - 0s 7ms/step - loss: 10.6408 - mse: 207.4827\n",
            "Epoch 418/500\n",
            "2/2 [==============================] - 0s 10ms/step - loss: 12.8230 - mse: 236.7905\n",
            "Epoch 419/500\n",
            "2/2 [==============================] - 0s 12ms/step - loss: 15.8836 - mse: 374.5476\n",
            "Epoch 420/500\n",
            "2/2 [==============================] - 0s 10ms/step - loss: 24.7510 - mse: 849.5321\n",
            "Epoch 421/500\n",
            "2/2 [==============================] - 0s 10ms/step - loss: 17.3754 - mse: 444.1845\n",
            "Epoch 422/500\n",
            "2/2 [==============================] - 0s 7ms/step - loss: 7.8241 - mse: 157.5334\n",
            "Epoch 423/500\n",
            "2/2 [==============================] - 0s 16ms/step - loss: 25.3789 - mse: 907.6132\n",
            "Epoch 424/500\n",
            "2/2 [==============================] - 0s 15ms/step - loss: 15.1031 - mse: 369.3297\n",
            "Epoch 425/500\n",
            "2/2 [==============================] - 0s 9ms/step - loss: 7.1643 - mse: 75.3719\n",
            "Epoch 426/500\n",
            "2/2 [==============================] - 0s 9ms/step - loss: 20.3318 - mse: 572.0369\n",
            "Epoch 427/500\n",
            "2/2 [==============================] - 0s 10ms/step - loss: 6.3283 - mse: 84.9743\n",
            "Epoch 428/500\n",
            "2/2 [==============================] - 0s 12ms/step - loss: 12.9962 - mse: 288.4223\n",
            "Epoch 429/500\n",
            "2/2 [==============================] - 0s 11ms/step - loss: 10.7869 - mse: 192.7746\n",
            "Epoch 430/500\n",
            "2/2 [==============================] - 0s 9ms/step - loss: 11.4007 - mse: 248.2728\n",
            "Epoch 431/500\n",
            "2/2 [==============================] - 0s 7ms/step - loss: 10.6153 - mse: 218.3401\n",
            "Epoch 432/500\n",
            "2/2 [==============================] - 0s 9ms/step - loss: 11.4582 - mse: 239.2202\n",
            "Epoch 433/500\n",
            "2/2 [==============================] - 0s 13ms/step - loss: 11.3850 - mse: 296.6790\n",
            "Epoch 434/500\n",
            "2/2 [==============================] - 0s 9ms/step - loss: 30.3986 - mse: 1296.5627\n",
            "Epoch 435/500\n",
            "2/2 [==============================] - 0s 11ms/step - loss: 10.5052 - mse: 283.6821\n",
            "Epoch 436/500\n",
            "2/2 [==============================] - 0s 13ms/step - loss: 28.8810 - mse: 1216.2332\n",
            "Epoch 437/500\n",
            "2/2 [==============================] - 0s 11ms/step - loss: 8.5916 - mse: 209.5437\n",
            "Epoch 438/500\n",
            "2/2 [==============================] - 0s 15ms/step - loss: 12.7378 - mse: 264.4515\n",
            "Epoch 439/500\n",
            "2/2 [==============================] - 0s 8ms/step - loss: 33.6754 - mse: 1570.2356\n",
            "Epoch 440/500\n",
            "2/2 [==============================] - 0s 9ms/step - loss: 15.0962 - mse: 294.7130\n",
            "Epoch 441/500\n",
            "2/2 [==============================] - 0s 10ms/step - loss: 17.4813 - mse: 487.0566\n",
            "Epoch 442/500\n",
            "2/2 [==============================] - 0s 6ms/step - loss: 22.3049 - mse: 750.9297\n",
            "Epoch 443/500\n",
            "2/2 [==============================] - 0s 7ms/step - loss: 23.5842 - mse: 784.1403\n",
            "Epoch 444/500\n",
            "2/2 [==============================] - 0s 6ms/step - loss: 11.0008 - mse: 203.7590\n",
            "Epoch 445/500\n",
            "2/2 [==============================] - 0s 12ms/step - loss: 14.9175 - mse: 316.4785\n",
            "Epoch 446/500\n",
            "2/2 [==============================] - 0s 11ms/step - loss: 17.9979 - mse: 515.1704\n",
            "Epoch 447/500\n",
            "2/2 [==============================] - 0s 9ms/step - loss: 5.4482 - mse: 51.4485\n",
            "Epoch 448/500\n",
            "2/2 [==============================] - 0s 11ms/step - loss: 10.0527 - mse: 253.4833\n",
            "Epoch 449/500\n",
            "2/2 [==============================] - 0s 10ms/step - loss: 14.0052 - mse: 277.3350\n",
            "Epoch 450/500\n",
            "2/2 [==============================] - 0s 9ms/step - loss: 16.7782 - mse: 424.4223\n",
            "Epoch 451/500\n",
            "2/2 [==============================] - 0s 11ms/step - loss: 14.2937 - mse: 303.4474\n",
            "Epoch 452/500\n",
            "2/2 [==============================] - 0s 12ms/step - loss: 30.6192 - mse: 1329.8260\n",
            "Epoch 453/500\n",
            "2/2 [==============================] - 0s 9ms/step - loss: 7.6541 - mse: 159.0381\n",
            "Epoch 454/500\n",
            "2/2 [==============================] - 0s 11ms/step - loss: 28.1428 - mse: 1104.4135\n",
            "Epoch 455/500\n",
            "2/2 [==============================] - 0s 10ms/step - loss: 8.0017 - mse: 119.3277\n",
            "Epoch 456/500\n",
            "2/2 [==============================] - 0s 7ms/step - loss: 10.3933 - mse: 289.6396\n",
            "Epoch 457/500\n",
            "2/2 [==============================] - 0s 7ms/step - loss: 15.0242 - mse: 318.3531\n",
            "Epoch 458/500\n",
            "2/2 [==============================] - 0s 15ms/step - loss: 16.5653 - mse: 439.8002\n",
            "Epoch 459/500\n",
            "2/2 [==============================] - 0s 10ms/step - loss: 26.8566 - mse: 1033.5480\n",
            "Epoch 460/500\n",
            "2/2 [==============================] - 0s 11ms/step - loss: 12.4852 - mse: 251.1167\n",
            "Epoch 461/500\n",
            "2/2 [==============================] - 0s 9ms/step - loss: 12.4784 - mse: 272.9072\n",
            "Epoch 462/500\n",
            "2/2 [==============================] - 0s 9ms/step - loss: 13.3186 - mse: 245.2334\n",
            "Epoch 463/500\n",
            "2/2 [==============================] - 0s 6ms/step - loss: 29.5524 - mse: 1219.8655\n",
            "Epoch 464/500\n",
            "2/2 [==============================] - 0s 6ms/step - loss: 3.4664 - mse: 22.0146\n",
            "Epoch 465/500\n",
            "2/2 [==============================] - 0s 11ms/step - loss: 15.2136 - mse: 352.9365\n",
            "Epoch 466/500\n",
            "2/2 [==============================] - 0s 11ms/step - loss: 20.8327 - mse: 651.1588\n",
            "Epoch 467/500\n",
            "2/2 [==============================] - 0s 12ms/step - loss: 30.5108 - mse: 1421.0039\n",
            "Epoch 468/500\n",
            "2/2 [==============================] - 0s 11ms/step - loss: 11.0598 - mse: 236.2267\n",
            "Epoch 469/500\n",
            "2/2 [==============================] - 0s 10ms/step - loss: 12.8372 - mse: 278.2050\n",
            "Epoch 470/500\n",
            "2/2 [==============================] - 0s 10ms/step - loss: 3.2398 - mse: 14.0654\n",
            "Epoch 471/500\n",
            "2/2 [==============================] - 0s 10ms/step - loss: 16.6964 - mse: 372.9562\n",
            "Epoch 472/500\n",
            "2/2 [==============================] - 0s 12ms/step - loss: 13.3883 - mse: 253.4231\n",
            "Epoch 473/500\n",
            "2/2 [==============================] - 0s 15ms/step - loss: 15.2771 - mse: 396.6104\n",
            "Epoch 474/500\n",
            "2/2 [==============================] - 0s 8ms/step - loss: 11.7448 - mse: 305.3253\n",
            "Epoch 475/500\n",
            "2/2 [==============================] - 0s 6ms/step - loss: 16.4113 - mse: 397.1608\n",
            "Epoch 476/500\n",
            "2/2 [==============================] - 0s 12ms/step - loss: 13.8785 - mse: 273.7974\n",
            "Epoch 477/500\n",
            "2/2 [==============================] - 0s 13ms/step - loss: 30.6702 - mse: 1309.4620\n",
            "Epoch 478/500\n",
            "2/2 [==============================] - 0s 9ms/step - loss: 8.5880 - mse: 188.9074\n",
            "Epoch 479/500\n",
            "2/2 [==============================] - 0s 10ms/step - loss: 10.7384 - mse: 261.5205\n",
            "Epoch 480/500\n",
            "2/2 [==============================] - 0s 11ms/step - loss: 17.9051 - mse: 484.4151\n",
            "Epoch 481/500\n",
            "2/2 [==============================] - 0s 10ms/step - loss: 15.8094 - mse: 368.1042\n",
            "Epoch 482/500\n",
            "2/2 [==============================] - 0s 15ms/step - loss: 21.3054 - mse: 698.1631\n",
            "Epoch 483/500\n",
            "2/2 [==============================] - 0s 11ms/step - loss: 25.3845 - mse: 955.1260\n",
            "Epoch 484/500\n",
            "2/2 [==============================] - 0s 9ms/step - loss: 23.9815 - mse: 811.2790\n",
            "Epoch 485/500\n",
            "2/2 [==============================] - 0s 13ms/step - loss: 5.7734 - mse: 53.7612\n",
            "Epoch 486/500\n",
            "2/2 [==============================] - 0s 15ms/step - loss: 20.0010 - mse: 565.2883\n",
            "Epoch 487/500\n",
            "2/2 [==============================] - 0s 11ms/step - loss: 14.0419 - mse: 286.2684\n",
            "Epoch 488/500\n",
            "2/2 [==============================] - 0s 11ms/step - loss: 30.6088 - mse: 1334.5725\n",
            "Epoch 489/500\n",
            "2/2 [==============================] - 0s 11ms/step - loss: 11.9409 - mse: 237.4729\n",
            "Epoch 490/500\n",
            "2/2 [==============================] - 0s 11ms/step - loss: 12.7352 - mse: 252.5675\n",
            "Epoch 491/500\n",
            "2/2 [==============================] - 0s 7ms/step - loss: 23.6139 - mse: 837.7733\n",
            "Epoch 492/500\n",
            "2/2 [==============================] - 0s 11ms/step - loss: 20.5365 - mse: 592.2189\n",
            "Epoch 493/500\n",
            "2/2 [==============================] - 0s 14ms/step - loss: 4.9942 - mse: 48.0281\n",
            "Epoch 494/500\n",
            "2/2 [==============================] - 0s 7ms/step - loss: 12.7987 - mse: 247.7648\n",
            "Epoch 495/500\n",
            "2/2 [==============================] - 0s 8ms/step - loss: 13.3772 - mse: 239.0900\n",
            "Epoch 496/500\n",
            "2/2 [==============================] - 0s 9ms/step - loss: 12.6727 - mse: 241.5637\n",
            "Epoch 497/500\n",
            "2/2 [==============================] - 0s 9ms/step - loss: 17.6192 - mse: 515.3857\n",
            "Epoch 498/500\n",
            "2/2 [==============================] - 0s 11ms/step - loss: 23.5629 - mse: 816.5508\n",
            "Epoch 499/500\n",
            "2/2 [==============================] - 0s 13ms/step - loss: 9.3755 - mse: 136.1009\n",
            "Epoch 500/500\n",
            "2/2 [==============================] - 0s 11ms/step - loss: 14.6316 - mse: 295.2643\n"
          ]
        },
        {
          "output_type": "execute_result",
          "data": {
            "text/plain": [
              "<keras.callbacks.History at 0x7f3c7dc71fd0>"
            ]
          },
          "metadata": {},
          "execution_count": 138
        }
      ]
    },
    {
      "cell_type": "code",
      "source": [
        "y_preds_3 = model_3.predict(X_test)\n",
        "y_preds_3"
      ],
      "metadata": {
        "colab": {
          "base_uri": "https://localhost:8080/"
        },
        "id": "lRHCpy0_hVB3",
        "outputId": "31b62370-dc05-4861-a504-058fbdf8243b"
      },
      "execution_count": null,
      "outputs": [
        {
          "output_type": "execute_result",
          "data": {
            "text/plain": [
              "array([[15.854744],\n",
              "       [16.61733 ],\n",
              "       [17.37992 ],\n",
              "       [18.142506],\n",
              "       [18.905094],\n",
              "       [19.66768 ],\n",
              "       [20.430267],\n",
              "       [21.192856],\n",
              "       [21.955444],\n",
              "       [22.71803 ]], dtype=float32)"
            ]
          },
          "metadata": {},
          "execution_count": 139
        }
      ]
    },
    {
      "cell_type": "code",
      "source": [
        "plot_predictions(predictions=y_preds_3)"
      ],
      "metadata": {
        "colab": {
          "base_uri": "https://localhost:8080/",
          "height": 428
        },
        "id": "nMvZIOxphi9_",
        "outputId": "af17afd6-4d0c-49dd-f526-1d9c1b5e290f"
      },
      "execution_count": null,
      "outputs": [
        {
          "output_type": "display_data",
          "data": {
            "image/png": "[encoded data removed]",
            "text/plain": [
              "<Figure size 720x504 with 1 Axes>"
            ]
          },
          "metadata": {
            "needs_background": "light"
          }
        }
      ]
    },
    {
      "cell_type": "code",
      "source": [
        "mae_3 = mae(y_test, y_preds_3)\n",
        "mse_3 = mse(y_test, y_preds_3)\n",
        "mae_3, mse_3"
      ],
      "metadata": {
        "colab": {
          "base_uri": "https://localhost:8080/"
        },
        "id": "PUyG6h-xhomx",
        "outputId": "e75b5287-853f-4ac7-d78a-7612f582a883"
      },
      "execution_count": null,
      "outputs": [
        {
          "output_type": "execute_result",
          "data": {
            "text/plain": [
              "(<tf.Tensor: shape=(), dtype=float32, numpy=68.71361>,\n",
              " <tf.Tensor: shape=(), dtype=float32, numpy=4808.0273>)"
            ]
          },
          "metadata": {},
          "execution_count": 141
        }
      ]
    },
    {
      "cell_type": "code",
      "source": [
        "import pandas as pd\n",
        "\n",
        "model_results = [['model_1', mae_1.numpy(), mse_1.numpy()],\n",
        "                 ['model_2', mae_2.numpy(), mse_2.numpy()],\n",
        "                 ['model_3', mae_3.numpy(), mse_3.numpy()]]\n",
        "\n",
        "\n",
        "all_results = pd.DataFrame(model_results, columns=['Model', 'MAE', \"MSE\"], index=None)\n",
        "all_results"
      ],
      "metadata": {
        "colab": {
          "base_uri": "https://localhost:8080/",
          "height": 143
        },
        "id": "8MAXk1OLldWW",
        "outputId": "2c481b61-cb6d-46fe-b250-10657553fff1"
      },
      "execution_count": null,
      "outputs": [
        {
          "output_type": "execute_result",
          "data": {
            "text/html": [
              "<div>\n",
              "<style scoped>\n",
              "    .dataframe tbody tr th:only-of-type {\n",
              "        vertical-align: middle;\n",
              "    }\n",
              "\n",
              "    .dataframe tbody tr th {\n",
              "        vertical-align: top;\n",
              "    }\n",
              "\n",
              "    .dataframe thead th {\n",
              "        text-align: right;\n",
              "    }\n",
              "</style>\n",
              "<table border=\"1\" class=\"dataframe\">\n",
              "  <thead>\n",
              "    <tr style=\"text-align: right;\">\n",
              "      <th></th>\n",
              "      <th>Model</th>\n",
              "      <th>MAE</th>\n",
              "      <th>MSE</th>\n",
              "    </tr>\n",
              "  </thead>\n",
              "  <tbody>\n",
              "    <tr>\n",
              "      <th>0</th>\n",
              "      <td>model_1</td>\n",
              "      <td>18.745327</td>\n",
              "      <td>353.573395</td>\n",
              "    </tr>\n",
              "    <tr>\n",
              "      <th>1</th>\n",
              "      <td>model_2</td>\n",
              "      <td>3.196973</td>\n",
              "      <td>13.070361</td>\n",
              "    </tr>\n",
              "    <tr>\n",
              "      <th>2</th>\n",
              "      <td>model_3</td>\n",
              "      <td>68.713608</td>\n",
              "      <td>4808.027344</td>\n",
              "    </tr>\n",
              "  </tbody>\n",
              "</table>\n",
              "</div>"
            ],
            "text/plain": [
              "     Model        MAE          MSE\n",
              "0  model_1  18.745327   353.573395\n",
              "1  model_2   3.196973    13.070361\n",
              "2  model_3  68.713608  4808.027344"
            ]
          },
          "metadata": {},
          "execution_count": 142
        }
      ]
    },
    {
      "cell_type": "code",
      "source": [
        "model_2.summary()"
      ],
      "metadata": {
        "colab": {
          "base_uri": "https://localhost:8080/"
        },
        "id": "32KXT-vdnQGv",
        "outputId": "ce97307c-1efd-44bf-bcf0-32ecd849ad3a"
      },
      "execution_count": null,
      "outputs": [
        {
          "output_type": "stream",
          "name": "stdout",
          "text": [
            "Model: \"sequential_17\"\n",
            "_________________________________________________________________\n",
            " Layer (type)                Output Shape              Param #   \n",
            "=================================================================\n",
            " dense_29 (Dense)            (None, 10)                20        \n",
            "                                                                 \n",
            " dense_30 (Dense)            (None, 1)                 11        \n",
            "                                                                 \n",
            "=================================================================\n",
            "Total params: 31\n",
            "Trainable params: 31\n",
            "Non-trainable params: 0\n",
            "_________________________________________________________________\n"
          ]
        }
      ]
    },
    {
      "cell_type": "code",
      "source": [
        "model_2.save('FirstTfModel')"
      ],
      "metadata": {
        "id": "fUMCRghbpJ-T",
        "colab": {
          "base_uri": "https://localhost:8080/"
        },
        "outputId": "eec44a8f-d5b5-43d0-a030-6936605fd768"
      },
      "execution_count": null,
      "outputs": [
        {
          "output_type": "stream",
          "name": "stdout",
          "text": [
            "INFO:tensorflow:Assets written to: FirstTfModel/assets\n"
          ]
        }
      ]
    },
    {
      "cell_type": "code",
      "source": [
        "model_2.save('FirstTfModelInHDFFormat.h5')"
      ],
      "metadata": {
        "id": "TPfNrIlEhqqF"
      },
      "execution_count": null,
      "outputs": []
    },
    {
      "cell_type": "code",
      "source": [
        "best_saved_model = tf.keras.models.load_model('/content/FirstTfModel')"
      ],
      "metadata": {
        "id": "edDIhWiYkWds"
      },
      "execution_count": null,
      "outputs": []
    },
    {
      "cell_type": "code",
      "source": [
        "best_saved_model.predict([45])"
      ],
      "metadata": {
        "colab": {
          "base_uri": "https://localhost:8080/"
        },
        "id": "dSWvOgL7lmUO",
        "outputId": "927bca62-5aee-4439-95e1-79cc691f153d"
      },
      "execution_count": null,
      "outputs": [
        {
          "output_type": "execute_result",
          "data": {
            "text/plain": [
              "array([[53.348248]], dtype=float32)"
            ]
          },
          "metadata": {},
          "execution_count": 147
        }
      ]
    },
    {
      "cell_type": "code",
      "source": [
        "saved_model_prediction = best_saved_model.predict(X_test)\n",
        "plot_predictions(predictions=saved_model_prediction)"
      ],
      "metadata": {
        "colab": {
          "base_uri": "https://localhost:8080/",
          "height": 428
        },
        "id": "lNnPmux7ltCd",
        "outputId": "5aa8ec96-874d-43b7-dc06-b5239c7656f9"
      },
      "execution_count": null,
      "outputs": [
        {
          "output_type": "display_data",
          "data": {
            "image/png": "[encoded data removed]",
            "text/plain": [
              "<Figure size 720x504 with 1 Axes>"
            ]
          },
          "metadata": {
            "needs_background": "light"
          }
        }
      ]
    },
    {
      "cell_type": "code",
      "source": [
        "saved_model_prediction"
      ],
      "metadata": {
        "colab": {
          "base_uri": "https://localhost:8080/"
        },
        "id": "LXPVXXBGl9Id",
        "outputId": "1657a289-50e6-4241-a2f2-ee18de0c4ea1"
      },
      "execution_count": null,
      "outputs": [
        {
          "output_type": "execute_result",
          "data": {
            "text/plain": [
              "array([[ 70.552216],\n",
              "       [ 75.13993 ],\n",
              "       [ 79.72766 ],\n",
              "       [ 84.315384],\n",
              "       [ 88.90311 ],\n",
              "       [ 93.49084 ],\n",
              "       [ 98.07856 ],\n",
              "       [102.66629 ],\n",
              "       [107.25402 ],\n",
              "       [111.84173 ]], dtype=float32)"
            ]
          },
          "metadata": {},
          "execution_count": 149
        }
      ]
    },
    {
      "cell_type": "code",
      "source": [
        "y_preds_2 = model_2.predict(X_test)\n",
        "y_preds_2"
      ],
      "metadata": {
        "colab": {
          "base_uri": "https://localhost:8080/"
        },
        "id": "9ZRkvOREnO7b",
        "outputId": "baf1412d-9c8b-49a5-9df3-e3fb1ff48d56"
      },
      "execution_count": null,
      "outputs": [
        {
          "output_type": "execute_result",
          "data": {
            "text/plain": [
              "array([[ 70.552216],\n",
              "       [ 75.13993 ],\n",
              "       [ 79.72766 ],\n",
              "       [ 84.315384],\n",
              "       [ 88.90311 ],\n",
              "       [ 93.49084 ],\n",
              "       [ 98.07856 ],\n",
              "       [102.66629 ],\n",
              "       [107.25402 ],\n",
              "       [111.84173 ]], dtype=float32)"
            ]
          },
          "metadata": {},
          "execution_count": 150
        }
      ]
    },
    {
      "cell_type": "code",
      "source": [
        "saved_model_prediction == y_preds_2"
      ],
      "metadata": {
        "colab": {
          "base_uri": "https://localhost:8080/"
        },
        "id": "SECcoZqKnYXJ",
        "outputId": "f82c802f-5b3f-4125-df39-d8d68d3d41e6"
      },
      "execution_count": null,
      "outputs": [
        {
          "output_type": "execute_result",
          "data": {
            "text/plain": [
              "array([[ True],\n",
              "       [ True],\n",
              "       [ True],\n",
              "       [ True],\n",
              "       [ True],\n",
              "       [ True],\n",
              "       [ True],\n",
              "       [ True],\n",
              "       [ True],\n",
              "       [ True]])"
            ]
          },
          "metadata": {},
          "execution_count": 151
        }
      ]
    },
    {
      "cell_type": "code",
      "source": [
        "mae(y_test, saved_model_prediction)\n"
      ],
      "metadata": {
        "colab": {
          "base_uri": "https://localhost:8080/"
        },
        "id": "o9PjWtYDngJx",
        "outputId": "3ba8c0cf-4d13-4caf-c16e-0a1bc05fb4b2"
      },
      "execution_count": null,
      "outputs": [
        {
          "output_type": "execute_result",
          "data": {
            "text/plain": [
              "<tf.Tensor: shape=(), dtype=float32, numpy=3.1969733>"
            ]
          },
          "metadata": {},
          "execution_count": 152
        }
      ]
    },
    {
      "cell_type": "code",
      "source": [
        "mae(y_test, y_preds_2)"
      ],
      "metadata": {
        "colab": {
          "base_uri": "https://localhost:8080/"
        },
        "id": "OrEuU-nrpK4o",
        "outputId": "cbe81c48-ed02-4ba5-c7f9-54ad810210e6"
      },
      "execution_count": null,
      "outputs": [
        {
          "output_type": "execute_result",
          "data": {
            "text/plain": [
              "<tf.Tensor: shape=(), dtype=float32, numpy=3.1969733>"
            ]
          },
          "metadata": {},
          "execution_count": 153
        }
      ]
    },
    {
      "cell_type": "code",
      "source": [
        "loaded_h5_model = tf.keras.models.load_model('/content/FirstTfModelInHDFFormat.h5')"
      ],
      "metadata": {
        "id": "pFWMQi43pRk4"
      },
      "execution_count": null,
      "outputs": []
    },
    {
      "cell_type": "code",
      "source": [
        "import tensorflow as tf\n",
        "import pandas as pd\n",
        "import matplotlib.pyplot as plt\n"
      ],
      "metadata": {
        "id": "Vs6L1gvzqDfL"
      },
      "execution_count": null,
      "outputs": []
    },
    {
      "cell_type": "code",
      "source": [
        "insurance = pd.read_csv('https://raw.githubusercontent.com/stedy/Machine-Learning-with-R-datasets/master/insurance.csv')\n",
        "insurance"
      ],
      "metadata": {
        "colab": {
          "base_uri": "https://localhost:8080/",
          "height": 424
        },
        "id": "BzZrHd-yQ_n3",
        "outputId": "48473807-dec0-432c-d695-e7f787be7aac"
      },
      "execution_count": null,
      "outputs": [
        {
          "output_type": "execute_result",
          "data": {
            "text/html": [
              "<div>\n",
              "<style scoped>\n",
              "    .dataframe tbody tr th:only-of-type {\n",
              "        vertical-align: middle;\n",
              "    }\n",
              "\n",
              "    .dataframe tbody tr th {\n",
              "        vertical-align: top;\n",
              "    }\n",
              "\n",
              "    .dataframe thead th {\n",
              "        text-align: right;\n",
              "    }\n",
              "</style>\n",
              "<table border=\"1\" class=\"dataframe\">\n",
              "  <thead>\n",
              "    <tr style=\"text-align: right;\">\n",
              "      <th></th>\n",
              "      <th>age</th>\n",
              "      <th>sex</th>\n",
              "      <th>bmi</th>\n",
              "      <th>children</th>\n",
              "      <th>smoker</th>\n",
              "      <th>region</th>\n",
              "      <th>charges</th>\n",
              "    </tr>\n",
              "  </thead>\n",
              "  <tbody>\n",
              "    <tr>\n",
              "      <th>0</th>\n",
              "      <td>19</td>\n",
              "      <td>female</td>\n",
              "      <td>27.900</td>\n",
              "      <td>0</td>\n",
              "      <td>yes</td>\n",
              "      <td>southwest</td>\n",
              "      <td>16884.92400</td>\n",
              "    </tr>\n",
              "    <tr>\n",
              "      <th>1</th>\n",
              "      <td>18</td>\n",
              "      <td>male</td>\n",
              "      <td>33.770</td>\n",
              "      <td>1</td>\n",
              "      <td>no</td>\n",
              "      <td>southeast</td>\n",
              "      <td>1725.55230</td>\n",
              "    </tr>\n",
              "    <tr>\n",
              "      <th>2</th>\n",
              "      <td>28</td>\n",
              "      <td>male</td>\n",
              "      <td>33.000</td>\n",
              "      <td>3</td>\n",
              "      <td>no</td>\n",
              "      <td>southeast</td>\n",
              "      <td>4449.46200</td>\n",
              "    </tr>\n",
              "    <tr>\n",
              "      <th>3</th>\n",
              "      <td>33</td>\n",
              "      <td>male</td>\n",
              "      <td>22.705</td>\n",
              "      <td>0</td>\n",
              "      <td>no</td>\n",
              "      <td>northwest</td>\n",
              "      <td>21984.47061</td>\n",
              "    </tr>\n",
              "    <tr>\n",
              "      <th>4</th>\n",
              "      <td>32</td>\n",
              "      <td>male</td>\n",
              "      <td>28.880</td>\n",
              "      <td>0</td>\n",
              "      <td>no</td>\n",
              "      <td>northwest</td>\n",
              "      <td>3866.85520</td>\n",
              "    </tr>\n",
              "    <tr>\n",
              "      <th>...</th>\n",
              "      <td>...</td>\n",
              "      <td>...</td>\n",
              "      <td>...</td>\n",
              "      <td>...</td>\n",
              "      <td>...</td>\n",
              "      <td>...</td>\n",
              "      <td>...</td>\n",
              "    </tr>\n",
              "    <tr>\n",
              "      <th>1333</th>\n",
              "      <td>50</td>\n",
              "      <td>male</td>\n",
              "      <td>30.970</td>\n",
              "      <td>3</td>\n",
              "      <td>no</td>\n",
              "      <td>northwest</td>\n",
              "      <td>10600.54830</td>\n",
              "    </tr>\n",
              "    <tr>\n",
              "      <th>1334</th>\n",
              "      <td>18</td>\n",
              "      <td>female</td>\n",
              "      <td>31.920</td>\n",
              "      <td>0</td>\n",
              "      <td>no</td>\n",
              "      <td>northeast</td>\n",
              "      <td>2205.98080</td>\n",
              "    </tr>\n",
              "    <tr>\n",
              "      <th>1335</th>\n",
              "      <td>18</td>\n",
              "      <td>female</td>\n",
              "      <td>36.850</td>\n",
              "      <td>0</td>\n",
              "      <td>no</td>\n",
              "      <td>southeast</td>\n",
              "      <td>1629.83350</td>\n",
              "    </tr>\n",
              "    <tr>\n",
              "      <th>1336</th>\n",
              "      <td>21</td>\n",
              "      <td>female</td>\n",
              "      <td>25.800</td>\n",
              "      <td>0</td>\n",
              "      <td>no</td>\n",
              "      <td>southwest</td>\n",
              "      <td>2007.94500</td>\n",
              "    </tr>\n",
              "    <tr>\n",
              "      <th>1337</th>\n",
              "      <td>61</td>\n",
              "      <td>female</td>\n",
              "      <td>29.070</td>\n",
              "      <td>0</td>\n",
              "      <td>yes</td>\n",
              "      <td>northwest</td>\n",
              "      <td>29141.36030</td>\n",
              "    </tr>\n",
              "  </tbody>\n",
              "</table>\n",
              "<p>1338 rows × 7 columns</p>\n",
              "</div>"
            ],
            "text/plain": [
              "      age     sex     bmi  children smoker     region      charges\n",
              "0      19  female  27.900         0    yes  southwest  16884.92400\n",
              "1      18    male  33.770         1     no  southeast   1725.55230\n",
              "2      28    male  33.000         3     no  southeast   4449.46200\n",
              "3      33    male  22.705         0     no  northwest  21984.47061\n",
              "4      32    male  28.880         0     no  northwest   3866.85520\n",
              "...   ...     ...     ...       ...    ...        ...          ...\n",
              "1333   50    male  30.970         3     no  northwest  10600.54830\n",
              "1334   18  female  31.920         0     no  northeast   2205.98080\n",
              "1335   18  female  36.850         0     no  southeast   1629.83350\n",
              "1336   21  female  25.800         0     no  southwest   2007.94500\n",
              "1337   61  female  29.070         0    yes  northwest  29141.36030\n",
              "\n",
              "[1338 rows x 7 columns]"
            ]
          },
          "metadata": {},
          "execution_count": 156
        }
      ]
    },
    {
      "cell_type": "code",
      "source": [
        "insurance_one_hot = pd.get_dummies(insurance)\n",
        "insurance_one_hot.head()"
      ],
      "metadata": {
        "colab": {
          "base_uri": "https://localhost:8080/",
          "height": 206
        },
        "id": "o15tng80RF4J",
        "outputId": "085f6d06-4da6-4c44-b2a9-b1f42094c1d4"
      },
      "execution_count": null,
      "outputs": [
        {
          "output_type": "execute_result",
          "data": {
            "text/html": [
              "<div>\n",
              "<style scoped>\n",
              "    .dataframe tbody tr th:only-of-type {\n",
              "        vertical-align: middle;\n",
              "    }\n",
              "\n",
              "    .dataframe tbody tr th {\n",
              "        vertical-align: top;\n",
              "    }\n",
              "\n",
              "    .dataframe thead th {\n",
              "        text-align: right;\n",
              "    }\n",
              "</style>\n",
              "<table border=\"1\" class=\"dataframe\">\n",
              "  <thead>\n",
              "    <tr style=\"text-align: right;\">\n",
              "      <th></th>\n",
              "      <th>age</th>\n",
              "      <th>bmi</th>\n",
              "      <th>children</th>\n",
              "      <th>charges</th>\n",
              "      <th>sex_female</th>\n",
              "      <th>sex_male</th>\n",
              "      <th>smoker_no</th>\n",
              "      <th>smoker_yes</th>\n",
              "      <th>region_northeast</th>\n",
              "      <th>region_northwest</th>\n",
              "      <th>region_southeast</th>\n",
              "      <th>region_southwest</th>\n",
              "    </tr>\n",
              "  </thead>\n",
              "  <tbody>\n",
              "    <tr>\n",
              "      <th>0</th>\n",
              "      <td>19</td>\n",
              "      <td>27.900</td>\n",
              "      <td>0</td>\n",
              "      <td>16884.92400</td>\n",
              "      <td>1</td>\n",
              "      <td>0</td>\n",
              "      <td>0</td>\n",
              "      <td>1</td>\n",
              "      <td>0</td>\n",
              "      <td>0</td>\n",
              "      <td>0</td>\n",
              "      <td>1</td>\n",
              "    </tr>\n",
              "    <tr>\n",
              "      <th>1</th>\n",
              "      <td>18</td>\n",
              "      <td>33.770</td>\n",
              "      <td>1</td>\n",
              "      <td>1725.55230</td>\n",
              "      <td>0</td>\n",
              "      <td>1</td>\n",
              "      <td>1</td>\n",
              "      <td>0</td>\n",
              "      <td>0</td>\n",
              "      <td>0</td>\n",
              "      <td>1</td>\n",
              "      <td>0</td>\n",
              "    </tr>\n",
              "    <tr>\n",
              "      <th>2</th>\n",
              "      <td>28</td>\n",
              "      <td>33.000</td>\n",
              "      <td>3</td>\n",
              "      <td>4449.46200</td>\n",
              "      <td>0</td>\n",
              "      <td>1</td>\n",
              "      <td>1</td>\n",
              "      <td>0</td>\n",
              "      <td>0</td>\n",
              "      <td>0</td>\n",
              "      <td>1</td>\n",
              "      <td>0</td>\n",
              "    </tr>\n",
              "    <tr>\n",
              "      <th>3</th>\n",
              "      <td>33</td>\n",
              "      <td>22.705</td>\n",
              "      <td>0</td>\n",
              "      <td>21984.47061</td>\n",
              "      <td>0</td>\n",
              "      <td>1</td>\n",
              "      <td>1</td>\n",
              "      <td>0</td>\n",
              "      <td>0</td>\n",
              "      <td>1</td>\n",
              "      <td>0</td>\n",
              "      <td>0</td>\n",
              "    </tr>\n",
              "    <tr>\n",
              "      <th>4</th>\n",
              "      <td>32</td>\n",
              "      <td>28.880</td>\n",
              "      <td>0</td>\n",
              "      <td>3866.85520</td>\n",
              "      <td>0</td>\n",
              "      <td>1</td>\n",
              "      <td>1</td>\n",
              "      <td>0</td>\n",
              "      <td>0</td>\n",
              "      <td>1</td>\n",
              "      <td>0</td>\n",
              "      <td>0</td>\n",
              "    </tr>\n",
              "  </tbody>\n",
              "</table>\n",
              "</div>"
            ],
            "text/plain": [
              "   age     bmi  children  ...  region_northwest  region_southeast  region_southwest\n",
              "0   19  27.900         0  ...                 0                 0                 1\n",
              "1   18  33.770         1  ...                 0                 1                 0\n",
              "2   28  33.000         3  ...                 0                 1                 0\n",
              "3   33  22.705         0  ...                 1                 0                 0\n",
              "4   32  28.880         0  ...                 1                 0                 0\n",
              "\n",
              "[5 rows x 12 columns]"
            ]
          },
          "metadata": {},
          "execution_count": 157
        }
      ]
    },
    {
      "cell_type": "code",
      "source": [
        "X = insurance_one_hot.drop(labels= 'charges', axis = 1)\n",
        "X"
      ],
      "metadata": {
        "colab": {
          "base_uri": "https://localhost:8080/",
          "height": 424
        },
        "id": "RvDQNGglXBqG",
        "outputId": "b277cedc-e3f3-4525-e0d5-910a35c46493"
      },
      "execution_count": null,
      "outputs": [
        {
          "output_type": "execute_result",
          "data": {
            "text/html": [
              "<div>\n",
              "<style scoped>\n",
              "    .dataframe tbody tr th:only-of-type {\n",
              "        vertical-align: middle;\n",
              "    }\n",
              "\n",
              "    .dataframe tbody tr th {\n",
              "        vertical-align: top;\n",
              "    }\n",
              "\n",
              "    .dataframe thead th {\n",
              "        text-align: right;\n",
              "    }\n",
              "</style>\n",
              "<table border=\"1\" class=\"dataframe\">\n",
              "  <thead>\n",
              "    <tr style=\"text-align: right;\">\n",
              "      <th></th>\n",
              "      <th>age</th>\n",
              "      <th>bmi</th>\n",
              "      <th>children</th>\n",
              "      <th>sex_female</th>\n",
              "      <th>sex_male</th>\n",
              "      <th>smoker_no</th>\n",
              "      <th>smoker_yes</th>\n",
              "      <th>region_northeast</th>\n",
              "      <th>region_northwest</th>\n",
              "      <th>region_southeast</th>\n",
              "      <th>region_southwest</th>\n",
              "    </tr>\n",
              "  </thead>\n",
              "  <tbody>\n",
              "    <tr>\n",
              "      <th>0</th>\n",
              "      <td>19</td>\n",
              "      <td>27.900</td>\n",
              "      <td>0</td>\n",
              "      <td>1</td>\n",
              "      <td>0</td>\n",
              "      <td>0</td>\n",
              "      <td>1</td>\n",
              "      <td>0</td>\n",
              "      <td>0</td>\n",
              "      <td>0</td>\n",
              "      <td>1</td>\n",
              "    </tr>\n",
              "    <tr>\n",
              "      <th>1</th>\n",
              "      <td>18</td>\n",
              "      <td>33.770</td>\n",
              "      <td>1</td>\n",
              "      <td>0</td>\n",
              "      <td>1</td>\n",
              "      <td>1</td>\n",
              "      <td>0</td>\n",
              "      <td>0</td>\n",
              "      <td>0</td>\n",
              "      <td>1</td>\n",
              "      <td>0</td>\n",
              "    </tr>\n",
              "    <tr>\n",
              "      <th>2</th>\n",
              "      <td>28</td>\n",
              "      <td>33.000</td>\n",
              "      <td>3</td>\n",
              "      <td>0</td>\n",
              "      <td>1</td>\n",
              "      <td>1</td>\n",
              "      <td>0</td>\n",
              "      <td>0</td>\n",
              "      <td>0</td>\n",
              "      <td>1</td>\n",
              "      <td>0</td>\n",
              "    </tr>\n",
              "    <tr>\n",
              "      <th>3</th>\n",
              "      <td>33</td>\n",
              "      <td>22.705</td>\n",
              "      <td>0</td>\n",
              "      <td>0</td>\n",
              "      <td>1</td>\n",
              "      <td>1</td>\n",
              "      <td>0</td>\n",
              "      <td>0</td>\n",
              "      <td>1</td>\n",
              "      <td>0</td>\n",
              "      <td>0</td>\n",
              "    </tr>\n",
              "    <tr>\n",
              "      <th>4</th>\n",
              "      <td>32</td>\n",
              "      <td>28.880</td>\n",
              "      <td>0</td>\n",
              "      <td>0</td>\n",
              "      <td>1</td>\n",
              "      <td>1</td>\n",
              "      <td>0</td>\n",
              "      <td>0</td>\n",
              "      <td>1</td>\n",
              "      <td>0</td>\n",
              "      <td>0</td>\n",
              "    </tr>\n",
              "    <tr>\n",
              "      <th>...</th>\n",
              "      <td>...</td>\n",
              "      <td>...</td>\n",
              "      <td>...</td>\n",
              "      <td>...</td>\n",
              "      <td>...</td>\n",
              "      <td>...</td>\n",
              "      <td>...</td>\n",
              "      <td>...</td>\n",
              "      <td>...</td>\n",
              "      <td>...</td>\n",
              "      <td>...</td>\n",
              "    </tr>\n",
              "    <tr>\n",
              "      <th>1333</th>\n",
              "      <td>50</td>\n",
              "      <td>30.970</td>\n",
              "      <td>3</td>\n",
              "      <td>0</td>\n",
              "      <td>1</td>\n",
              "      <td>1</td>\n",
              "      <td>0</td>\n",
              "      <td>0</td>\n",
              "      <td>1</td>\n",
              "      <td>0</td>\n",
              "      <td>0</td>\n",
              "    </tr>\n",
              "    <tr>\n",
              "      <th>1334</th>\n",
              "      <td>18</td>\n",
              "      <td>31.920</td>\n",
              "      <td>0</td>\n",
              "      <td>1</td>\n",
              "      <td>0</td>\n",
              "      <td>1</td>\n",
              "      <td>0</td>\n",
              "      <td>1</td>\n",
              "      <td>0</td>\n",
              "      <td>0</td>\n",
              "      <td>0</td>\n",
              "    </tr>\n",
              "    <tr>\n",
              "      <th>1335</th>\n",
              "      <td>18</td>\n",
              "      <td>36.850</td>\n",
              "      <td>0</td>\n",
              "      <td>1</td>\n",
              "      <td>0</td>\n",
              "      <td>1</td>\n",
              "      <td>0</td>\n",
              "      <td>0</td>\n",
              "      <td>0</td>\n",
              "      <td>1</td>\n",
              "      <td>0</td>\n",
              "    </tr>\n",
              "    <tr>\n",
              "      <th>1336</th>\n",
              "      <td>21</td>\n",
              "      <td>25.800</td>\n",
              "      <td>0</td>\n",
              "      <td>1</td>\n",
              "      <td>0</td>\n",
              "      <td>1</td>\n",
              "      <td>0</td>\n",
              "      <td>0</td>\n",
              "      <td>0</td>\n",
              "      <td>0</td>\n",
              "      <td>1</td>\n",
              "    </tr>\n",
              "    <tr>\n",
              "      <th>1337</th>\n",
              "      <td>61</td>\n",
              "      <td>29.070</td>\n",
              "      <td>0</td>\n",
              "      <td>1</td>\n",
              "      <td>0</td>\n",
              "      <td>0</td>\n",
              "      <td>1</td>\n",
              "      <td>0</td>\n",
              "      <td>1</td>\n",
              "      <td>0</td>\n",
              "      <td>0</td>\n",
              "    </tr>\n",
              "  </tbody>\n",
              "</table>\n",
              "<p>1338 rows × 11 columns</p>\n",
              "</div>"
            ],
            "text/plain": [
              "      age     bmi  ...  region_southeast  region_southwest\n",
              "0      19  27.900  ...                 0                 1\n",
              "1      18  33.770  ...                 1                 0\n",
              "2      28  33.000  ...                 1                 0\n",
              "3      33  22.705  ...                 0                 0\n",
              "4      32  28.880  ...                 0                 0\n",
              "...   ...     ...  ...               ...               ...\n",
              "1333   50  30.970  ...                 0                 0\n",
              "1334   18  31.920  ...                 0                 0\n",
              "1335   18  36.850  ...                 1                 0\n",
              "1336   21  25.800  ...                 0                 1\n",
              "1337   61  29.070  ...                 0                 0\n",
              "\n",
              "[1338 rows x 11 columns]"
            ]
          },
          "metadata": {},
          "execution_count": 158
        }
      ]
    },
    {
      "cell_type": "code",
      "source": [
        "y = insurance_one_hot['charges']\n",
        "y"
      ],
      "metadata": {
        "colab": {
          "base_uri": "https://localhost:8080/"
        },
        "id": "9zZJU81vYVsf",
        "outputId": "08df3aeb-f3d0-4ad7-f9e2-bdff153495dc"
      },
      "execution_count": null,
      "outputs": [
        {
          "output_type": "execute_result",
          "data": {
            "text/plain": [
              "0       16884.92400\n",
              "1        1725.55230\n",
              "2        4449.46200\n",
              "3       21984.47061\n",
              "4        3866.85520\n",
              "           ...     \n",
              "1333    10600.54830\n",
              "1334     2205.98080\n",
              "1335     1629.83350\n",
              "1336     2007.94500\n",
              "1337    29141.36030\n",
              "Name: charges, Length: 1338, dtype: float64"
            ]
          },
          "metadata": {},
          "execution_count": 159
        }
      ]
    },
    {
      "cell_type": "code",
      "source": [
        "from sklearn.model_selection import train_test_split\n",
        "\n",
        "X_train, X_test, y_train, y_test = train_test_split(X, y, test_size = 0.2, random_state= 42)"
      ],
      "metadata": {
        "id": "BLpLJIlOYuYR"
      },
      "execution_count": null,
      "outputs": []
    },
    {
      "cell_type": "code",
      "source": [
        "X_train.head()"
      ],
      "metadata": {
        "colab": {
          "base_uri": "https://localhost:8080/",
          "height": 206
        },
        "id": "Q-w4-jIXZEz8",
        "outputId": "f98f5739-2d68-4cab-81e9-cee3023c5124"
      },
      "execution_count": null,
      "outputs": [
        {
          "output_type": "execute_result",
          "data": {
            "text/html": [
              "<div>\n",
              "<style scoped>\n",
              "    .dataframe tbody tr th:only-of-type {\n",
              "        vertical-align: middle;\n",
              "    }\n",
              "\n",
              "    .dataframe tbody tr th {\n",
              "        vertical-align: top;\n",
              "    }\n",
              "\n",
              "    .dataframe thead th {\n",
              "        text-align: right;\n",
              "    }\n",
              "</style>\n",
              "<table border=\"1\" class=\"dataframe\">\n",
              "  <thead>\n",
              "    <tr style=\"text-align: right;\">\n",
              "      <th></th>\n",
              "      <th>age</th>\n",
              "      <th>bmi</th>\n",
              "      <th>children</th>\n",
              "      <th>sex_female</th>\n",
              "      <th>sex_male</th>\n",
              "      <th>smoker_no</th>\n",
              "      <th>smoker_yes</th>\n",
              "      <th>region_northeast</th>\n",
              "      <th>region_northwest</th>\n",
              "      <th>region_southeast</th>\n",
              "      <th>region_southwest</th>\n",
              "    </tr>\n",
              "  </thead>\n",
              "  <tbody>\n",
              "    <tr>\n",
              "      <th>560</th>\n",
              "      <td>46</td>\n",
              "      <td>19.95</td>\n",
              "      <td>2</td>\n",
              "      <td>1</td>\n",
              "      <td>0</td>\n",
              "      <td>1</td>\n",
              "      <td>0</td>\n",
              "      <td>0</td>\n",
              "      <td>1</td>\n",
              "      <td>0</td>\n",
              "      <td>0</td>\n",
              "    </tr>\n",
              "    <tr>\n",
              "      <th>1285</th>\n",
              "      <td>47</td>\n",
              "      <td>24.32</td>\n",
              "      <td>0</td>\n",
              "      <td>1</td>\n",
              "      <td>0</td>\n",
              "      <td>1</td>\n",
              "      <td>0</td>\n",
              "      <td>1</td>\n",
              "      <td>0</td>\n",
              "      <td>0</td>\n",
              "      <td>0</td>\n",
              "    </tr>\n",
              "    <tr>\n",
              "      <th>1142</th>\n",
              "      <td>52</td>\n",
              "      <td>24.86</td>\n",
              "      <td>0</td>\n",
              "      <td>1</td>\n",
              "      <td>0</td>\n",
              "      <td>1</td>\n",
              "      <td>0</td>\n",
              "      <td>0</td>\n",
              "      <td>0</td>\n",
              "      <td>1</td>\n",
              "      <td>0</td>\n",
              "    </tr>\n",
              "    <tr>\n",
              "      <th>969</th>\n",
              "      <td>39</td>\n",
              "      <td>34.32</td>\n",
              "      <td>5</td>\n",
              "      <td>1</td>\n",
              "      <td>0</td>\n",
              "      <td>1</td>\n",
              "      <td>0</td>\n",
              "      <td>0</td>\n",
              "      <td>0</td>\n",
              "      <td>1</td>\n",
              "      <td>0</td>\n",
              "    </tr>\n",
              "    <tr>\n",
              "      <th>486</th>\n",
              "      <td>54</td>\n",
              "      <td>21.47</td>\n",
              "      <td>3</td>\n",
              "      <td>1</td>\n",
              "      <td>0</td>\n",
              "      <td>1</td>\n",
              "      <td>0</td>\n",
              "      <td>0</td>\n",
              "      <td>1</td>\n",
              "      <td>0</td>\n",
              "      <td>0</td>\n",
              "    </tr>\n",
              "  </tbody>\n",
              "</table>\n",
              "</div>"
            ],
            "text/plain": [
              "      age    bmi  ...  region_southeast  region_southwest\n",
              "560    46  19.95  ...                 0                 0\n",
              "1285   47  24.32  ...                 0                 0\n",
              "1142   52  24.86  ...                 1                 0\n",
              "969    39  34.32  ...                 1                 0\n",
              "486    54  21.47  ...                 0                 0\n",
              "\n",
              "[5 rows x 11 columns]"
            ]
          },
          "metadata": {},
          "execution_count": 161
        }
      ]
    },
    {
      "cell_type": "code",
      "source": [
        "print(len(insurance_one_hot.columns))"
      ],
      "metadata": {
        "colab": {
          "base_uri": "https://localhost:8080/"
        },
        "id": "18ifczveat4g",
        "outputId": "a6fec3a6-b3b7-4721-9a7c-8d472de761cb"
      },
      "execution_count": null,
      "outputs": [
        {
          "output_type": "stream",
          "name": "stdout",
          "text": [
            "12\n"
          ]
        }
      ]
    },
    {
      "cell_type": "code",
      "source": [
        "tf.random.set_seed(42)\n",
        "\n",
        "callback = tf.keras.callbacks.EarlyStopping(monitor='loss', patience=5)\n",
        "insurance_model = tf.keras.Sequential([\n",
        "  tf.keras.layers.Dense(100),\n",
        "  tf.keras.layers.Dense(36),\n",
        "  tf.keras.layers.Dense(1)\n",
        "])\n",
        "\n",
        "insurance_model.compile(loss = tf.keras.losses.mae,\n",
        "              optimizer = tf.keras.optimizers.Adam(learning_rate=0.01),\n",
        "              metrics = ['mae'])\n",
        "\n",
        "history = insurance_model.fit(X_train, y_train, epochs=200, callbacks=[callback])"
      ],
      "metadata": {
        "colab": {
          "base_uri": "https://localhost:8080/"
        },
        "id": "QSsvtWYnZGrI",
        "outputId": "72cee498-625d-406b-bf9e-f5bb04f6fd17"
      },
      "execution_count": null,
      "outputs": [
        {
          "output_type": "stream",
          "name": "stdout",
          "text": [
            "Epoch 1/200\n",
            "34/34 [==============================] - 1s 4ms/step - loss: 10398.1338 - mae: 10398.1338\n",
            "Epoch 2/200\n",
            "34/34 [==============================] - 0s 4ms/step - loss: 7398.1592 - mae: 7398.1592\n",
            "Epoch 3/200\n",
            "34/34 [==============================] - 0s 4ms/step - loss: 7076.5234 - mae: 7076.5234\n",
            "Epoch 4/200\n",
            "34/34 [==============================] - 0s 4ms/step - loss: 6727.9243 - mae: 6727.9243\n",
            "Epoch 5/200\n",
            "34/34 [==============================] - 0s 4ms/step - loss: 6440.2046 - mae: 6440.2046\n",
            "Epoch 6/200\n",
            "34/34 [==============================] - 0s 4ms/step - loss: 6247.7690 - mae: 6247.7690\n",
            "Epoch 7/200\n",
            "34/34 [==============================] - 0s 4ms/step - loss: 5993.0396 - mae: 5993.0396\n",
            "Epoch 8/200\n",
            "34/34 [==============================] - 0s 4ms/step - loss: 5773.8643 - mae: 5773.8643\n",
            "Epoch 9/200\n",
            "34/34 [==============================] - 0s 4ms/step - loss: 5178.0620 - mae: 5178.0620\n",
            "Epoch 10/200\n",
            "34/34 [==============================] - 0s 4ms/step - loss: 4337.2080 - mae: 4337.2080\n",
            "Epoch 11/200\n",
            "34/34 [==============================] - 0s 4ms/step - loss: 3888.9521 - mae: 3888.9521\n",
            "Epoch 12/200\n",
            "34/34 [==============================] - 0s 4ms/step - loss: 3850.9429 - mae: 3850.9429\n",
            "Epoch 13/200\n",
            "34/34 [==============================] - 0s 4ms/step - loss: 3762.6152 - mae: 3762.6152\n",
            "Epoch 14/200\n",
            "34/34 [==============================] - 0s 4ms/step - loss: 3783.9802 - mae: 3783.9802\n",
            "Epoch 15/200\n",
            "34/34 [==============================] - 0s 4ms/step - loss: 3851.2456 - mae: 3851.2456\n",
            "Epoch 16/200\n",
            "34/34 [==============================] - 0s 4ms/step - loss: 3758.3730 - mae: 3758.3730\n",
            "Epoch 17/200\n",
            "34/34 [==============================] - 0s 4ms/step - loss: 3817.5679 - mae: 3817.5679\n",
            "Epoch 18/200\n",
            "34/34 [==============================] - 0s 4ms/step - loss: 3720.8345 - mae: 3720.8345\n",
            "Epoch 19/200\n",
            "34/34 [==============================] - 0s 4ms/step - loss: 3694.3042 - mae: 3694.3042\n",
            "Epoch 20/200\n",
            "34/34 [==============================] - 0s 4ms/step - loss: 3803.1169 - mae: 3803.1169\n",
            "Epoch 21/200\n",
            "34/34 [==============================] - 0s 4ms/step - loss: 3758.2627 - mae: 3758.2627\n",
            "Epoch 22/200\n",
            "34/34 [==============================] - 0s 4ms/step - loss: 3769.5161 - mae: 3769.5161\n",
            "Epoch 23/200\n",
            "34/34 [==============================] - 0s 4ms/step - loss: 3737.1479 - mae: 3737.1479\n",
            "Epoch 24/200\n",
            "34/34 [==============================] - 0s 4ms/step - loss: 3642.9204 - mae: 3642.9204\n",
            "Epoch 25/200\n",
            "34/34 [==============================] - 0s 4ms/step - loss: 3712.7500 - mae: 3712.7500\n",
            "Epoch 26/200\n",
            "34/34 [==============================] - 0s 4ms/step - loss: 3765.5200 - mae: 3765.5200\n",
            "Epoch 27/200\n",
            "34/34 [==============================] - 0s 4ms/step - loss: 3761.5144 - mae: 3761.5144\n",
            "Epoch 28/200\n",
            "34/34 [==============================] - 0s 4ms/step - loss: 3695.0212 - mae: 3695.0212\n",
            "Epoch 29/200\n",
            "34/34 [==============================] - 0s 4ms/step - loss: 3606.9014 - mae: 3606.9014\n",
            "Epoch 30/200\n",
            "34/34 [==============================] - 0s 4ms/step - loss: 3648.1160 - mae: 3648.1160\n",
            "Epoch 31/200\n",
            "34/34 [==============================] - 0s 4ms/step - loss: 3654.7241 - mae: 3654.7241\n",
            "Epoch 32/200\n",
            "34/34 [==============================] - 0s 4ms/step - loss: 3601.0364 - mae: 3601.0364\n",
            "Epoch 33/200\n",
            "34/34 [==============================] - 0s 4ms/step - loss: 3578.4949 - mae: 3578.4949\n",
            "Epoch 34/200\n",
            "34/34 [==============================] - 0s 4ms/step - loss: 3625.7085 - mae: 3625.7085\n",
            "Epoch 35/200\n",
            "34/34 [==============================] - 0s 4ms/step - loss: 3603.5823 - mae: 3603.5823\n",
            "Epoch 36/200\n",
            "34/34 [==============================] - 0s 4ms/step - loss: 3537.5044 - mae: 3537.5044\n",
            "Epoch 37/200\n",
            "34/34 [==============================] - 0s 4ms/step - loss: 3553.1113 - mae: 3553.1113\n",
            "Epoch 38/200\n",
            "34/34 [==============================] - 0s 4ms/step - loss: 3559.7913 - mae: 3559.7913\n",
            "Epoch 39/200\n",
            "34/34 [==============================] - 0s 4ms/step - loss: 3513.8921 - mae: 3513.8921\n",
            "Epoch 40/200\n",
            "34/34 [==============================] - 0s 4ms/step - loss: 3542.5715 - mae: 3542.5715\n",
            "Epoch 41/200\n",
            "34/34 [==============================] - 0s 4ms/step - loss: 3512.2090 - mae: 3512.2090\n",
            "Epoch 42/200\n",
            "34/34 [==============================] - 0s 4ms/step - loss: 3554.1001 - mae: 3554.1001\n",
            "Epoch 43/200\n",
            "34/34 [==============================] - 0s 4ms/step - loss: 3588.9438 - mae: 3588.9438\n",
            "Epoch 44/200\n",
            "34/34 [==============================] - 0s 4ms/step - loss: 3510.1157 - mae: 3510.1157\n",
            "Epoch 45/200\n",
            "34/34 [==============================] - 0s 4ms/step - loss: 3526.1047 - mae: 3526.1047\n",
            "Epoch 46/200\n",
            "34/34 [==============================] - 0s 4ms/step - loss: 3574.4956 - mae: 3574.4956\n",
            "Epoch 47/200\n",
            "34/34 [==============================] - 0s 4ms/step - loss: 3586.5381 - mae: 3586.5381\n",
            "Epoch 48/200\n",
            "34/34 [==============================] - 0s 4ms/step - loss: 3553.1077 - mae: 3553.1077\n",
            "Epoch 49/200\n",
            "34/34 [==============================] - 0s 4ms/step - loss: 3530.3442 - mae: 3530.3442\n"
          ]
        }
      ]
    },
    {
      "cell_type": "code",
      "source": [
        "insurance_model.evaluate(X_test, y_test)"
      ],
      "metadata": {
        "colab": {
          "base_uri": "https://localhost:8080/"
        },
        "id": "jh1eBFMHpSSr",
        "outputId": "9f3749ea-3657-4c13-ee68-53c2842e21df"
      },
      "execution_count": null,
      "outputs": [
        {
          "output_type": "stream",
          "name": "stdout",
          "text": [
            "9/9 [==============================] - 0s 3ms/step - loss: 3168.8518 - mae: 3168.8518\n"
          ]
        },
        {
          "output_type": "execute_result",
          "data": {
            "text/plain": [
              "[3168.851806640625, 3168.851806640625]"
            ]
          },
          "metadata": {},
          "execution_count": 164
        }
      ]
    },
    {
      "cell_type": "code",
      "source": [
        "pd.DataFrame(history.history).plot()"
      ],
      "metadata": {
        "colab": {
          "base_uri": "https://localhost:8080/",
          "height": 282
        },
        "id": "RTga3wmOytkd",
        "outputId": "f206433c-35fd-4709-b469-055ce7b6f4e9"
      },
      "execution_count": null,
      "outputs": [
        {
          "output_type": "execute_result",
          "data": {
            "text/plain": [
              "<matplotlib.axes._subplots.AxesSubplot at 0x7f3c7d58fc10>"
            ]
          },
          "metadata": {},
          "execution_count": 165
        },
        {
          "output_type": "display_data",
          "data": {
            "image/png": "[encoded data removed]",
            "text/plain": [
              "<Figure size 432x288 with 1 Axes>"
            ]
          },
          "metadata": {
            "needs_background": "light"
          }
        }
      ]
    },
    {
      "cell_type": "code",
      "source": [
        "y_train.median(), y_train.mean()"
      ],
      "metadata": {
        "colab": {
          "base_uri": "https://localhost:8080/"
        },
        "id": "oVK-MFR_ppm1",
        "outputId": "0fe14ab4-46d6-48d7-ea41-ce51aed5ffca"
      },
      "execution_count": null,
      "outputs": [
        {
          "output_type": "execute_result",
          "data": {
            "text/plain": [
              "(9575.4421, 13346.089736364489)"
            ]
          },
          "metadata": {},
          "execution_count": 166
        }
      ]
    },
    {
      "cell_type": "code",
      "source": [
        "X['age'].plot(kind = 'hist');"
      ],
      "metadata": {
        "colab": {
          "base_uri": "https://localhost:8080/",
          "height": 265
        },
        "id": "XZTqR64PeHb2",
        "outputId": "68375d79-f84e-48a9-f53f-69459cb02edb"
      },
      "execution_count": null,
      "outputs": [
        {
          "output_type": "display_data",
          "data": {
            "image/png": "[encoded data removed]",
            "text/plain": [
              "<Figure size 432x288 with 1 Axes>"
            ]
          },
          "metadata": {
            "needs_background": "light"
          }
        }
      ]
    },
    {
      "cell_type": "code",
      "source": [
        "X['bmi'].plot(kind = 'hist')"
      ],
      "metadata": {
        "colab": {
          "base_uri": "https://localhost:8080/",
          "height": 282
        },
        "id": "PpTZ-ZeR_-I0",
        "outputId": "8a12a6fa-81c7-4fa2-be29-21698dd9cd13"
      },
      "execution_count": null,
      "outputs": [
        {
          "output_type": "execute_result",
          "data": {
            "text/plain": [
              "<matplotlib.axes._subplots.AxesSubplot at 0x7f3c7d37c410>"
            ]
          },
          "metadata": {},
          "execution_count": 169
        },
        {
          "output_type": "display_data",
          "data": {
            "image/png": "[encoded data removed]",
            "text/plain": [
              "<Figure size 432x288 with 1 Axes>"
            ]
          },
          "metadata": {
            "needs_background": "light"
          }
        }
      ]
    },
    {
      "cell_type": "code",
      "source": [
        "X['children'].value_counts()"
      ],
      "metadata": {
        "colab": {
          "base_uri": "https://localhost:8080/"
        },
        "id": "6LO1TH-XAV82",
        "outputId": "7812b8d8-8317-41b7-f179-99a65a599315"
      },
      "execution_count": null,
      "outputs": [
        {
          "output_type": "execute_result",
          "data": {
            "text/plain": [
              "0    574\n",
              "1    324\n",
              "2    240\n",
              "3    157\n",
              "4     25\n",
              "5     18\n",
              "Name: children, dtype: int64"
            ]
          },
          "metadata": {},
          "execution_count": 170
        }
      ]
    },
    {
      "cell_type": "code",
      "source": [
        "import tensorflow as tf\n",
        "import pandas as pd\n",
        "import matplotlib.pyplot as plt\n",
        "\n",
        "insurance = pd.read_csv('https://raw.githubusercontent.com/stedy/Machine-Learning-with-R-datasets/master/insurance.csv')\n",
        "insurance.head()"
      ],
      "metadata": {
        "colab": {
          "base_uri": "https://localhost:8080/",
          "height": 206
        },
        "id": "gXPX-uF3Ak7g",
        "outputId": "e58d1f52-0580-4a65-a74f-dd8446e68171"
      },
      "execution_count": null,
      "outputs": [
        {
          "output_type": "execute_result",
          "data": {
            "text/html": [
              "<div>\n",
              "<style scoped>\n",
              "    .dataframe tbody tr th:only-of-type {\n",
              "        vertical-align: middle;\n",
              "    }\n",
              "\n",
              "    .dataframe tbody tr th {\n",
              "        vertical-align: top;\n",
              "    }\n",
              "\n",
              "    .dataframe thead th {\n",
              "        text-align: right;\n",
              "    }\n",
              "</style>\n",
              "<table border=\"1\" class=\"dataframe\">\n",
              "  <thead>\n",
              "    <tr style=\"text-align: right;\">\n",
              "      <th></th>\n",
              "      <th>age</th>\n",
              "      <th>sex</th>\n",
              "      <th>bmi</th>\n",
              "      <th>children</th>\n",
              "      <th>smoker</th>\n",
              "      <th>region</th>\n",
              "      <th>charges</th>\n",
              "    </tr>\n",
              "  </thead>\n",
              "  <tbody>\n",
              "    <tr>\n",
              "      <th>0</th>\n",
              "      <td>19</td>\n",
              "      <td>female</td>\n",
              "      <td>27.900</td>\n",
              "      <td>0</td>\n",
              "      <td>yes</td>\n",
              "      <td>southwest</td>\n",
              "      <td>16884.92400</td>\n",
              "    </tr>\n",
              "    <tr>\n",
              "      <th>1</th>\n",
              "      <td>18</td>\n",
              "      <td>male</td>\n",
              "      <td>33.770</td>\n",
              "      <td>1</td>\n",
              "      <td>no</td>\n",
              "      <td>southeast</td>\n",
              "      <td>1725.55230</td>\n",
              "    </tr>\n",
              "    <tr>\n",
              "      <th>2</th>\n",
              "      <td>28</td>\n",
              "      <td>male</td>\n",
              "      <td>33.000</td>\n",
              "      <td>3</td>\n",
              "      <td>no</td>\n",
              "      <td>southeast</td>\n",
              "      <td>4449.46200</td>\n",
              "    </tr>\n",
              "    <tr>\n",
              "      <th>3</th>\n",
              "      <td>33</td>\n",
              "      <td>male</td>\n",
              "      <td>22.705</td>\n",
              "      <td>0</td>\n",
              "      <td>no</td>\n",
              "      <td>northwest</td>\n",
              "      <td>21984.47061</td>\n",
              "    </tr>\n",
              "    <tr>\n",
              "      <th>4</th>\n",
              "      <td>32</td>\n",
              "      <td>male</td>\n",
              "      <td>28.880</td>\n",
              "      <td>0</td>\n",
              "      <td>no</td>\n",
              "      <td>northwest</td>\n",
              "      <td>3866.85520</td>\n",
              "    </tr>\n",
              "  </tbody>\n",
              "</table>\n",
              "</div>"
            ],
            "text/plain": [
              "   age     sex     bmi  children smoker     region      charges\n",
              "0   19  female  27.900         0    yes  southwest  16884.92400\n",
              "1   18    male  33.770         1     no  southeast   1725.55230\n",
              "2   28    male  33.000         3     no  southeast   4449.46200\n",
              "3   33    male  22.705         0     no  northwest  21984.47061\n",
              "4   32    male  28.880         0     no  northwest   3866.85520"
            ]
          },
          "metadata": {},
          "execution_count": 172
        }
      ]
    },
    {
      "cell_type": "code",
      "source": [
        ""
      ],
      "metadata": {
        "id": "M4zsyc9IpvDs"
      },
      "execution_count": null,
      "outputs": []
    },
    {
      "cell_type": "code",
      "source": [
        "from sklearn.compose import make_column_transformer\n",
        "from sklearn.preprocessing import MinMaxScaler, OneHotEncoder\n",
        "from sklearn.model_selection import train_test_split\n",
        "\n",
        "ct = make_column_transformer((MinMaxScaler(), ['age', 'bmi', 'children']),\n",
        "                             (OneHotEncoder(handle_unknown= 'ignore'), ['sex', 'smoker', 'region']))\n",
        "X = insurance.drop('charges', axis = 1)\n",
        "y = insurance['charges']\n",
        "\n",
        "\n",
        "X_train, X_test, y_train, y_test = train_test_split(X, y, test_size = 0.2, random_state = 42)\n",
        "\n",
        "ct.fit(X_train)\n",
        "\n",
        "\n",
        "X_train_normal = ct.transform(X_train)\n",
        "X_test_normal = ct.transform(X_test)"
      ],
      "metadata": {
        "id": "5-E9cH-zCXD6",
        "colab": {
          "base_uri": "https://localhost:8080/"
        },
        "outputId": "b49aa06c-d861-4f68-ba9a-5ffb550f8243"
      },
      "execution_count": null,
      "outputs": [
        {
          "output_type": "execute_result",
          "data": {
            "text/plain": [
              "array([[0.58695652, 0.24791499, 0.4       , ..., 0.        , 0.        ,\n",
              "        0.        ],\n",
              "       [0.39130435, 0.37826204, 0.        , ..., 1.        , 0.        ,\n",
              "        0.        ],\n",
              "       [1.        , 0.29391983, 0.        , ..., 1.        , 0.        ,\n",
              "        0.        ],\n",
              "       ...,\n",
              "       [0.43478261, 0.32458972, 0.2       , ..., 0.        , 0.        ,\n",
              "        0.        ],\n",
              "       [0.7826087 , 0.84611246, 0.        , ..., 0.        , 1.        ,\n",
              "        0.        ],\n",
              "       [0.7173913 , 0.49071832, 0.2       , ..., 0.        , 0.        ,\n",
              "        1.        ]])"
            ]
          },
          "metadata": {},
          "execution_count": 187
        }
      ]
    },
    {
      "cell_type": "code",
      "source": [
        "X_train.loc[0]"
      ],
      "metadata": {
        "colab": {
          "base_uri": "https://localhost:8080/"
        },
        "id": "TyPIjtpYyu9p",
        "outputId": "1d032b73-f1c3-4947-a4d9-7d1719f8c7ba"
      },
      "execution_count": null,
      "outputs": [
        {
          "output_type": "execute_result",
          "data": {
            "text/plain": [
              "age                19\n",
              "sex            female\n",
              "bmi              27.9\n",
              "children            0\n",
              "smoker            yes\n",
              "region      southwest\n",
              "Name: 0, dtype: object"
            ]
          },
          "metadata": {},
          "execution_count": 192
        }
      ]
    },
    {
      "cell_type": "code",
      "source": [
        "X_train_normal[0]"
      ],
      "metadata": {
        "colab": {
          "base_uri": "https://localhost:8080/"
        },
        "id": "jH0BT0GICxJR",
        "outputId": "6def7057-6fae-461c-9141-66cb03a2d5e6"
      },
      "execution_count": null,
      "outputs": [
        {
          "output_type": "execute_result",
          "data": {
            "text/plain": [
              "array([0.60869565, 0.10734463, 0.4       , 1.        , 0.        ,\n",
              "       1.        , 0.        , 0.        , 1.        , 0.        ,\n",
              "       0.        ])"
            ]
          },
          "metadata": {},
          "execution_count": 190
        }
      ]
    },
    {
      "cell_type": "code",
      "source": [
        "insurance_model.summary()"
      ],
      "metadata": {
        "colab": {
          "base_uri": "https://localhost:8080/"
        },
        "id": "qfGWFw4zEWsj",
        "outputId": "7ffc1770-a380-4546-807c-44db0aef08ca"
      },
      "execution_count": null,
      "outputs": [
        {
          "output_type": "stream",
          "name": "stdout",
          "text": [
            "Model: \"sequential_19\"\n",
            "_________________________________________________________________\n",
            " Layer (type)                Output Shape              Param #   \n",
            "=================================================================\n",
            " dense_33 (Dense)            (None, 100)               1200      \n",
            "                                                                 \n",
            " dense_34 (Dense)            (None, 36)                3636      \n",
            "                                                                 \n",
            " dense_35 (Dense)            (None, 1)                 37        \n",
            "                                                                 \n",
            "=================================================================\n",
            "Total params: 4,873\n",
            "Trainable params: 4,873\n",
            "Non-trainable params: 0\n",
            "_________________________________________________________________\n"
          ]
        }
      ]
    },
    {
      "cell_type": "code",
      "source": [
        "tf.random.set_seed(42)\n",
        "callback = tf.keras.callbacks.EarlyStopping(monitor='loss', patience=5)\n",
        "\n",
        "insurance_model_2 = tf.keras.Sequential([\n",
        "    tf.keras.layers.Dense(100),\n",
        "    tf.keras.layers.Dense(36),\n",
        "    tf.keras.layers.Dense(1)\n",
        "])\n",
        "\n",
        "insurance_model_2.compile(loss = tf.keras.losses.mae,\n",
        "                          optimizer = tf.keras.optimizers.Adam(learning_rate= 0.01),\n",
        "                          metrics = ['mae'])\n",
        "\n",
        "history = insurance_model_2.fit(X_train_normal, y_train, epochs = 200, callbacks=[callback])"
      ],
      "metadata": {
        "colab": {
          "base_uri": "https://localhost:8080/"
        },
        "id": "Pn1J_2kOC0Kk",
        "outputId": "47c1a31c-aa20-47d9-8842-d477c9f832dc"
      },
      "execution_count": null,
      "outputs": [
        {
          "output_type": "stream",
          "name": "stdout",
          "text": [
            "Epoch 1/200\n",
            "34/34 [==============================] - 1s 7ms/step - loss: 12997.3037 - mae: 12997.3037\n",
            "Epoch 2/200\n",
            "34/34 [==============================] - 0s 7ms/step - loss: 9253.3457 - mae: 9253.3457\n",
            "Epoch 3/200\n",
            "34/34 [==============================] - 0s 7ms/step - loss: 7680.1260 - mae: 7680.1260\n",
            "Epoch 4/200\n",
            "34/34 [==============================] - 0s 6ms/step - loss: 6917.3120 - mae: 6917.3120\n",
            "Epoch 5/200\n",
            "34/34 [==============================] - 0s 7ms/step - loss: 5832.5493 - mae: 5832.5493\n",
            "Epoch 6/200\n",
            "34/34 [==============================] - 0s 7ms/step - loss: 4311.2910 - mae: 4311.2910\n",
            "Epoch 7/200\n",
            "34/34 [==============================] - 0s 7ms/step - loss: 3699.7415 - mae: 3699.7415\n",
            "Epoch 8/200\n",
            "34/34 [==============================] - 0s 6ms/step - loss: 3647.5674 - mae: 3647.5674\n",
            "Epoch 9/200\n",
            "34/34 [==============================] - 0s 5ms/step - loss: 3611.1606 - mae: 3611.1606\n",
            "Epoch 10/200\n",
            "34/34 [==============================] - 0s 6ms/step - loss: 3612.8762 - mae: 3612.8762\n",
            "Epoch 11/200\n",
            "34/34 [==============================] - 0s 6ms/step - loss: 3575.1230 - mae: 3575.1230\n",
            "Epoch 12/200\n",
            "34/34 [==============================] - 0s 6ms/step - loss: 3580.3303 - mae: 3580.3303\n",
            "Epoch 13/200\n",
            "34/34 [==============================] - 0s 6ms/step - loss: 3524.8574 - mae: 3524.8574\n",
            "Epoch 14/200\n",
            "34/34 [==============================] - 0s 6ms/step - loss: 3544.1318 - mae: 3544.1318\n",
            "Epoch 15/200\n",
            "34/34 [==============================] - 0s 6ms/step - loss: 3518.7913 - mae: 3518.7913\n",
            "Epoch 16/200\n",
            "34/34 [==============================] - 0s 6ms/step - loss: 3498.2053 - mae: 3498.2053\n",
            "Epoch 17/200\n",
            "34/34 [==============================] - 0s 6ms/step - loss: 3525.4424 - mae: 3525.4424\n",
            "Epoch 18/200\n",
            "34/34 [==============================] - 0s 5ms/step - loss: 3488.7642 - mae: 3488.7642\n",
            "Epoch 19/200\n",
            "34/34 [==============================] - 0s 6ms/step - loss: 3519.1631 - mae: 3519.1631\n",
            "Epoch 20/200\n",
            "34/34 [==============================] - 0s 6ms/step - loss: 3499.8125 - mae: 3499.8125\n",
            "Epoch 21/200\n",
            "34/34 [==============================] - 0s 6ms/step - loss: 3488.3438 - mae: 3488.3438\n",
            "Epoch 22/200\n",
            "34/34 [==============================] - 0s 6ms/step - loss: 3502.8525 - mae: 3502.8525\n",
            "Epoch 23/200\n",
            "34/34 [==============================] - 0s 6ms/step - loss: 3500.1582 - mae: 3500.1582\n",
            "Epoch 24/200\n",
            "34/34 [==============================] - 0s 6ms/step - loss: 3517.5591 - mae: 3517.5591\n",
            "Epoch 25/200\n",
            "34/34 [==============================] - 0s 6ms/step - loss: 3562.3174 - mae: 3562.3174\n",
            "Epoch 26/200\n",
            "34/34 [==============================] - 0s 6ms/step - loss: 3501.0808 - mae: 3501.0808\n"
          ]
        }
      ]
    },
    {
      "cell_type": "code",
      "source": [
        "pd.DataFrame(history.history).plot()"
      ],
      "metadata": {
        "colab": {
          "base_uri": "https://localhost:8080/",
          "height": 282
        },
        "id": "tXUJOTw0GiG7",
        "outputId": "3c4072e0-8a14-413a-f443-a204192f08b3"
      },
      "execution_count": null,
      "outputs": [
        {
          "output_type": "execute_result",
          "data": {
            "text/plain": [
              "<matplotlib.axes._subplots.AxesSubplot at 0x7f3c74a1a050>"
            ]
          },
          "metadata": {},
          "execution_count": 204
        },
        {
          "output_type": "display_data",
          "data": {
            "image/png": "[encoded data removed]",
            "text/plain": [
              "<Figure size 432x288 with 1 Axes>"
            ]
          },
          "metadata": {
            "needs_background": "light"
          }
        }
      ]
    },
    {
      "cell_type": "code",
      "source": [
        "insurance_model_2.evaluate(X_test_normal, y_test)"
      ],
      "metadata": {
        "colab": {
          "base_uri": "https://localhost:8080/"
        },
        "id": "k4kFREd1Et2T",
        "outputId": "a99d46e7-8a7b-4ad0-b1cc-1a42a579f761"
      },
      "execution_count": null,
      "outputs": [
        {
          "output_type": "stream",
          "name": "stdout",
          "text": [
            "9/9 [==============================] - 0s 4ms/step - loss: 3191.8635 - mae: 3191.8635\n"
          ]
        },
        {
          "output_type": "execute_result",
          "data": {
            "text/plain": [
              "[3191.863525390625, 3191.863525390625]"
            ]
          },
          "metadata": {},
          "execution_count": 198
        }
      ]
    },
    {
      "cell_type": "code",
      "source": [
        ""
      ],
      "metadata": {
        "id": "KfMRNUpYHBbR"
      },
      "execution_count": null,
      "outputs": []
    }
  ]
}